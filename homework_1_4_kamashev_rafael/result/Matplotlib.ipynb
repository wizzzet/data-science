{
  "nbformat": 4,
  "nbformat_minor": 0,
  "metadata": {
    "kernelspec": {
      "display_name": "Python 3",
      "language": "python",
      "name": "python3"
    },
    "language_info": {
      "codemirror_mode": {
        "name": "ipython",
        "version": 3
      },
      "file_extension": ".py",
      "mimetype": "text/x-python",
      "name": "python",
      "nbconvert_exporter": "python",
      "pygments_lexer": "ipython3",
      "version": "3.8.3"
    },
    "colab": {
      "name": "Matplotlib.ipynb",
      "provenance": [],
      "collapsed_sections": [
        "2wbqvEePoazj",
        "BBSTmltgmHtd",
        "pVTPxGBrRIia",
        "naJG5MZjhXKC",
        "f7TVamjk_kqI"
      ]
    }
  },
  "cells": [
    {
      "cell_type": "markdown",
      "metadata": {
        "id": "2wbqvEePoazj"
      },
      "source": [
        "### Упражнение 1\n",
        "Напишите программу Python дляпостроенияграфиковфинансовыхданных Alphabet Inc. впериодс 3 октября 2016 г. по 7 октября 2016 г.\n"
      ]
    },
    {
      "cell_type": "code",
      "metadata": {
        "id": "frtVeGzWoazu"
      },
      "source": [
        "from io import StringIO\n",
        "from datetime import datetime\n",
        "import math\n",
        "import os\n",
        "import warnings\n",
        "\n",
        "import numpy as np\n",
        "import pandas as pd\n",
        "import matplotlib\n",
        "from matplotlib.ticker import FuncFormatter, LinearLocator, MultipleLocator\n",
        "import matplotlib.pyplot as plt\n",
        "\n",
        "warnings.filterwarnings(\"ignore\")\n",
        "\n",
        "%matplotlib inline"
      ],
      "execution_count": null,
      "outputs": []
    },
    {
      "cell_type": "code",
      "metadata": {
        "id": "kzTgXlgBoa0E"
      },
      "source": [
        "data_1 = StringIO(\n",
        "    '''Дата,открытие,максимум,минимум,закрытие\n",
        "10-03-16,774.25,776.065002,769.5,772.559998\n",
        "10-04-16,776.030029,778.710022,772.890015,776.429993\n",
        "10-05-16,779.309998,782.070007,775.650024,776.469971\n",
        "10-06-16,779,780.47998,775.539978,776.859985\n",
        "10-07-16,779.659973,779.659973,770.75,775.080017\n",
        "'''\n",
        ")"
      ],
      "execution_count": null,
      "outputs": []
    },
    {
      "cell_type": "code",
      "metadata": {
        "colab": {
          "base_uri": "https://localhost:8080/",
          "height": 204
        },
        "id": "cUEwHQnxlIFu",
        "outputId": "98b817ee-79a7-4f78-b2af-aa60b34614de"
      },
      "source": [
        "dateparse = lambda x: datetime.strptime(x, '%m-%d-%y')\n",
        "df = pd.read_csv(data_1, parse_dates=['Дата'], date_parser=dateparse)\n",
        "df.rename(columns={\n",
        "  'Дата': 'Date', \n",
        "  'открытие':'Open', \n",
        "  'максимум':'High', \n",
        "  'минимум':'Low', \n",
        "  'закрытие':'Close'\n",
        "}, inplace=True)\n",
        "df.head()"
      ],
      "execution_count": null,
      "outputs": [
        {
          "output_type": "execute_result",
          "data": {
            "text/html": [
              "<div>\n",
              "<style scoped>\n",
              "    .dataframe tbody tr th:only-of-type {\n",
              "        vertical-align: middle;\n",
              "    }\n",
              "\n",
              "    .dataframe tbody tr th {\n",
              "        vertical-align: top;\n",
              "    }\n",
              "\n",
              "    .dataframe thead th {\n",
              "        text-align: right;\n",
              "    }\n",
              "</style>\n",
              "<table border=\"1\" class=\"dataframe\">\n",
              "  <thead>\n",
              "    <tr style=\"text-align: right;\">\n",
              "      <th></th>\n",
              "      <th>Date</th>\n",
              "      <th>Open</th>\n",
              "      <th>High</th>\n",
              "      <th>Low</th>\n",
              "      <th>Close</th>\n",
              "    </tr>\n",
              "  </thead>\n",
              "  <tbody>\n",
              "    <tr>\n",
              "      <th>0</th>\n",
              "      <td>2016-10-03</td>\n",
              "      <td>774.250000</td>\n",
              "      <td>776.065002</td>\n",
              "      <td>769.500000</td>\n",
              "      <td>772.559998</td>\n",
              "    </tr>\n",
              "    <tr>\n",
              "      <th>1</th>\n",
              "      <td>2016-10-04</td>\n",
              "      <td>776.030029</td>\n",
              "      <td>778.710022</td>\n",
              "      <td>772.890015</td>\n",
              "      <td>776.429993</td>\n",
              "    </tr>\n",
              "    <tr>\n",
              "      <th>2</th>\n",
              "      <td>2016-10-05</td>\n",
              "      <td>779.309998</td>\n",
              "      <td>782.070007</td>\n",
              "      <td>775.650024</td>\n",
              "      <td>776.469971</td>\n",
              "    </tr>\n",
              "    <tr>\n",
              "      <th>3</th>\n",
              "      <td>2016-10-06</td>\n",
              "      <td>779.000000</td>\n",
              "      <td>780.479980</td>\n",
              "      <td>775.539978</td>\n",
              "      <td>776.859985</td>\n",
              "    </tr>\n",
              "    <tr>\n",
              "      <th>4</th>\n",
              "      <td>2016-10-07</td>\n",
              "      <td>779.659973</td>\n",
              "      <td>779.659973</td>\n",
              "      <td>770.750000</td>\n",
              "      <td>775.080017</td>\n",
              "    </tr>\n",
              "  </tbody>\n",
              "</table>\n",
              "</div>"
            ],
            "text/plain": [
              "        Date        Open        High         Low       Close\n",
              "0 2016-10-03  774.250000  776.065002  769.500000  772.559998\n",
              "1 2016-10-04  776.030029  778.710022  772.890015  776.429993\n",
              "2 2016-10-05  779.309998  782.070007  775.650024  776.469971\n",
              "3 2016-10-06  779.000000  780.479980  775.539978  776.859985\n",
              "4 2016-10-07  779.659973  779.659973  770.750000  775.080017"
            ]
          },
          "metadata": {},
          "execution_count": 91
        }
      ]
    },
    {
      "cell_type": "code",
      "metadata": {
        "id": "63nB3Anuoa0o",
        "colab": {
          "base_uri": "https://localhost:8080/",
          "height": 235
        },
        "outputId": "1c63fa72-c453-46ba-8787-0dcaf3204938"
      },
      "source": [
        "df = df.set_index(['Date'])\n",
        "df.head()"
      ],
      "execution_count": null,
      "outputs": [
        {
          "output_type": "execute_result",
          "data": {
            "text/html": [
              "<div>\n",
              "<style scoped>\n",
              "    .dataframe tbody tr th:only-of-type {\n",
              "        vertical-align: middle;\n",
              "    }\n",
              "\n",
              "    .dataframe tbody tr th {\n",
              "        vertical-align: top;\n",
              "    }\n",
              "\n",
              "    .dataframe thead th {\n",
              "        text-align: right;\n",
              "    }\n",
              "</style>\n",
              "<table border=\"1\" class=\"dataframe\">\n",
              "  <thead>\n",
              "    <tr style=\"text-align: right;\">\n",
              "      <th></th>\n",
              "      <th>Open</th>\n",
              "      <th>High</th>\n",
              "      <th>Low</th>\n",
              "      <th>Close</th>\n",
              "    </tr>\n",
              "    <tr>\n",
              "      <th>Date</th>\n",
              "      <th></th>\n",
              "      <th></th>\n",
              "      <th></th>\n",
              "      <th></th>\n",
              "    </tr>\n",
              "  </thead>\n",
              "  <tbody>\n",
              "    <tr>\n",
              "      <th>2016-10-03</th>\n",
              "      <td>774.250000</td>\n",
              "      <td>776.065002</td>\n",
              "      <td>769.500000</td>\n",
              "      <td>772.559998</td>\n",
              "    </tr>\n",
              "    <tr>\n",
              "      <th>2016-10-04</th>\n",
              "      <td>776.030029</td>\n",
              "      <td>778.710022</td>\n",
              "      <td>772.890015</td>\n",
              "      <td>776.429993</td>\n",
              "    </tr>\n",
              "    <tr>\n",
              "      <th>2016-10-05</th>\n",
              "      <td>779.309998</td>\n",
              "      <td>782.070007</td>\n",
              "      <td>775.650024</td>\n",
              "      <td>776.469971</td>\n",
              "    </tr>\n",
              "    <tr>\n",
              "      <th>2016-10-06</th>\n",
              "      <td>779.000000</td>\n",
              "      <td>780.479980</td>\n",
              "      <td>775.539978</td>\n",
              "      <td>776.859985</td>\n",
              "    </tr>\n",
              "    <tr>\n",
              "      <th>2016-10-07</th>\n",
              "      <td>779.659973</td>\n",
              "      <td>779.659973</td>\n",
              "      <td>770.750000</td>\n",
              "      <td>775.080017</td>\n",
              "    </tr>\n",
              "  </tbody>\n",
              "</table>\n",
              "</div>"
            ],
            "text/plain": [
              "                  Open        High         Low       Close\n",
              "Date                                                      \n",
              "2016-10-03  774.250000  776.065002  769.500000  772.559998\n",
              "2016-10-04  776.030029  778.710022  772.890015  776.429993\n",
              "2016-10-05  779.309998  782.070007  775.650024  776.469971\n",
              "2016-10-06  779.000000  780.479980  775.539978  776.859985\n",
              "2016-10-07  779.659973  779.659973  770.750000  775.080017"
            ]
          },
          "metadata": {},
          "execution_count": 92
        }
      ]
    },
    {
      "cell_type": "markdown",
      "metadata": {
        "id": "hP37WGdvoa1M"
      },
      "source": [
        "Выбор стиля:"
      ]
    },
    {
      "cell_type": "code",
      "metadata": {
        "id": "91KIWbU0oa1N"
      },
      "source": [
        "plt.style.use('ggplot')"
      ],
      "execution_count": null,
      "outputs": []
    },
    {
      "cell_type": "markdown",
      "metadata": {
        "id": "O7ECYoIxoa1Q"
      },
      "source": [
        "Вывод результата:"
      ]
    },
    {
      "cell_type": "code",
      "metadata": {
        "id": "WeBLyZqmoa1R",
        "colab": {
          "base_uri": "https://localhost:8080/",
          "height": 289
        },
        "outputId": "a9229d68-6346-4d7d-879c-40c4d3553fcd"
      },
      "source": [
        "_, ax = plt.subplots()\n",
        "ax.patch.set_facecolor('w')\n",
        "ax.spines['top'].set_color('0.5')\n",
        "ax.spines['right'].set_color('0.5')\n",
        "ax.spines['bottom'].set_color('0.5')\n",
        "ax.spines['left'].set_color('0.5')\n",
        "ax.margins(0.05)\n",
        "ax.xaxis.get_label().set_visible(False)\n",
        "\n",
        "df.plot(kind='line', ax=ax)\n",
        "\n",
        "legend = ax.legend()\n",
        "legend.get_frame().set_facecolor('w')\n",
        "\n",
        "save_path = 'homework_1_4_kamashev_rafael'\n",
        "if not os.path.exists(save_path):\n",
        "    os.makedirs(save_path)\n",
        "\n",
        "plt.savefig(os.path.join(save_path, 'plot_01.png'))\n",
        "plt.show()\n",
        "plt.close()"
      ],
      "execution_count": null,
      "outputs": [
        {
          "output_type": "display_data",
          "data": {
            "image/png": "[encoded data removed]",
            "text/plain": [
              "<Figure size 432x288 with 1 Axes>"
            ]
          },
          "metadata": {}
        }
      ]
    },
    {
      "cell_type": "markdown",
      "metadata": {
        "id": "BBSTmltgmHtd"
      },
      "source": [
        "### Упражнение 2\n",
        "Напишите программу Python для отображения сетки и построения линейных диаграмм конечной стоимости Alphabet Inc. в период с 3 октября 2016 года по 7 октября 2016 года. Настроены линии сетки со стилем линий -, шириной 0,5. и цвет синий."
      ]
    },
    {
      "cell_type": "code",
      "metadata": {
        "id": "xzhVEd_oeZH4"
      },
      "source": [
        "data_2 = StringIO(\n",
        "    f'''Дата,закрытие\n",
        "03-10-16,772.559998\n",
        "04-10-16,776.429993\n",
        "05-10-16,776.469971\n",
        "06-10-16,776.859985\n",
        "07-10-16,775.080017'''\n",
        ")\n"
      ],
      "execution_count": null,
      "outputs": []
    },
    {
      "cell_type": "code",
      "metadata": {
        "colab": {
          "base_uri": "https://localhost:8080/",
          "height": 204
        },
        "id": "t1yP4Au_wfF2",
        "outputId": "92f5dac2-ba9a-48d6-d592-490dc1d8b056"
      },
      "source": [
        "dateparse = lambda x: datetime.strptime(x, '%d-%m-%y')\n",
        "df2 = pd.read_csv(data_2, parse_dates=['Дата'], date_parser=dateparse)\n",
        "df2.rename(columns={\n",
        "  'Дата': 'Date', \n",
        "  'закрытие': 'Closing Value'\n",
        "}, inplace=True)\n",
        "df2.head()"
      ],
      "execution_count": null,
      "outputs": [
        {
          "output_type": "execute_result",
          "data": {
            "text/html": [
              "<div>\n",
              "<style scoped>\n",
              "    .dataframe tbody tr th:only-of-type {\n",
              "        vertical-align: middle;\n",
              "    }\n",
              "\n",
              "    .dataframe tbody tr th {\n",
              "        vertical-align: top;\n",
              "    }\n",
              "\n",
              "    .dataframe thead th {\n",
              "        text-align: right;\n",
              "    }\n",
              "</style>\n",
              "<table border=\"1\" class=\"dataframe\">\n",
              "  <thead>\n",
              "    <tr style=\"text-align: right;\">\n",
              "      <th></th>\n",
              "      <th>Date</th>\n",
              "      <th>Closing Value</th>\n",
              "    </tr>\n",
              "  </thead>\n",
              "  <tbody>\n",
              "    <tr>\n",
              "      <th>0</th>\n",
              "      <td>2016-10-03</td>\n",
              "      <td>772.559998</td>\n",
              "    </tr>\n",
              "    <tr>\n",
              "      <th>1</th>\n",
              "      <td>2016-10-04</td>\n",
              "      <td>776.429993</td>\n",
              "    </tr>\n",
              "    <tr>\n",
              "      <th>2</th>\n",
              "      <td>2016-10-05</td>\n",
              "      <td>776.469971</td>\n",
              "    </tr>\n",
              "    <tr>\n",
              "      <th>3</th>\n",
              "      <td>2016-10-06</td>\n",
              "      <td>776.859985</td>\n",
              "    </tr>\n",
              "    <tr>\n",
              "      <th>4</th>\n",
              "      <td>2016-10-07</td>\n",
              "      <td>775.080017</td>\n",
              "    </tr>\n",
              "  </tbody>\n",
              "</table>\n",
              "</div>"
            ],
            "text/plain": [
              "        Date  Closing Value\n",
              "0 2016-10-03     772.559998\n",
              "1 2016-10-04     776.429993\n",
              "2 2016-10-05     776.469971\n",
              "3 2016-10-06     776.859985\n",
              "4 2016-10-07     775.080017"
            ]
          },
          "metadata": {},
          "execution_count": 96
        }
      ]
    },
    {
      "cell_type": "code",
      "metadata": {
        "colab": {
          "base_uri": "https://localhost:8080/",
          "height": 235
        },
        "id": "mRmekMjBCJqx",
        "outputId": "daa3b6a7-cbb1-46a8-b808-9b7de5225696"
      },
      "source": [
        "df2 = df2.set_index(['Date'])\n",
        "df2.head()"
      ],
      "execution_count": null,
      "outputs": [
        {
          "output_type": "execute_result",
          "data": {
            "text/html": [
              "<div>\n",
              "<style scoped>\n",
              "    .dataframe tbody tr th:only-of-type {\n",
              "        vertical-align: middle;\n",
              "    }\n",
              "\n",
              "    .dataframe tbody tr th {\n",
              "        vertical-align: top;\n",
              "    }\n",
              "\n",
              "    .dataframe thead th {\n",
              "        text-align: right;\n",
              "    }\n",
              "</style>\n",
              "<table border=\"1\" class=\"dataframe\">\n",
              "  <thead>\n",
              "    <tr style=\"text-align: right;\">\n",
              "      <th></th>\n",
              "      <th>Closing Value</th>\n",
              "    </tr>\n",
              "    <tr>\n",
              "      <th>Date</th>\n",
              "      <th></th>\n",
              "    </tr>\n",
              "  </thead>\n",
              "  <tbody>\n",
              "    <tr>\n",
              "      <th>2016-10-03</th>\n",
              "      <td>772.559998</td>\n",
              "    </tr>\n",
              "    <tr>\n",
              "      <th>2016-10-04</th>\n",
              "      <td>776.429993</td>\n",
              "    </tr>\n",
              "    <tr>\n",
              "      <th>2016-10-05</th>\n",
              "      <td>776.469971</td>\n",
              "    </tr>\n",
              "    <tr>\n",
              "      <th>2016-10-06</th>\n",
              "      <td>776.859985</td>\n",
              "    </tr>\n",
              "    <tr>\n",
              "      <th>2016-10-07</th>\n",
              "      <td>775.080017</td>\n",
              "    </tr>\n",
              "  </tbody>\n",
              "</table>\n",
              "</div>"
            ],
            "text/plain": [
              "            Closing Value\n",
              "Date                     \n",
              "2016-10-03     772.559998\n",
              "2016-10-04     776.429993\n",
              "2016-10-05     776.469971\n",
              "2016-10-06     776.859985\n",
              "2016-10-07     775.080017"
            ]
          },
          "metadata": {},
          "execution_count": 97
        }
      ]
    },
    {
      "cell_type": "markdown",
      "metadata": {
        "id": "Ri6fPosdw-CK"
      },
      "source": [
        "Вывод диаграммы:"
      ]
    },
    {
      "cell_type": "code",
      "metadata": {
        "colab": {
          "base_uri": "https://localhost:8080/",
          "height": 405
        },
        "id": "_ethUN8axHHV",
        "outputId": "ef7e278e-8c97-48db-c68b-369cdfa35414"
      },
      "source": [
        "def date_formatter(x, pos):\n",
        "  x = matplotlib.dates.num2date(x)\n",
        "  return x.strftime('%y-%m-%d')\n",
        "\n",
        "\n",
        "_, ax = plt.subplots(figsize=(7, 6))\n",
        "closing_value = df2['Closing Value']\n",
        "ax.plot(\n",
        "    df2.index.to_pydatetime(), closing_value,\n",
        "    linestyle='-', marker='o'\n",
        ")\n",
        "\n",
        "ax.patch.set_facecolor('w')\n",
        "ax.spines['top'].set_color('0.5')\n",
        "ax.spines['right'].set_color('0.5')\n",
        "ax.spines['bottom'].set_color('0.5')\n",
        "ax.spines['left'].set_color('0.5')\n",
        "\n",
        "# Grids & ticks\n",
        "\n",
        "y_min, y_max = (\n",
        "    math.floor(closing_value.min() * 2) / 2,\n",
        "    math.ceil(closing_value.max())\n",
        ")\n",
        "ax.set_ylim([y_min, y_max])\n",
        "ax.set_xlim([df2.index[0], df2.index[-1]])\n",
        "ax.xaxis.set_major_formatter(FuncFormatter(date_formatter))\n",
        "ax.grid(color='b', linestyle='-', linewidth=.5)\n",
        "\n",
        "x_locator = LinearLocator(df.index.size)\n",
        "ax.xaxis.set_major_locator(x_locator)\n",
        "\n",
        "ax.set(xlabel='Date', ylabel='Closing Value')\n",
        "ax.set_title('Closing stock value of Alphabet inc.', fontsize=10)\n",
        "\n",
        "plt.savefig(os.path.join(save_path, 'plot_02.png'))\n",
        "plt.show()\n",
        "plt.close()"
      ],
      "execution_count": null,
      "outputs": [
        {
          "output_type": "display_data",
          "data": {
            "image/png": "[encoded data removed]",
            "text/plain": [
              "<Figure size 504x432 with 1 Axes>"
            ]
          },
          "metadata": {}
        }
      ]
    },
    {
      "cell_type": "markdown",
      "metadata": {
        "id": "pVTPxGBrRIia"
      },
      "source": [
        "### Упражнение 3\n",
        "Напишите программу Python для отображения гистограммы популярности языков программирования."
      ]
    },
    {
      "cell_type": "code",
      "metadata": {
        "id": "JubQ0Q1NRVif"
      },
      "source": [
        "data_3 = StringIO(\n",
        "    f'''Language,Popularity\n",
        "Java,22.2\n",
        "Python,17.6\n",
        "PHP,8.8\n",
        "JavaScript,8\n",
        "C#,7.7\n",
        "C++,6.7'''\n",
        ")"
      ],
      "execution_count": null,
      "outputs": []
    },
    {
      "cell_type": "code",
      "metadata": {
        "colab": {
          "base_uri": "https://localhost:8080/",
          "height": 235
        },
        "id": "gbz-qmV4SVwK",
        "outputId": "dfb76c43-2c49-4190-81e8-b1dee227d6e2"
      },
      "source": [
        "df3 = pd.read_csv(data_3)\n",
        "df3 = df3.set_index(['Language'])\n",
        "df3.head()"
      ],
      "execution_count": null,
      "outputs": [
        {
          "output_type": "execute_result",
          "data": {
            "text/html": [
              "<div>\n",
              "<style scoped>\n",
              "    .dataframe tbody tr th:only-of-type {\n",
              "        vertical-align: middle;\n",
              "    }\n",
              "\n",
              "    .dataframe tbody tr th {\n",
              "        vertical-align: top;\n",
              "    }\n",
              "\n",
              "    .dataframe thead th {\n",
              "        text-align: right;\n",
              "    }\n",
              "</style>\n",
              "<table border=\"1\" class=\"dataframe\">\n",
              "  <thead>\n",
              "    <tr style=\"text-align: right;\">\n",
              "      <th></th>\n",
              "      <th>Popularity</th>\n",
              "    </tr>\n",
              "    <tr>\n",
              "      <th>Language</th>\n",
              "      <th></th>\n",
              "    </tr>\n",
              "  </thead>\n",
              "  <tbody>\n",
              "    <tr>\n",
              "      <th>Java</th>\n",
              "      <td>22.2</td>\n",
              "    </tr>\n",
              "    <tr>\n",
              "      <th>Python</th>\n",
              "      <td>17.6</td>\n",
              "    </tr>\n",
              "    <tr>\n",
              "      <th>PHP</th>\n",
              "      <td>8.8</td>\n",
              "    </tr>\n",
              "    <tr>\n",
              "      <th>JavaScript</th>\n",
              "      <td>8.0</td>\n",
              "    </tr>\n",
              "    <tr>\n",
              "      <th>C#</th>\n",
              "      <td>7.7</td>\n",
              "    </tr>\n",
              "  </tbody>\n",
              "</table>\n",
              "</div>"
            ],
            "text/plain": [
              "            Popularity\n",
              "Language              \n",
              "Java              22.2\n",
              "Python            17.6\n",
              "PHP                8.8\n",
              "JavaScript         8.0\n",
              "C#                 7.7"
            ]
          },
          "metadata": {},
          "execution_count": 100
        }
      ]
    },
    {
      "cell_type": "code",
      "metadata": {
        "colab": {
          "base_uri": "https://localhost:8080/",
          "height": 414
        },
        "id": "Jzzp1qrhUHGC",
        "outputId": "895fc7d6-9b61-4b2b-d384-e17371c585aa"
      },
      "source": [
        "_, ax = plt.subplots(figsize=(7, 6))\n",
        "df3.plot.bar(\n",
        "    color='b', width=.8, align='edge', rot=0, ax=ax\n",
        ")\n",
        "ax.legend().set_visible(False)\n",
        "\n",
        "ax.patch.set_facecolor('w')\n",
        "ax.spines['top'].set_color('0.5')\n",
        "ax.spines['right'].set_color('0.5')\n",
        "ax.spines['bottom'].set_color('0.5')\n",
        "ax.spines['left'].set_color('0.5')\n",
        "\n",
        "ax.set_xlabel('Languages', fontsize=10)\n",
        "ax.set_ylabel('Popularity', fontsize=10)\n",
        "ax.set_title('''Popularity of Programming Language\n",
        "Worldwide, Oct 2017 compared to year ago''', fontsize=10)\n",
        "\n",
        "ax.yaxis.set_major_locator(MultipleLocator(5))\n",
        "ax.yaxis.set_minor_locator(MultipleLocator(1))\n",
        "ax.yaxis.grid(True, 'major', color='r', linewidth=1)\n",
        "ax.yaxis.grid(True, 'minor', color='#333333', linestyle=(0, (1, 4)))\n",
        "\n",
        "ax.xaxis.set_minor_locator(MultipleLocator(.2))\n",
        "ax.xaxis.grid(True, 'major', color='r', linewidth=1)\n",
        "ax.xaxis.grid(True, 'minor', color='#333333', linestyle=(0, (1, 4)))\n",
        "\n",
        "ax.set_ylim([0, math.ceil(df3['Popularity'].max() / 5) * 5])\n",
        "ax.set_xlim([0, df3.index.size])\n",
        "\n",
        "plt.savefig(os.path.join(save_path, 'plot_03.1.png'))\n",
        "plt.show()"
      ],
      "execution_count": null,
      "outputs": [
        {
          "output_type": "display_data",
          "data": {
            "image/png": "[encoded data removed]",
            "text/plain": [
              "<Figure size 504x432 with 1 Axes>"
            ]
          },
          "metadata": {}
        }
      ]
    },
    {
      "cell_type": "code",
      "metadata": {
        "colab": {
          "base_uri": "https://localhost:8080/",
          "height": 485
        },
        "id": "qWGl4r6ChqCK",
        "outputId": "c3b090cc-1916-4c7d-a3e1-b288cd17fd8c"
      },
      "source": [
        "_, ax = plt.subplots(figsize=(6, 7))\n",
        "ax.barh(\n",
        "    df3.index, df3['Popularity'],\n",
        "    align='edge', color=['orange', 'red', 'green', 'blue', 'cyan', 'purple']\n",
        ")\n",
        "ax.legend().set_visible(False)\n",
        "\n",
        "ax.patch.set_facecolor('w')\n",
        "ax.spines['top'].set_color('0.5')\n",
        "ax.spines['right'].set_color('0.5')\n",
        "ax.spines['bottom'].set_color('0.5')\n",
        "ax.spines['left'].set_color('0.5')\n",
        "\n",
        "ax.set_xlabel('Popularity', fontsize=10)\n",
        "ax.set_ylabel('Languages', fontsize=10)\n",
        "ax.set_title('''Popularity of Programming Language\n",
        "Worldwide, Oct 2017 compared to year ago''', fontsize=10)\n",
        "\n",
        "ax.yaxis.set_major_locator(MultipleLocator(1))\n",
        "ax.yaxis.set_minor_locator(MultipleLocator(0.2))\n",
        "ax.yaxis.grid(True, 'major', color='r', linewidth=1)\n",
        "ax.yaxis.grid(True, 'minor', color='#333333', linestyle=(0, (1, 4)))\n",
        "\n",
        "ax.xaxis.set_major_locator(MultipleLocator(5))\n",
        "ax.xaxis.set_minor_locator(MultipleLocator(1))\n",
        "ax.xaxis.grid(True, 'major', color='r', linewidth=1)\n",
        "ax.xaxis.grid(True, 'minor', color='#333333', linestyle=(0, (1, 4)))\n",
        "\n",
        "_ = ax.set_xlim([0, math.ceil(df3['Popularity'].max() / 5) * 5])\n",
        "_ = ax.set_ylim([0, df3.index.size])\n",
        "\n",
        "plt.savefig(os.path.join(save_path, 'plot_03.2.png'))\n",
        "plt.show()"
      ],
      "execution_count": null,
      "outputs": [
        {
          "output_type": "stream",
          "name": "stderr",
          "text": [
            "No handles with labels found to put in legend.\n"
          ]
        },
        {
          "output_type": "display_data",
          "data": {
            "image/png": "[encoded data removed]",
            "text/plain": [
              "<Figure size 432x504 with 1 Axes>"
            ]
          },
          "metadata": {}
        }
      ]
    },
    {
      "cell_type": "markdown",
      "metadata": {
        "id": "naJG5MZjhXKC"
      },
      "source": [
        "### Упражнение 4\n",
        "Напишите программу на Python, чтобы создать график столбиков стека и добавить метку к каждому разделу."
      ]
    },
    {
      "cell_type": "code",
      "metadata": {
        "colab": {
          "base_uri": "https://localhost:8080/",
          "height": 297
        },
        "id": "KO1b6Xa2qyoQ",
        "outputId": "b85d5b18-c4c5-4aac-b7b1-13ea1d740f44"
      },
      "source": [
        "people = ('G1', 'G2', 'G3', 'G4', 'G5', 'G6', 'G7', 'G8')\n",
        "segments = 4\n",
        "# multi-dimensional data\n",
        "raw_data_4 = [\n",
        "    [3.40022085, 7.70632498, 6.4097905, 10.51648577, 7.5330039, 7.1123587, 12.77792868, 3.44773477],\n",
        "    [11.24811149, 5.03778215, 6.65808464, 12.32220677, 7.45964195, 6.79685302, 7.24578743, 3.69371847],\n",
        "    [3.94253354, 4.74763549, 11.73529246, 4.6465543, 12.9952182, 4.63832778, 11.16849999, 8.56883433],\n",
        "    [4.24409799, 12.71746612, 11.3772169, 9.00514257, 10.47084185, 10.97567589, 3.98287652, 8.80552122]\n",
        "]\n",
        "# через python\n",
        "# data_4 = {man: [x[i] for x in raw_data_4] for i, man in enumerate(people)}\n",
        "# df4 = pd.DataFrame.from_dict(data_4, orient='index')\n",
        "# через numpy веселее\n",
        "people_array = np.array(raw_data_4)\n",
        "people_array = people_array.T\n",
        "df4 = pd.DataFrame(people_array, index=people)\n",
        "df4.head(8)"
      ],
      "execution_count": null,
      "outputs": [
        {
          "output_type": "execute_result",
          "data": {
            "text/html": [
              "<div>\n",
              "<style scoped>\n",
              "    .dataframe tbody tr th:only-of-type {\n",
              "        vertical-align: middle;\n",
              "    }\n",
              "\n",
              "    .dataframe tbody tr th {\n",
              "        vertical-align: top;\n",
              "    }\n",
              "\n",
              "    .dataframe thead th {\n",
              "        text-align: right;\n",
              "    }\n",
              "</style>\n",
              "<table border=\"1\" class=\"dataframe\">\n",
              "  <thead>\n",
              "    <tr style=\"text-align: right;\">\n",
              "      <th></th>\n",
              "      <th>0</th>\n",
              "      <th>1</th>\n",
              "      <th>2</th>\n",
              "      <th>3</th>\n",
              "    </tr>\n",
              "  </thead>\n",
              "  <tbody>\n",
              "    <tr>\n",
              "      <th>G1</th>\n",
              "      <td>3.400221</td>\n",
              "      <td>11.248111</td>\n",
              "      <td>3.942534</td>\n",
              "      <td>4.244098</td>\n",
              "    </tr>\n",
              "    <tr>\n",
              "      <th>G2</th>\n",
              "      <td>7.706325</td>\n",
              "      <td>5.037782</td>\n",
              "      <td>4.747635</td>\n",
              "      <td>12.717466</td>\n",
              "    </tr>\n",
              "    <tr>\n",
              "      <th>G3</th>\n",
              "      <td>6.409790</td>\n",
              "      <td>6.658085</td>\n",
              "      <td>11.735292</td>\n",
              "      <td>11.377217</td>\n",
              "    </tr>\n",
              "    <tr>\n",
              "      <th>G4</th>\n",
              "      <td>10.516486</td>\n",
              "      <td>12.322207</td>\n",
              "      <td>4.646554</td>\n",
              "      <td>9.005143</td>\n",
              "    </tr>\n",
              "    <tr>\n",
              "      <th>G5</th>\n",
              "      <td>7.533004</td>\n",
              "      <td>7.459642</td>\n",
              "      <td>12.995218</td>\n",
              "      <td>10.470842</td>\n",
              "    </tr>\n",
              "    <tr>\n",
              "      <th>G6</th>\n",
              "      <td>7.112359</td>\n",
              "      <td>6.796853</td>\n",
              "      <td>4.638328</td>\n",
              "      <td>10.975676</td>\n",
              "    </tr>\n",
              "    <tr>\n",
              "      <th>G7</th>\n",
              "      <td>12.777929</td>\n",
              "      <td>7.245787</td>\n",
              "      <td>11.168500</td>\n",
              "      <td>3.982877</td>\n",
              "    </tr>\n",
              "    <tr>\n",
              "      <th>G8</th>\n",
              "      <td>3.447735</td>\n",
              "      <td>3.693718</td>\n",
              "      <td>8.568834</td>\n",
              "      <td>8.805521</td>\n",
              "    </tr>\n",
              "  </tbody>\n",
              "</table>\n",
              "</div>"
            ],
            "text/plain": [
              "            0          1          2          3\n",
              "G1   3.400221  11.248111   3.942534   4.244098\n",
              "G2   7.706325   5.037782   4.747635  12.717466\n",
              "G3   6.409790   6.658085  11.735292  11.377217\n",
              "G4  10.516486  12.322207   4.646554   9.005143\n",
              "G5   7.533004   7.459642  12.995218  10.470842\n",
              "G6   7.112359   6.796853   4.638328  10.975676\n",
              "G7  12.777929   7.245787  11.168500   3.982877\n",
              "G8   3.447735   3.693718   8.568834   8.805521"
            ]
          },
          "metadata": {},
          "execution_count": 103
        }
      ]
    },
    {
      "cell_type": "markdown",
      "metadata": {
        "id": "kH_yeK0rzjyW"
      },
      "source": [
        "Рассчитаем суммы и проценты"
      ]
    },
    {
      "cell_type": "code",
      "metadata": {
        "colab": {
          "base_uri": "https://localhost:8080/"
        },
        "id": "4u8PURYzzP-f",
        "outputId": "4ba2d5ad-b726-40d8-c7b0-577d177cb5b9"
      },
      "source": [
        "totals = df4.sum(axis=1)\n",
        "percentages = df4.div(totals, axis=0) * 100\n",
        "# приведем к ряду % от общего количества по каждому человеку, транспонируем \n",
        "# и развернем, чтобы итерировать по \"кускам\" гистограммы \n",
        "percentages_flat = percentages.to_numpy().T.flatten()\n",
        "percentages_flat"
      ],
      "execution_count": null,
      "outputs": [
        {
          "output_type": "execute_result",
          "data": {
            "text/plain": [
              "array([14.89041485, 25.50985379, 17.71620338, 28.81987817, 19.58725267,\n",
              "       24.09073201, 36.32663833, 14.06331237, 49.25828459, 16.67631282,\n",
              "       18.40247065, 33.76836194, 19.39649756, 23.02206223, 20.59919929,\n",
              "       15.06668004, 17.26533732, 15.71585516, 32.43551063, 12.73363857,\n",
              "       33.79005584, 15.71078122, 31.75116015, 34.95228081, 18.58596324,\n",
              "       42.09797823, 31.44581534, 24.67812132, 27.22619393, 37.17642454,\n",
              "       11.32300222, 35.91772678])"
            ]
          },
          "metadata": {},
          "execution_count": 104
        }
      ]
    },
    {
      "cell_type": "code",
      "metadata": {
        "colab": {
          "base_uri": "https://localhost:8080/",
          "height": 388
        },
        "id": "l-bwEhtCwZ9R",
        "outputId": "78104cf3-f9d9-4822-fe8e-b8cb9e09fbd2"
      },
      "source": [
        "_, ax = plt.subplots(figsize=(7, 6))\n",
        "df4.plot(\n",
        "    kind='barh', stacked=True, ax=ax, width=0.8,\n",
        "    color=['r', 'g', 'w', '#d300c2'], edgecolor='0'\n",
        ")\n",
        "ax.legend().set_visible(False)\n",
        "\n",
        "ax.patch.set_facecolor('w')\n",
        "ax.spines['top'].set_color('0.5')\n",
        "ax.spines['right'].set_color('0.5')\n",
        "ax.spines['bottom'].set_color('0.5')\n",
        "ax.spines['left'].set_color('0.5')\n",
        "\n",
        "ax.set_xlabel('Scores', fontsize=10)\n",
        "\n",
        "# _ = ax.set_xlim([0, math.ceil(df3['Popularity'].max() / 5) * 5])\n",
        "# _ = ax.set_ylim([0, df3.index.size])\n",
        "y_offset = -0.48\n",
        "for i, bar in enumerate(ax.patches):\n",
        "    # print(bar.get_width(), i)\n",
        "    ax.text(\n",
        "        bar.get_x() + bar.get_width() / 2,\n",
        "        bar.get_height() + bar.get_y() + y_offset,\n",
        "        f'{round(percentages_flat[i])}%',\n",
        "        ha='center',\n",
        "        color='black',\n",
        "        size=10\n",
        "    )\n",
        "\n",
        "plt.savefig(os.path.join(save_path, 'plot_04.png'))\n",
        "plt.show()\n",
        "plt.close()"
      ],
      "execution_count": null,
      "outputs": [
        {
          "output_type": "display_data",
          "data": {
            "image/png": "[encoded data removed]",
            "text/plain": [
              "<Figure size 504x432 with 1 Axes>"
            ]
          },
          "metadata": {}
        }
      ]
    },
    {
      "cell_type": "markdown",
      "metadata": {
        "id": "f7TVamjk_kqI"
      },
      "source": [
        "### Упражнение 5\n",
        "Напишите программу на Python, чтобы нарисовать scatter диаграмму рассеяния для сравнения двух предметных оценок по математике и естествознанию. Используйте оценки 10 учеников."
      ]
    },
    {
      "cell_type": "code",
      "metadata": {
        "id": "xjH7RyQC_kYr",
        "colab": {
          "base_uri": "https://localhost:8080/",
          "height": 204
        },
        "outputId": "cf905738-0d92-4b23-ed4e-31fde3defd31"
      },
      "source": [
        "math_marks = [88, 92, 80, 89, 100, 80, 60, 100, 80, 34]\n",
        "science_marks = [35, 79, 79, 48, 100, 88, 32, 45, 20, 30]\n",
        "marks_range = [10, 20, 30, 40, 50, 60, 70, 80, 90, 100]\n",
        "\n",
        "df5 = pd.DataFrame({\n",
        "    'Math marks': math_marks,\n",
        "    'Science marks': science_marks,\n",
        "    'Marks range': marks_range\n",
        "})\n",
        "df5.head()"
      ],
      "execution_count": null,
      "outputs": [
        {
          "output_type": "execute_result",
          "data": {
            "text/html": [
              "<div>\n",
              "<style scoped>\n",
              "    .dataframe tbody tr th:only-of-type {\n",
              "        vertical-align: middle;\n",
              "    }\n",
              "\n",
              "    .dataframe tbody tr th {\n",
              "        vertical-align: top;\n",
              "    }\n",
              "\n",
              "    .dataframe thead th {\n",
              "        text-align: right;\n",
              "    }\n",
              "</style>\n",
              "<table border=\"1\" class=\"dataframe\">\n",
              "  <thead>\n",
              "    <tr style=\"text-align: right;\">\n",
              "      <th></th>\n",
              "      <th>Math marks</th>\n",
              "      <th>Science marks</th>\n",
              "      <th>Marks range</th>\n",
              "    </tr>\n",
              "  </thead>\n",
              "  <tbody>\n",
              "    <tr>\n",
              "      <th>0</th>\n",
              "      <td>88</td>\n",
              "      <td>35</td>\n",
              "      <td>10</td>\n",
              "    </tr>\n",
              "    <tr>\n",
              "      <th>1</th>\n",
              "      <td>92</td>\n",
              "      <td>79</td>\n",
              "      <td>20</td>\n",
              "    </tr>\n",
              "    <tr>\n",
              "      <th>2</th>\n",
              "      <td>80</td>\n",
              "      <td>79</td>\n",
              "      <td>30</td>\n",
              "    </tr>\n",
              "    <tr>\n",
              "      <th>3</th>\n",
              "      <td>89</td>\n",
              "      <td>48</td>\n",
              "      <td>40</td>\n",
              "    </tr>\n",
              "    <tr>\n",
              "      <th>4</th>\n",
              "      <td>100</td>\n",
              "      <td>100</td>\n",
              "      <td>50</td>\n",
              "    </tr>\n",
              "  </tbody>\n",
              "</table>\n",
              "</div>"
            ],
            "text/plain": [
              "   Math marks  Science marks  Marks range\n",
              "0          88             35           10\n",
              "1          92             79           20\n",
              "2          80             79           30\n",
              "3          89             48           40\n",
              "4         100            100           50"
            ]
          },
          "metadata": {},
          "execution_count": 106
        }
      ]
    },
    {
      "cell_type": "code",
      "metadata": {
        "colab": {
          "base_uri": "https://localhost:8080/",
          "height": 459
        },
        "id": "uMfgl7l5BbGT",
        "outputId": "4d357312-49c5-45bc-e58b-2714de6055b1"
      },
      "source": [
        "_, ax = plt.subplots(figsize=(8, 7), sharey='col')\n",
        "\n",
        "df5.plot.scatter(\n",
        "    x='Marks range', y='Math marks', color='r', s=50,\n",
        "    label='Math marks', ax=ax\n",
        ")    \n",
        "df5.plot.scatter(\n",
        "    x='Marks range', y='Science marks', color='g', s=50,\n",
        "    label='Science marks', ax=ax\n",
        ")\n",
        "ax.tick_params(which='major', left=True, right=True, direction='in')\n",
        "ax.set_title('Scatter plot')\n",
        "ax.set_ylabel('Marks Scored')\n",
        "\n",
        "ax.patch.set_facecolor('w')\n",
        "ax.spines['top'].set_color('0.5')\n",
        "ax.spines['right'].set_color('0.5')\n",
        "ax.spines['bottom'].set_color('0.5')\n",
        "ax.spines['left'].set_color('0.5')\n",
        "\n",
        "ax.set_xlim([0, 120])\n",
        "ax.set_yticks(np.array(marks_range))\n",
        "ax.yaxis.set_major_locator(MultipleLocator(20))\n",
        "legend_frame = ax.legend().get_frame()\n",
        "legend_frame.set_facecolor('w')\n",
        "legend_frame.set_edgecolor('0')\n",
        "\n",
        "plt.savefig(os.path.join(save_path, 'plot_05.png'))\n",
        "plt.show()\n",
        "plt.close()"
      ],
      "execution_count": null,
      "outputs": [
        {
          "output_type": "display_data",
          "data": {
            "image/png": "[encoded data removed]",
            "text/plain": [
              "<Figure size 576x504 with 1 Axes>"
            ]
          },
          "metadata": {}
        }
      ]
    }
  ]
}