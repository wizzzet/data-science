{
  "nbformat": 4,
  "nbformat_minor": 0,
  "metadata": {
    "colab": {
      "name": "SQL .ipynb",
      "provenance": []
    },
    "kernelspec": {
      "name": "python3",
      "display_name": "Python 3"
    }
  },
  "cells": [
    {
      "cell_type": "markdown",
      "metadata": {
        "id": "pAynvpmlvdZt"
      },
      "source": [
        "### Введение в SQL Sub-Queries\n",
        "\n"
      ]
    },
    {
      "cell_type": "code",
      "metadata": {
        "id": "_xkGEn95uh6W",
        "colab": {
          "base_uri": "https://localhost:8080/"
        },
        "outputId": "afc7721a-9fcc-4e87-8928-62dd8150324a"
      },
      "source": [
        "# Создаем Таблицу\n",
        "import sqlite3\n",
        "\n",
        "conn = sqlite3.connect('test.db')\n",
        "print(\"Opened database successfully\");\n",
        "\n",
        "conn.execute('''\n",
        "CREATE TABLE IF NOT EXISTS team_data(\n",
        "                      team text, \n",
        "                      country text, \n",
        "                      season integer, \n",
        "                      total_goals integer);''')\n",
        "\n",
        "conn.commit()\n",
        "\n",
        "print(\"Table created successfully\");\n",
        "\n",
        "#conn.close()"
      ],
      "execution_count": 26,
      "outputs": [
        {
          "output_type": "stream",
          "name": "stdout",
          "text": [
            "Opened database successfully\n",
            "Table created successfully\n"
          ]
        }
      ]
    },
    {
      "cell_type": "code",
      "metadata": {
        "id": "IACJu0hLUKTI"
      },
      "source": [
        "conn = sqlite3.connect('test.db')\n",
        "\n",
        "conn.execute('''\n",
        "CREATE TABLE IF NOT EXISTS team_players(\n",
        "                      team text, \n",
        "                      country text, \n",
        "                      player text, \n",
        "                      goals integer);''')\n",
        "\n",
        "conn.commit()\n"
      ],
      "execution_count": 27,
      "outputs": []
    },
    {
      "cell_type": "code",
      "metadata": {
        "id": "r9SeHPpgu73Z"
      },
      "source": [
        "# Добавляем значения\n",
        "\n",
        "conn.execute(\"INSERT INTO team_data VALUES('Real Madrid', 'Spain', 2019, 53);\")\n",
        "conn.execute(\"INSERT INTO team_data VALUES('Barcelona', 'Spain', 2019, 47);\")\n",
        "conn.execute(\"INSERT INTO team_data VALUES('Arsenal', 'UK', 2019, 52);\")\n",
        "conn.execute(\"INSERT INTO team_data VALUES('Real Madrid', 'Spain', 2018, 49);\")\n",
        "conn.execute(\"INSERT INTO team_data VALUES('Barcelona', 'Spain', 2018, 45);\")\n",
        "conn.execute(\"INSERT INTO team_data VALUES('Arsenal', 'UK', 2018, 50 );\")\n",
        "\n",
        "\n",
        "conn.execute(\"INSERT INTO team_players VALUES('Real Madrid', 'Spain', 'Huan', 10);\")\n",
        "conn.execute(\"INSERT INTO team_players VALUES('Barcelona', 'Spain', 'Honsales', 10);\")\n",
        "conn.execute(\"INSERT INTO team_players VALUES('Arsenal', 'UK', 'Bernd Leno', 5);\")\n",
        "conn.execute(\"INSERT INTO team_players VALUES('Real Madrid', 'Eder Militan', 2018, 4);\")\n",
        "conn.execute(\"INSERT INTO team_players VALUES('Barcelona', 'Spain', 'Nelsen Semedu', 4);\")\n",
        "conn.execute(\"INSERT INTO team_players VALUES('Arsenal', 'UK', 'Rob Holding', 5 );\")\n",
        "\n",
        "conn.commit()"
      ],
      "execution_count": 31,
      "outputs": []
    },
    {
      "cell_type": "code",
      "metadata": {
        "colab": {
          "base_uri": "https://localhost:8080/"
        },
        "id": "s7DI7bw4P3Sp",
        "outputId": "14904a7b-f98c-4293-e685-e4614dd92c83"
      },
      "source": [
        "#Представления\n",
        "\n",
        "cur = conn.execute(\"SELECT goals, team FROM team_players;\")\n",
        "\n",
        "cur.fetchall()"
      ],
      "execution_count": 33,
      "outputs": [
        {
          "output_type": "execute_result",
          "data": {
            "text/plain": [
              "[(10, 'Real Madrid'),\n",
              " (10, 'Barcelona'),\n",
              " (10, 'Real Madrid'),\n",
              " (10, 'Barcelona'),\n",
              " (5, 'Arsenal'),\n",
              " (4, 'Real Madrid'),\n",
              " (4, 'Barcelona'),\n",
              " (10, 'Real Madrid'),\n",
              " (10, 'Barcelona'),\n",
              " (5, 'Arsenal'),\n",
              " (4, 'Real Madrid'),\n",
              " (4, 'Barcelona'),\n",
              " (10, 'Real Madrid'),\n",
              " (10, 'Barcelona'),\n",
              " (5, 'Arsenal'),\n",
              " (4, 'Real Madrid'),\n",
              " (4, 'Barcelona'),\n",
              " (5, 'Arsenal')]"
            ]
          },
          "metadata": {},
          "execution_count": 33
        }
      ]
    },
    {
      "cell_type": "code",
      "metadata": {
        "colab": {
          "base_uri": "https://localhost:8080/"
        },
        "id": "sW7x22FJQrzP",
        "outputId": "5a1688cb-0660-4e16-b635-ea1c69cbb1c3"
      },
      "source": [
        "#Выборки\n",
        "\n",
        "cur = conn.execute(\"SELECT total_goals, team FROM team_data WHERE country != 'UK' OR total_goals> 50 ;\")\n",
        "\n",
        "cur.fetchall()"
      ],
      "execution_count": 17,
      "outputs": [
        {
          "output_type": "execute_result",
          "data": {
            "text/plain": [
              "[(53, 'Real Madrid'),\n",
              " (47, 'Barcelona'),\n",
              " (52, 'Arsenal'),\n",
              " (49, 'Real Madrid'),\n",
              " (45, 'Barcelona')]"
            ]
          },
          "metadata": {},
          "execution_count": 17
        }
      ]
    },
    {
      "cell_type": "code",
      "metadata": {
        "id": "L9nIsr9Jwuds",
        "colab": {
          "base_uri": "https://localhost:8080/"
        },
        "outputId": "ceb019dd-84a6-4af7-f19c-d3a87cc61509"
      },
      "source": [
        "# Вычисляем среднее\n",
        "\n",
        "conn = sqlite3.connect('test.db')\n",
        "\n",
        "cursor = conn.execute(''' SELECT team,country,\n",
        "                            AVG(total_goals) AS avg_goals\n",
        "                          FROM team_data\n",
        "                          GROUP BY team;''')\n",
        "\n",
        "for row in cursor:\n",
        "  print(row)\n",
        "conn.close()"
      ],
      "execution_count": 18,
      "outputs": [
        {
          "output_type": "stream",
          "name": "stdout",
          "text": [
            "('Arsenal', 'UK', 51.0)\n",
            "('Barcelona', 'Spain', 46.0)\n",
            "('Real Madrid', 'Spain', 51.0)\n"
          ]
        }
      ]
    },
    {
      "cell_type": "code",
      "metadata": {
        "id": "HfJEEubPye8h",
        "colab": {
          "base_uri": "https://localhost:8080/"
        },
        "outputId": "0e1e2ed2-8c9a-4a0c-e0e5-0c0022fc25e9"
      },
      "source": [
        "# Неправильный запрос\n",
        "\n",
        "conn = sqlite3.connect('test.db')\n",
        "\n",
        "cursor = conn.execute(''' SELECT team AS team_name ,\n",
        "                            AVG(total_goals) AS avg_goals\n",
        "                          FROM team_data                          \n",
        "                          GROUP BY team\n",
        "                          HAVING avg_goals > 50;''')\n",
        "\n",
        "for row in cursor:\n",
        "  print(row)\n",
        "conn.close()"
      ],
      "execution_count": 22,
      "outputs": [
        {
          "output_type": "stream",
          "name": "stdout",
          "text": [
            "('Arsenal', 51.0)\n",
            "('Real Madrid', 51.0)\n"
          ]
        }
      ]
    },
    {
      "cell_type": "code",
      "metadata": {
        "id": "NlJ3wc21zU3l",
        "colab": {
          "base_uri": "https://localhost:8080/"
        },
        "outputId": "75fefb86-019d-4833-9578-da099be34a39"
      },
      "source": [
        "# Правильный запрос\n",
        "\n",
        "conn = sqlite3.connect('test.db')\n",
        "\n",
        "cursor = conn.execute(''' SELECT team_name, avg_goals\n",
        "                          FROM (\n",
        "\n",
        "                          -- Here we make our sub-query:\n",
        "                            SELECT team AS team_name,\n",
        "                            AVG(total_goals) AS avg_goals\n",
        "                            FROM team_data\n",
        "                            GROUP BY team) tp\n",
        "                          -- End of the sub-query\n",
        "                          \n",
        "                          WHERE avg_goals > 50;''')\n",
        "\n",
        "for row in cursor:\n",
        "  print(row)\n",
        "conn.close()"
      ],
      "execution_count": 23,
      "outputs": [
        {
          "output_type": "stream",
          "name": "stdout",
          "text": [
            "('Arsenal', 51.0)\n",
            "('Real Madrid', 51.0)\n"
          ]
        }
      ]
    },
    {
      "cell_type": "code",
      "metadata": {
        "id": "Vq_j9OqEhdhR",
        "colab": {
          "base_uri": "https://localhost:8080/"
        },
        "outputId": "519accd2-9af9-4c5a-b590-4e136a536eab"
      },
      "source": [
        "#Joins\n",
        "\n",
        "conn = sqlite3.connect('test.db')\n",
        "\n",
        "cursor = conn.execute(''' SELECT team_data.team,team_data.country,player,total_goals, goals\n",
        "                          \n",
        "                          FROM team_data\n",
        "                          INNER JOIN team_players on team_data.team = team_players.team;''')\n",
        "\n",
        "cursor.fetchall()"
      ],
      "execution_count": 37,
      "outputs": [
        {
          "output_type": "execute_result",
          "data": {
            "text/plain": [
              "[('Real Madrid', 'Spain', '2018', 53, 4),\n",
              " ('Real Madrid', 'Spain', '2018', 53, 4),\n",
              " ('Real Madrid', 'Spain', '2018', 53, 4),\n",
              " ('Real Madrid', 'Spain', 'Huan', 53, 10),\n",
              " ('Real Madrid', 'Spain', 'Huan', 53, 10),\n",
              " ('Real Madrid', 'Spain', 'Huan', 53, 10),\n",
              " ('Real Madrid', 'Spain', 'Huan', 53, 10),\n",
              " ('Barcelona', 'Spain', 'Honsales', 47, 10),\n",
              " ('Barcelona', 'Spain', 'Honsales', 47, 10),\n",
              " ('Barcelona', 'Spain', 'Honsales', 47, 10),\n",
              " ('Barcelona', 'Spain', 'Honsales', 47, 10),\n",
              " ('Barcelona', 'Spain', 'Nelsen Semedu', 47, 4),\n",
              " ('Barcelona', 'Spain', 'Nelsen Semedu', 47, 4),\n",
              " ('Barcelona', 'Spain', 'Nelsen Semedu', 47, 4),\n",
              " ('Arsenal', 'UK', 'Bernd Leno', 52, 5),\n",
              " ('Arsenal', 'UK', 'Bernd Leno', 52, 5),\n",
              " ('Arsenal', 'UK', 'Bernd Leno', 52, 5),\n",
              " ('Arsenal', 'UK', 'Rob Holding', 52, 5),\n",
              " ('Real Madrid', 'Spain', '2018', 49, 4),\n",
              " ('Real Madrid', 'Spain', '2018', 49, 4),\n",
              " ('Real Madrid', 'Spain', '2018', 49, 4),\n",
              " ('Real Madrid', 'Spain', 'Huan', 49, 10),\n",
              " ('Real Madrid', 'Spain', 'Huan', 49, 10),\n",
              " ('Real Madrid', 'Spain', 'Huan', 49, 10),\n",
              " ('Real Madrid', 'Spain', 'Huan', 49, 10),\n",
              " ('Barcelona', 'Spain', 'Honsales', 45, 10),\n",
              " ('Barcelona', 'Spain', 'Honsales', 45, 10),\n",
              " ('Barcelona', 'Spain', 'Honsales', 45, 10),\n",
              " ('Barcelona', 'Spain', 'Honsales', 45, 10),\n",
              " ('Barcelona', 'Spain', 'Nelsen Semedu', 45, 4),\n",
              " ('Barcelona', 'Spain', 'Nelsen Semedu', 45, 4),\n",
              " ('Barcelona', 'Spain', 'Nelsen Semedu', 45, 4),\n",
              " ('Arsenal', 'UK', 'Bernd Leno', 50, 5),\n",
              " ('Arsenal', 'UK', 'Bernd Leno', 50, 5),\n",
              " ('Arsenal', 'UK', 'Bernd Leno', 50, 5),\n",
              " ('Arsenal', 'UK', 'Rob Holding', 50, 5),\n",
              " ('Real Madrid', 'Spain', '2018', 53, 4),\n",
              " ('Real Madrid', 'Spain', '2018', 53, 4),\n",
              " ('Real Madrid', 'Spain', '2018', 53, 4),\n",
              " ('Real Madrid', 'Spain', 'Huan', 53, 10),\n",
              " ('Real Madrid', 'Spain', 'Huan', 53, 10),\n",
              " ('Real Madrid', 'Spain', 'Huan', 53, 10),\n",
              " ('Real Madrid', 'Spain', 'Huan', 53, 10),\n",
              " ('Barcelona', 'Spain', 'Honsales', 47, 10),\n",
              " ('Barcelona', 'Spain', 'Honsales', 47, 10),\n",
              " ('Barcelona', 'Spain', 'Honsales', 47, 10),\n",
              " ('Barcelona', 'Spain', 'Honsales', 47, 10),\n",
              " ('Barcelona', 'Spain', 'Nelsen Semedu', 47, 4),\n",
              " ('Barcelona', 'Spain', 'Nelsen Semedu', 47, 4),\n",
              " ('Barcelona', 'Spain', 'Nelsen Semedu', 47, 4),\n",
              " ('Arsenal', 'UK', 'Bernd Leno', 52, 5),\n",
              " ('Arsenal', 'UK', 'Bernd Leno', 52, 5),\n",
              " ('Arsenal', 'UK', 'Bernd Leno', 52, 5),\n",
              " ('Arsenal', 'UK', 'Rob Holding', 52, 5),\n",
              " ('Real Madrid', 'Spain', '2018', 49, 4),\n",
              " ('Real Madrid', 'Spain', '2018', 49, 4),\n",
              " ('Real Madrid', 'Spain', '2018', 49, 4),\n",
              " ('Real Madrid', 'Spain', 'Huan', 49, 10),\n",
              " ('Real Madrid', 'Spain', 'Huan', 49, 10),\n",
              " ('Real Madrid', 'Spain', 'Huan', 49, 10),\n",
              " ('Real Madrid', 'Spain', 'Huan', 49, 10),\n",
              " ('Barcelona', 'Spain', 'Honsales', 45, 10),\n",
              " ('Barcelona', 'Spain', 'Honsales', 45, 10),\n",
              " ('Barcelona', 'Spain', 'Honsales', 45, 10),\n",
              " ('Barcelona', 'Spain', 'Honsales', 45, 10),\n",
              " ('Barcelona', 'Spain', 'Nelsen Semedu', 45, 4),\n",
              " ('Barcelona', 'Spain', 'Nelsen Semedu', 45, 4),\n",
              " ('Barcelona', 'Spain', 'Nelsen Semedu', 45, 4),\n",
              " ('Arsenal', 'UK', 'Bernd Leno', 50, 5),\n",
              " ('Arsenal', 'UK', 'Bernd Leno', 50, 5),\n",
              " ('Arsenal', 'UK', 'Bernd Leno', 50, 5),\n",
              " ('Arsenal', 'UK', 'Rob Holding', 50, 5),\n",
              " ('Real Madrid', 'Spain', '2018', 53, 4),\n",
              " ('Real Madrid', 'Spain', '2018', 53, 4),\n",
              " ('Real Madrid', 'Spain', '2018', 53, 4),\n",
              " ('Real Madrid', 'Spain', 'Huan', 53, 10),\n",
              " ('Real Madrid', 'Spain', 'Huan', 53, 10),\n",
              " ('Real Madrid', 'Spain', 'Huan', 53, 10),\n",
              " ('Real Madrid', 'Spain', 'Huan', 53, 10),\n",
              " ('Barcelona', 'Spain', 'Honsales', 47, 10),\n",
              " ('Barcelona', 'Spain', 'Honsales', 47, 10),\n",
              " ('Barcelona', 'Spain', 'Honsales', 47, 10),\n",
              " ('Barcelona', 'Spain', 'Honsales', 47, 10),\n",
              " ('Barcelona', 'Spain', 'Nelsen Semedu', 47, 4),\n",
              " ('Barcelona', 'Spain', 'Nelsen Semedu', 47, 4),\n",
              " ('Barcelona', 'Spain', 'Nelsen Semedu', 47, 4),\n",
              " ('Arsenal', 'UK', 'Bernd Leno', 52, 5),\n",
              " ('Arsenal', 'UK', 'Bernd Leno', 52, 5),\n",
              " ('Arsenal', 'UK', 'Bernd Leno', 52, 5),\n",
              " ('Arsenal', 'UK', 'Rob Holding', 52, 5),\n",
              " ('Real Madrid', 'Spain', '2018', 49, 4),\n",
              " ('Real Madrid', 'Spain', '2018', 49, 4),\n",
              " ('Real Madrid', 'Spain', '2018', 49, 4),\n",
              " ('Real Madrid', 'Spain', 'Huan', 49, 10),\n",
              " ('Real Madrid', 'Spain', 'Huan', 49, 10),\n",
              " ('Real Madrid', 'Spain', 'Huan', 49, 10),\n",
              " ('Real Madrid', 'Spain', 'Huan', 49, 10),\n",
              " ('Barcelona', 'Spain', 'Honsales', 45, 10),\n",
              " ('Barcelona', 'Spain', 'Honsales', 45, 10),\n",
              " ('Barcelona', 'Spain', 'Honsales', 45, 10),\n",
              " ('Barcelona', 'Spain', 'Honsales', 45, 10),\n",
              " ('Barcelona', 'Spain', 'Nelsen Semedu', 45, 4),\n",
              " ('Barcelona', 'Spain', 'Nelsen Semedu', 45, 4),\n",
              " ('Barcelona', 'Spain', 'Nelsen Semedu', 45, 4),\n",
              " ('Arsenal', 'UK', 'Bernd Leno', 50, 5),\n",
              " ('Arsenal', 'UK', 'Bernd Leno', 50, 5),\n",
              " ('Arsenal', 'UK', 'Bernd Leno', 50, 5),\n",
              " ('Arsenal', 'UK', 'Rob Holding', 50, 5),\n",
              " ('Real Madrid', 'Spain', '2018', 53, 4),\n",
              " ('Real Madrid', 'Spain', '2018', 53, 4),\n",
              " ('Real Madrid', 'Spain', '2018', 53, 4),\n",
              " ('Real Madrid', 'Spain', 'Huan', 53, 10),\n",
              " ('Real Madrid', 'Spain', 'Huan', 53, 10),\n",
              " ('Real Madrid', 'Spain', 'Huan', 53, 10),\n",
              " ('Real Madrid', 'Spain', 'Huan', 53, 10),\n",
              " ('Barcelona', 'Spain', 'Honsales', 47, 10),\n",
              " ('Barcelona', 'Spain', 'Honsales', 47, 10),\n",
              " ('Barcelona', 'Spain', 'Honsales', 47, 10),\n",
              " ('Barcelona', 'Spain', 'Honsales', 47, 10),\n",
              " ('Barcelona', 'Spain', 'Nelsen Semedu', 47, 4),\n",
              " ('Barcelona', 'Spain', 'Nelsen Semedu', 47, 4),\n",
              " ('Barcelona', 'Spain', 'Nelsen Semedu', 47, 4),\n",
              " ('Arsenal', 'UK', 'Bernd Leno', 52, 5),\n",
              " ('Arsenal', 'UK', 'Bernd Leno', 52, 5),\n",
              " ('Arsenal', 'UK', 'Bernd Leno', 52, 5),\n",
              " ('Arsenal', 'UK', 'Rob Holding', 52, 5),\n",
              " ('Real Madrid', 'Spain', '2018', 49, 4),\n",
              " ('Real Madrid', 'Spain', '2018', 49, 4),\n",
              " ('Real Madrid', 'Spain', '2018', 49, 4),\n",
              " ('Real Madrid', 'Spain', 'Huan', 49, 10),\n",
              " ('Real Madrid', 'Spain', 'Huan', 49, 10),\n",
              " ('Real Madrid', 'Spain', 'Huan', 49, 10),\n",
              " ('Real Madrid', 'Spain', 'Huan', 49, 10),\n",
              " ('Barcelona', 'Spain', 'Honsales', 45, 10),\n",
              " ('Barcelona', 'Spain', 'Honsales', 45, 10),\n",
              " ('Barcelona', 'Spain', 'Honsales', 45, 10),\n",
              " ('Barcelona', 'Spain', 'Honsales', 45, 10),\n",
              " ('Barcelona', 'Spain', 'Nelsen Semedu', 45, 4),\n",
              " ('Barcelona', 'Spain', 'Nelsen Semedu', 45, 4),\n",
              " ('Barcelona', 'Spain', 'Nelsen Semedu', 45, 4),\n",
              " ('Arsenal', 'UK', 'Bernd Leno', 50, 5),\n",
              " ('Arsenal', 'UK', 'Bernd Leno', 50, 5),\n",
              " ('Arsenal', 'UK', 'Bernd Leno', 50, 5),\n",
              " ('Arsenal', 'UK', 'Rob Holding', 50, 5)]"
            ]
          },
          "metadata": {},
          "execution_count": 37
        }
      ]
    },
    {
      "cell_type": "code",
      "metadata": {
        "id": "Kif0UkCiXI-h"
      },
      "source": [
        "conn.close()"
      ],
      "execution_count": 40,
      "outputs": []
    },
    {
      "cell_type": "markdown",
      "metadata": {
        "id": "_brgSPnC2ClB"
      },
      "source": [
        "# SQL Programming - Основы с magic командами"
      ]
    },
    {
      "cell_type": "markdown",
      "metadata": {
        "id": "D6BU_C0d3dMo"
      },
      "source": [
        "## 1.2 Подключение к базе"
      ]
    },
    {
      "cell_type": "markdown",
      "metadata": {
        "id": "7JK1sBqVKNUm"
      },
      "source": [
        ""
      ]
    },
    {
      "cell_type": "code",
      "metadata": {
        "id": "PDk968tq3v43",
        "colab": {
          "base_uri": "https://localhost:8080/",
          "height": 70
        },
        "outputId": "8db66842-0dbd-4195-822d-4db6f380b3bd"
      },
      "source": [
        "# Загружаем sql extension\n",
        "\n",
        "%load_ext sql\n",
        "\n",
        "\n",
        "#\n",
        "%sql sqlite:////content/test.db"
      ],
      "execution_count": 42,
      "outputs": [
        {
          "output_type": "stream",
          "name": "stdout",
          "text": [
            "The sql extension is already loaded. To reload it, use:\n",
            "  %reload_ext sql\n"
          ]
        },
        {
          "output_type": "execute_result",
          "data": {
            "application/vnd.google.colaboratory.intrinsic+json": {
              "type": "string"
            },
            "text/plain": [
              "'Connected: @/content/test.db'"
            ]
          },
          "metadata": {},
          "execution_count": 42
        }
      ]
    },
    {
      "cell_type": "markdown",
      "metadata": {
        "id": "TjMtC5JN7ZoI"
      },
      "source": [
        "## 1.3 Создание таблицы"
      ]
    },
    {
      "cell_type": "code",
      "metadata": {
        "id": "ee0bJxIKPQvK",
        "colab": {
          "base_uri": "https://localhost:8080/",
          "height": 92
        },
        "outputId": "727d0fc0-9367-43c5-f424-1fa4335bb331"
      },
      "source": [
        "# Пример 1\n",
        "#\n",
        "%%sql \n",
        "CREATE TABLE if not exists Classmates (\n",
        "    PersonID, \n",
        "    LastName, \n",
        "    FirstName, \n",
        "    Phone, \n",
        "    Residence\n",
        "); \n",
        "\n",
        "SELECT * From Classmates;"
      ],
      "execution_count": 59,
      "outputs": [
        {
          "output_type": "stream",
          "name": "stdout",
          "text": [
            " * sqlite:////content/test.db\n",
            "Done.\n",
            "Done.\n"
          ]
        },
        {
          "output_type": "execute_result",
          "data": {
            "text/html": [
              "<table>\n",
              "    <thead>\n",
              "        <tr>\n",
              "            <th>PersonID</th>\n",
              "            <th>LastName</th>\n",
              "            <th>FirstName</th>\n",
              "            <th>Phone</th>\n",
              "            <th>Residence</th>\n",
              "        </tr>\n",
              "    </thead>\n",
              "    <tbody>\n",
              "    </tbody>\n",
              "</table>"
            ],
            "text/plain": [
              "[]"
            ]
          },
          "metadata": {},
          "execution_count": 59
        }
      ]
    },
    {
      "cell_type": "code",
      "metadata": {
        "id": "a5-4ih-ea37Z",
        "colab": {
          "base_uri": "https://localhost:8080/",
          "height": 92
        },
        "outputId": "bdf4eb73-0788-4182-d6f8-e7697e82fd9d"
      },
      "source": [
        "# Пример  2\n",
        "\n",
        "%%sql\n",
        "CREATE TABLE if not exists Customers(\n",
        "   Id,   \n",
        "   Name,  \n",
        "   Age,\n",
        "   Address,  \n",
        "   Salary\n",
        ");\n",
        "\n",
        "SELECT * From Customers;"
      ],
      "execution_count": 44,
      "outputs": [
        {
          "output_type": "stream",
          "name": "stdout",
          "text": [
            " * sqlite:////content/test.db\n",
            "Done.\n",
            "Done.\n"
          ]
        },
        {
          "output_type": "execute_result",
          "data": {
            "text/html": [
              "<table>\n",
              "    <thead>\n",
              "        <tr>\n",
              "            <th>Id</th>\n",
              "            <th>Name</th>\n",
              "            <th>Age</th>\n",
              "            <th>Address</th>\n",
              "            <th>Salary</th>\n",
              "        </tr>\n",
              "    </thead>\n",
              "    <tbody>\n",
              "    </tbody>\n",
              "</table>"
            ],
            "text/plain": [
              "[]"
            ]
          },
          "metadata": {},
          "execution_count": 44
        }
      ]
    },
    {
      "cell_type": "code",
      "metadata": {
        "id": "0FmFgfaTbZO6",
        "colab": {
          "base_uri": "https://localhost:8080/",
          "height": 92
        },
        "outputId": "6dc47e62-2429-4429-eeb0-f521238adc80"
      },
      "source": [
        "# Пример 3\n",
        "%%sql\n",
        "CREATE TABLE if not exists Students(\n",
        "    AdmissionsNo,\n",
        "    FirstName,\n",
        "    MiddleName,\n",
        "    LastName,\n",
        "    DateOfBirth,\n",
        "    DateOfAdmission\n",
        ");\n",
        " \n",
        "SELECT * from Students;"
      ],
      "execution_count": 45,
      "outputs": [
        {
          "output_type": "stream",
          "name": "stdout",
          "text": [
            " * sqlite:////content/test.db\n",
            "Done.\n",
            "Done.\n"
          ]
        },
        {
          "output_type": "execute_result",
          "data": {
            "text/html": [
              "<table>\n",
              "    <thead>\n",
              "        <tr>\n",
              "            <th>AdmissionsNo</th>\n",
              "            <th>FirstName</th>\n",
              "            <th>MiddleName</th>\n",
              "            <th>LastName</th>\n",
              "            <th>DateOfBirth</th>\n",
              "            <th>DateOfAdmission</th>\n",
              "        </tr>\n",
              "    </thead>\n",
              "    <tbody>\n",
              "    </tbody>\n",
              "</table>"
            ],
            "text/plain": [
              "[]"
            ]
          },
          "metadata": {},
          "execution_count": 45
        }
      ]
    },
    {
      "cell_type": "markdown",
      "metadata": {
        "id": "oxISLcTfPSqn"
      },
      "source": [
        "### <font color=\"green\"> 1.3 ДЗ </font>"
      ]
    },
    {
      "cell_type": "code",
      "metadata": {
        "id": "SbRfVF-IPa7y",
        "colab": {
          "base_uri": "https://localhost:8080/",
          "height": 91
        },
        "outputId": "b9e87e2e-3e64-4548-ebfe-c25c0f275c3f"
      },
      "source": [
        "# Задача 1\n",
        "# Давайте создадим таблицу с именем PC со следующими полями;\n",
        "# code, model, speed, RAM, HD, CD и цена.\n",
        "# Мы также указываем соответствующие типы данных для нашей таблицы, добавляем туда произвольные данные и отображаем ее.\n",
        "%%sql \n",
        " CREATE TABLE if not exists PC(\n",
        "  ...\n",
        ");\n",
        "\n",
        "insert into ...\n",
        "SELECT * from PC;\n"
      ],
      "execution_count": null,
      "outputs": [
        {
          "output_type": "stream",
          "text": [
            " * sqlite://\n",
            "Done.\n",
            "Done.\n"
          ],
          "name": "stdout"
        },
        {
          "output_type": "execute_result",
          "data": {
            "text/html": [
              "<table>\n",
              "    <tr>\n",
              "        <th>Code</th>\n",
              "        <th>Model</th>\n",
              "        <th>Speed</th>\n",
              "        <th>RAM</th>\n",
              "        <th>HD</th>\n",
              "        <th>CD</th>\n",
              "        <th>Price</th>\n",
              "    </tr>\n",
              "</table>"
            ],
            "text/plain": [
              "[]"
            ]
          },
          "metadata": {
            "tags": []
          },
          "execution_count": 20
        }
      ]
    },
    {
      "cell_type": "code",
      "metadata": {
        "id": "raslfjbEPa6h",
        "colab": {
          "base_uri": "https://localhost:8080/",
          "height": 91
        },
        "outputId": "e78a3279-9578-4730-9dc3-fab8c46b0f29"
      },
      "source": [
        "# Задача 2\n",
        "# Давайте создадим таблицу с именем PC со следующими полями;\n",
        "# code, model, speed, type and Price.\n",
        "# Мы также указываем соответствующие типы данных для нашей таблицы, добавляем туда произвольные данные и отображаем ее.\n",
        "\n",
        "%%sql\n",
        "CREATE TABLE if not exists Printer(\n",
        "...\n",
        ");\n",
        "SELECT * from Printer;"
      ],
      "execution_count": null,
      "outputs": [
        {
          "output_type": "stream",
          "text": [
            " * sqlite://\n",
            "Done.\n",
            "Done.\n"
          ],
          "name": "stdout"
        },
        {
          "output_type": "execute_result",
          "data": {
            "text/html": [
              "<table>\n",
              "    <tr>\n",
              "        <th>Code</th>\n",
              "        <th>Model</th>\n",
              "        <th>Speed</th>\n",
              "        <th>Type</th>\n",
              "        <th>Price</th>\n",
              "    </tr>\n",
              "</table>"
            ],
            "text/plain": [
              "[]"
            ]
          },
          "metadata": {
            "tags": []
          },
          "execution_count": 21
        }
      ]
    },
    {
      "cell_type": "markdown",
      "metadata": {
        "id": "tsDIChSD7eZA"
      },
      "source": [
        "## 1.4 Устанавливаем типы данных для столбцов"
      ]
    },
    {
      "cell_type": "code",
      "metadata": {
        "id": "LR9UX1XnbPEJ",
        "colab": {
          "base_uri": "https://localhost:8080/",
          "height": 92
        },
        "outputId": "a87b01fd-ae3d-47e6-a8ac-08e750523421"
      },
      "source": [
        "# Пример 1\n",
        "#integer, text, varchar,date,float\n",
        "%%sql\n",
        "CREATE TABLE IF NOT EXISTS Citizens (\n",
        "    NationalID int,\n",
        "    FirstName varchar(255),\n",
        "    MiddleName varchar(255),\n",
        "    PostalAddress varchar(255),\n",
        "    Residence varchar(255));\n",
        "SELECT * from Citizens;"
      ],
      "execution_count": 46,
      "outputs": [
        {
          "output_type": "stream",
          "name": "stdout",
          "text": [
            " * sqlite:////content/test.db\n",
            "Done.\n",
            "Done.\n"
          ]
        },
        {
          "output_type": "execute_result",
          "data": {
            "text/html": [
              "<table>\n",
              "    <thead>\n",
              "        <tr>\n",
              "            <th>NationalID</th>\n",
              "            <th>FirstName</th>\n",
              "            <th>MiddleName</th>\n",
              "            <th>PostalAddress</th>\n",
              "            <th>Residence</th>\n",
              "        </tr>\n",
              "    </thead>\n",
              "    <tbody>\n",
              "    </tbody>\n",
              "</table>"
            ],
            "text/plain": [
              "[]"
            ]
          },
          "metadata": {},
          "execution_count": 46
        }
      ]
    },
    {
      "cell_type": "code",
      "metadata": {
        "id": "xD0OhRTmdFW5",
        "colab": {
          "base_uri": "https://localhost:8080/",
          "height": 92
        },
        "outputId": "1a5fb85d-d713-4120-f172-31b4cc74a808"
      },
      "source": [
        "# Пример 2\n",
        "\n",
        "%%sql\n",
        "CREATE TABLE IF NOT EXISTS artists(\n",
        "    Artist_Id int,\n",
        "    Artist_Name varchar(60),\n",
        "    Artist_DOB date,\n",
        "    Posters_In_Stock boolean);\n",
        "\n",
        "SELECT * from artists;"
      ],
      "execution_count": 47,
      "outputs": [
        {
          "output_type": "stream",
          "name": "stdout",
          "text": [
            " * sqlite:////content/test.db\n",
            "Done.\n",
            "Done.\n"
          ]
        },
        {
          "output_type": "execute_result",
          "data": {
            "text/html": [
              "<table>\n",
              "    <thead>\n",
              "        <tr>\n",
              "            <th>Artist_Id</th>\n",
              "            <th>Artist_Name</th>\n",
              "            <th>Artist_DOB</th>\n",
              "            <th>Posters_In_Stock</th>\n",
              "        </tr>\n",
              "    </thead>\n",
              "    <tbody>\n",
              "    </tbody>\n",
              "</table>"
            ],
            "text/plain": [
              "[]"
            ]
          },
          "metadata": {},
          "execution_count": 47
        }
      ]
    },
    {
      "cell_type": "code",
      "metadata": {
        "id": "FOWSIAvGZpE-",
        "colab": {
          "base_uri": "https://localhost:8080/",
          "height": 92
        },
        "outputId": "9119d6f0-ab38-4b95-d71d-baedf0162e45"
      },
      "source": [
        "# Пример  3\n",
        "\n",
        "%%sql\n",
        "CREATE TABLE IF NOT EXISTS Players (\n",
        "    id int,\n",
        "    name text,\n",
        "    age integer,\n",
        "    height float);\n",
        "\n",
        "SELECT * from Players;"
      ],
      "execution_count": 48,
      "outputs": [
        {
          "output_type": "stream",
          "name": "stdout",
          "text": [
            " * sqlite:////content/test.db\n",
            "Done.\n",
            "Done.\n"
          ]
        },
        {
          "output_type": "execute_result",
          "data": {
            "text/html": [
              "<table>\n",
              "    <thead>\n",
              "        <tr>\n",
              "            <th>id</th>\n",
              "            <th>name</th>\n",
              "            <th>age</th>\n",
              "            <th>height</th>\n",
              "        </tr>\n",
              "    </thead>\n",
              "    <tbody>\n",
              "    </tbody>\n",
              "</table>"
            ],
            "text/plain": [
              "[]"
            ]
          },
          "metadata": {},
          "execution_count": 48
        }
      ]
    },
    {
      "cell_type": "markdown",
      "metadata": {
        "id": "LMP7zZY2dGuV"
      },
      "source": [
        "### <font color=\"green\"> 1.4 ДЗ</font>"
      ]
    },
    {
      "cell_type": "code",
      "metadata": {
        "id": "8g9IjuQDdKP5",
        "colab": {
          "base_uri": "https://localhost:8080/",
          "height": 91
        },
        "outputId": "41b7e2d4-c90a-4bf2-d8ff-94e82c85773d"
      },
      "source": [
        "# Задача 1\n",
        "# Давайте создадим таблицу customer с CustID с типом данных Integer, LastName\n",
        "# с varchar длиной 25 символов, FirstName с varchar длиной 20 символов\n",
        "#\n",
        "%%sql\n",
        "CREATE TABLE IF NOT EXISTS CUSTOMER(\n",
        "  ....\n",
        " );\n",
        "SELECT * from CUSTOMER;"
      ],
      "execution_count": null,
      "outputs": [
        {
          "output_type": "stream",
          "text": [
            " * sqlite://\n",
            "Done.\n",
            "Done.\n"
          ],
          "name": "stdout"
        },
        {
          "output_type": "execute_result",
          "data": {
            "text/html": [
              "<table>\n",
              "    <tr>\n",
              "        <th>Cust_ID</th>\n",
              "        <th>Lastname</th>\n",
              "        <th>Fisrtname</th>\n",
              "    </tr>\n",
              "</table>"
            ],
            "text/plain": [
              "[]"
            ]
          },
          "metadata": {
            "tags": []
          },
          "execution_count": 37
        }
      ]
    },
    {
      "cell_type": "code",
      "metadata": {
        "id": "mhbYzTUqgcT6",
        "colab": {
          "base_uri": "https://localhost:8080/",
          "height": 91
        },
        "outputId": "6e4ab3e9-5d69-4205-ac5a-5a6c48d1b705"
      },
      "source": [
        "# Задание 3\n",
        "# Создайте таблицу с названием sales, в которой хранятся идентификатор продажи, идентификатор клиента, имя и адрес.\n",
        "# используя также соответствующие типы данных\n",
        "# \n",
        "%%sql\n",
        "CREATE TABLE IF NOT EXISTS SALES(\n",
        "    SalesID varchar,\n",
        "    CustomerID int,\n",
        "    Name text,\n",
        "    Address varchar\n",
        ");\n",
        "SELECT * from SALES;"
      ],
      "execution_count": null,
      "outputs": [
        {
          "output_type": "stream",
          "text": [
            " * sqlite://\n",
            "Done.\n",
            "Done.\n"
          ],
          "name": "stdout"
        },
        {
          "output_type": "execute_result",
          "data": {
            "text/html": [
              "<table>\n",
              "    <tr>\n",
              "        <th>SalesID</th>\n",
              "        <th>CustomerID</th>\n",
              "        <th>Name</th>\n",
              "        <th>Address</th>\n",
              "    </tr>\n",
              "</table>"
            ],
            "text/plain": [
              "[]"
            ]
          },
          "metadata": {
            "tags": []
          },
          "execution_count": 42
        }
      ]
    },
    {
      "cell_type": "code",
      "metadata": {
        "id": "dusTkcdWuv3E",
        "colab": {
          "base_uri": "https://localhost:8080/",
          "height": 91
        },
        "outputId": "5a06c1f4-ae58-475b-a0ce-39d705c1c6e7"
      },
      "source": [
        "# Задание 4\n",
        "# Создайте таблицу с именем сотрудники, в которой хранятся номер сотрудника, имя сотрудника,\n",
        "# отдел и информацию о зарплате с использованием соответствующих типов данных\n",
        "#\n",
        "%%sql\n",
        "CREATE TABLE IF NOT EXISTS EMPLOYEES(\n",
        "    ....\n",
        "    \n",
        ");\n",
        "SELECT* from EMPLOYEES;"
      ],
      "execution_count": null,
      "outputs": [
        {
          "output_type": "stream",
          "text": [
            " * sqlite://\n",
            "Done.\n",
            "Done.\n"
          ],
          "name": "stdout"
        },
        {
          "output_type": "execute_result",
          "data": {
            "text/html": [
              "<table>\n",
              "    <tr>\n",
              "        <th>Employee</th>\n",
              "        <th>Employeename</th>\n",
              "        <th>Department</th>\n",
              "        <th>salary</th>\n",
              "    </tr>\n",
              "</table>"
            ],
            "text/plain": [
              "[]"
            ]
          },
          "metadata": {
            "tags": []
          },
          "execution_count": 43
        }
      ]
    },
    {
      "cell_type": "markdown",
      "metadata": {
        "id": "ASFyzyDc9hth"
      },
      "source": [
        "## 1.5 Устанавливаем Default Values для столбцов"
      ]
    },
    {
      "cell_type": "code",
      "metadata": {
        "id": "_ut68z0BgfW9",
        "colab": {
          "base_uri": "https://localhost:8080/"
        },
        "outputId": "03180429-abc2-4bab-ce6f-9f811f758178"
      },
      "source": [
        "# Пример  2\n",
        "# \n",
        "%%sql\n",
        "CREATE TABLE IF NOT EXISTS TeamMembers (\n",
        "    id INTEGER PRIMARY KEY,\n",
        "    name TEXT,\n",
        "    age INTEGER DEFAULT 'test',\n",
        "    height REAL);"
      ],
      "execution_count": 49,
      "outputs": [
        {
          "output_type": "stream",
          "name": "stdout",
          "text": [
            " * sqlite:////content/test.db\n",
            "Done.\n"
          ]
        },
        {
          "output_type": "execute_result",
          "data": {
            "text/plain": [
              "[]"
            ]
          },
          "metadata": {},
          "execution_count": 49
        }
      ]
    },
    {
      "cell_type": "markdown",
      "metadata": {
        "id": "Xr_iw9O1gynX"
      },
      "source": [
        "### <font color=\"green\"> 1.5 ДЗ</font>"
      ]
    },
    {
      "cell_type": "code",
      "metadata": {
        "id": "H0X577pGgxuY",
        "colab": {
          "base_uri": "https://localhost:8080/",
          "height": 68
        },
        "outputId": "8608571e-eccc-41d9-eb69-4eca236b33b0"
      },
      "source": [
        "# Задача 1\n",
        "# Давайте создадим новую таблицу с именем latest_players с полями, похожими на\n",
        "# уже созданная таблица Players, но укажите значение по умолчанию unknown\n",
        "#\n",
        "%%sql\n",
        "CREATE TABLE IF NOT EXISTS latest_players(\n",
        "    ...\n",
        "    );  \n",
        "\n"
      ],
      "execution_count": null,
      "outputs": [
        {
          "output_type": "stream",
          "text": [
            " * sqlite://\n",
            "Done.\n"
          ],
          "name": "stdout"
        },
        {
          "output_type": "execute_result",
          "data": {
            "text/plain": [
              "[]"
            ]
          },
          "metadata": {
            "tags": []
          },
          "execution_count": 47
        }
      ]
    },
    {
      "cell_type": "code",
      "metadata": {
        "id": "1LEzaO5ggpCt",
        "colab": {
          "base_uri": "https://localhost:8080/",
          "height": 68
        },
        "outputId": "36d21156-dcae-4614-9173-143a64a26e8e"
      },
      "source": [
        "# Задача 2\n",
        "# Давайте создадим новую таблицу с названиями ресторанов с полями\n",
        "# - имя: varchar\n",
        "# - описание: text\n",
        "# - адрес: строка, значение по умолчанию 'Moscow'\n",
        "# - user_id: integer\n",
        "# - last_orders_at: date\n",
        "# При необходимости мы можем провести внешнее исследование типа данных.\n",
        "#\n",
        "%%sql\n",
        "CREATE TABLE IF NOT EXISTS restaurants(\n",
        "....\n",
        ");\n",
        "\n"
      ],
      "execution_count": null,
      "outputs": [
        {
          "output_type": "stream",
          "text": [
            " * sqlite://\n",
            "Done.\n"
          ],
          "name": "stdout"
        },
        {
          "output_type": "execute_result",
          "data": {
            "text/plain": [
              "[]"
            ]
          },
          "metadata": {
            "tags": []
          },
          "execution_count": 58
        }
      ]
    },
    {
      "cell_type": "markdown",
      "metadata": {
        "id": "fbqK98Ve9qUw"
      },
      "source": [
        "## 1.6 Изменение SQL таблиц"
      ]
    },
    {
      "cell_type": "code",
      "metadata": {
        "id": "hX5YD-_dhEra",
        "colab": {
          "base_uri": "https://localhost:8080/",
          "height": 92
        },
        "outputId": "58cd6f8d-c220-417c-e947-e04d56cf4442"
      },
      "source": [
        "# Пример 1\n",
        "%%sql \n",
        "ALTER TABLE Classmates ADD Gender;\n",
        " \n",
        "SELECT * FROM Classmates;"
      ],
      "execution_count": 50,
      "outputs": [
        {
          "output_type": "stream",
          "name": "stdout",
          "text": [
            " * sqlite:////content/test.db\n",
            "Done.\n",
            "Done.\n"
          ]
        },
        {
          "output_type": "execute_result",
          "data": {
            "text/html": [
              "<table>\n",
              "    <thead>\n",
              "        <tr>\n",
              "            <th>PersonID</th>\n",
              "            <th>LastName</th>\n",
              "            <th>FirstName</th>\n",
              "            <th>Phone</th>\n",
              "            <th>Residence</th>\n",
              "            <th>Gender</th>\n",
              "        </tr>\n",
              "    </thead>\n",
              "    <tbody>\n",
              "    </tbody>\n",
              "</table>"
            ],
            "text/plain": [
              "[]"
            ]
          },
          "metadata": {},
          "execution_count": 50
        }
      ]
    },
    {
      "cell_type": "code",
      "metadata": {
        "id": "IGZSdFj2hGbP",
        "colab": {
          "base_uri": "https://localhost:8080/"
        },
        "outputId": "cfcb1408-3169-4bd0-e95b-2d84237b6faf"
      },
      "source": [
        "# Пример 2\n",
        "#\n",
        "%%sql \n",
        "ALTER TABLE Classmates DROP COLUMN Residence;\n"
      ],
      "execution_count": 54,
      "outputs": [
        {
          "output_type": "stream",
          "name": "stdout",
          "text": [
            " * sqlite:////content/test.db\n",
            "(sqlite3.OperationalError) near \"DROP\": syntax error\n",
            "[SQL: ALTER TABLE Classmates DROP COLUMN Residence;]\n",
            "(Background on this error at: https://sqlalche.me/e/14/e3q8)\n"
          ]
        }
      ]
    },
    {
      "cell_type": "code",
      "metadata": {
        "id": "sHLkllxhhH3v",
        "colab": {
          "base_uri": "https://localhost:8080/"
        },
        "outputId": "4130c4d9-6a01-458b-84d7-706a7c51e47f"
      },
      "source": [
        "# Пример 3\n",
        "\n",
        "%%sql  \n",
        "ALTER TABLE Classmates RENAME TO Schoolmates;\n",
        "\n"
      ],
      "execution_count": 55,
      "outputs": [
        {
          "output_type": "stream",
          "name": "stdout",
          "text": [
            " * sqlite:////content/test.db\n",
            "Done.\n"
          ]
        },
        {
          "output_type": "execute_result",
          "data": {
            "text/plain": [
              "[]"
            ]
          },
          "metadata": {},
          "execution_count": 55
        }
      ]
    },
    {
      "cell_type": "markdown",
      "metadata": {
        "id": "f20THWRqhJC-"
      },
      "source": [
        "### <font color=\"green\"> 1.6 ДЗ</font>"
      ]
    },
    {
      "cell_type": "code",
      "metadata": {
        "id": "6Nrsden-hJ7u",
        "colab": {
          "base_uri": "https://localhost:8080/",
          "height": 91
        },
        "outputId": "c7219a51-ccc1-412f-9c4e-f7c26c221d42"
      },
      "source": [
        "# Задача 1\n",
        "# Добавьте столбец DOB с типом данных DATE в таблицу TeamMembers с помощью;\n",
        "# Подсказка: тип данных идет после имени столбца\n",
        "%%sql \n",
        "\n",
        ".....\n",
        "\n",
        "SELECT *FROM TeamMembers;\n"
      ],
      "execution_count": null,
      "outputs": [
        {
          "output_type": "stream",
          "text": [
            " * sqlite://\n",
            "Done.\n",
            "Done.\n"
          ],
          "name": "stdout"
        },
        {
          "output_type": "execute_result",
          "data": {
            "text/html": [
              "<table>\n",
              "    <tr>\n",
              "        <th>id</th>\n",
              "        <th>name</th>\n",
              "        <th>age</th>\n",
              "        <th>height</th>\n",
              "        <th>DOB</th>\n",
              "    </tr>\n",
              "</table>"
            ],
            "text/plain": [
              "[]"
            ]
          },
          "metadata": {
            "tags": []
          },
          "execution_count": 78
        }
      ]
    },
    {
      "cell_type": "code",
      "metadata": {
        "id": "2hwkJkSNlIyd"
      },
      "source": [
        "# Давайте проверим наш тип данных\n",
        "%%sql\n",
        "PRAGMA table_info(TeamMembers);\n"
      ],
      "execution_count": null,
      "outputs": []
    },
    {
      "cell_type": "code",
      "metadata": {
        "id": "iLNLtWBFhLCS",
        "colab": {
          "base_uri": "https://localhost:8080/",
          "height": 68
        },
        "outputId": "90e12b12-dcb4-48a0-f0dc-3baf053973a8"
      },
      "source": [
        "# Задача 2\n",
        "# Давайте теперь добавим столбец STUDIO с типом данных TEXT в таблицу Artists\n",
        "#\n",
        "%%sql\n",
        "ALTER TABLE ....\n"
      ],
      "execution_count": null,
      "outputs": [
        {
          "output_type": "stream",
          "text": [
            " * sqlite://\n",
            "Done.\n"
          ],
          "name": "stdout"
        },
        {
          "output_type": "execute_result",
          "data": {
            "text/plain": [
              "[]"
            ]
          },
          "metadata": {
            "tags": []
          },
          "execution_count": 81
        }
      ]
    },
    {
      "cell_type": "code",
      "metadata": {
        "id": "16L-Ex_ehKzt",
        "colab": {
          "base_uri": "https://localhost:8080/",
          "height": 68
        },
        "outputId": "8f0a145a-b4cc-41ec-b097-0003eb8cacae"
      },
      "source": [
        "# Задание 3\n",
        "# Затем мы переименовываем таблицу Artists в Music Artists\n",
        "#\n",
        "%%sql\n",
        "ALTER TABLE Artists RENAME TO MusicArtists;"
      ],
      "execution_count": null,
      "outputs": [
        {
          "output_type": "stream",
          "text": [
            " * sqlite://\n",
            "Done.\n"
          ],
          "name": "stdout"
        },
        {
          "output_type": "execute_result",
          "data": {
            "text/plain": [
              "[]"
            ]
          },
          "metadata": {
            "tags": []
          },
          "execution_count": 10
        }
      ]
    },
    {
      "cell_type": "markdown",
      "metadata": {
        "id": "N5323tiC9u5B"
      },
      "source": [
        "## 1.7 Удаление SQL Таблиц"
      ]
    },
    {
      "cell_type": "markdown",
      "metadata": {
        "id": "Lyy1XQCy_rIm"
      },
      "source": [
        "### 1.71 Очистка таблицы \n"
      ]
    },
    {
      "cell_type": "code",
      "metadata": {
        "id": "EF5WdMH1hj-8",
        "colab": {
          "base_uri": "https://localhost:8080/"
        },
        "outputId": "698fde3a-1a6a-4a92-d66b-56936d2bfdb5"
      },
      "source": [
        "# Пример  1\n",
        "\n",
        "#\n",
        "%%sql\n",
        "TRUNCATE TABLE Classmates;"
      ],
      "execution_count": 56,
      "outputs": [
        {
          "output_type": "stream",
          "name": "stdout",
          "text": [
            " * sqlite:////content/test.db\n",
            "(sqlite3.OperationalError) near \"TRUNCATE\": syntax error\n",
            "[SQL: TRUNCATE TABLE Classmates;]\n",
            "(Background on this error at: https://sqlalche.me/e/14/e3q8)\n"
          ]
        }
      ]
    },
    {
      "cell_type": "markdown",
      "metadata": {
        "id": "018guVdKDwnu"
      },
      "source": [
        "### 1.72 Удаление таблицы"
      ]
    },
    {
      "cell_type": "code",
      "metadata": {
        "id": "IBP2xlN4Dz8H",
        "colab": {
          "base_uri": "https://localhost:8080/"
        },
        "outputId": "71510513-c6a1-4746-f1a8-f3ddf1ae42a4"
      },
      "source": [
        "# Пример 1\n",
        "%sql DROP TABLE Classmates;"
      ],
      "execution_count": 60,
      "outputs": [
        {
          "output_type": "stream",
          "name": "stdout",
          "text": [
            " * sqlite:////content/test.db\n",
            "Done.\n"
          ]
        },
        {
          "output_type": "execute_result",
          "data": {
            "text/plain": [
              "[]"
            ]
          },
          "metadata": {},
          "execution_count": 60
        }
      ]
    },
    {
      "cell_type": "markdown",
      "metadata": {
        "id": "hK3Aff9bhkkE"
      },
      "source": [
        "### <font color=\"green\"> 1.7 ДЗ</font>"
      ]
    },
    {
      "cell_type": "code",
      "metadata": {
        "id": "OhTHowBAhmF_",
        "cellView": "both",
        "colab": {
          "base_uri": "https://localhost:8080/",
          "height": 68
        },
        "outputId": "61ea7f0a-bdbd-4305-aff0-136377193ccf"
      },
      "source": [
        "# Задача 1\n",
        "# Давайте удалим таблицу Players из нашей базы данных\n",
        "#\n",
        "%%sql \n",
        "...."
      ],
      "execution_count": null,
      "outputs": [
        {
          "output_type": "stream",
          "text": [
            " * sqlite://\n",
            "Done.\n"
          ],
          "name": "stdout"
        },
        {
          "output_type": "execute_result",
          "data": {
            "text/plain": [
              "[]"
            ]
          },
          "metadata": {
            "tags": []
          },
          "execution_count": 71
        }
      ]
    },
    {
      "cell_type": "code",
      "metadata": {
        "id": "TupkeQYohmc9",
        "colab": {
          "base_uri": "https://localhost:8080/",
          "height": 68
        },
        "outputId": "003cc609-750e-424c-a623-116367b68a47"
      },
      "source": [
        "# Задача 2\n",
        "# Давайте удалим таблицу Customers из нашей базы данных\n",
        "#\n",
        "%%sql\n",
        "...."
      ],
      "execution_count": null,
      "outputs": [
        {
          "output_type": "stream",
          "text": [
            " * sqlite://\n",
            "Done.\n"
          ],
          "name": "stdout"
        },
        {
          "output_type": "execute_result",
          "data": {
            "text/plain": [
              "[]"
            ]
          },
          "metadata": {
            "tags": []
          },
          "execution_count": 95
        }
      ]
    },
    {
      "cell_type": "code",
      "metadata": {
        "id": "5JA8Kr56hmPr",
        "colab": {
          "base_uri": "https://localhost:8080/",
          "height": 68
        },
        "outputId": "4699121f-42b5-4e13-b300-c9f319d8db27"
      },
      "source": [
        "# Задание 3\n",
        "# И, наконец, очистить и удалить нашу таблицу Artists из нашей базы данных\n",
        "#\n",
        "%%sql\n",
        "...."
      ],
      "execution_count": null,
      "outputs": [
        {
          "output_type": "stream",
          "text": [
            " * sqlite://\n",
            "0 rows affected.\n"
          ],
          "name": "stdout"
        },
        {
          "output_type": "execute_result",
          "data": {
            "text/plain": [
              "[]"
            ]
          },
          "metadata": {
            "tags": []
          },
          "execution_count": 12
        }
      ]
    },
    {
      "cell_type": "markdown",
      "metadata": {
        "id": "g8HxWLhZj3Xg"
      },
      "source": [
        "## Чтение данных из таблицы с помощью Pandas"
      ]
    },
    {
      "cell_type": "code",
      "metadata": {
        "id": "aY1LSUFgj1h6"
      },
      "source": [
        "import pandas as pd\n",
        "import sqlite3\n",
        "\n",
        "con = sqlite3.connect(\"test.db\")\n",
        "\n",
        "# Load the data into a DataFrame\n",
        "surveys_df = pd.read_sql_query(\"SELECT * from team_data\", con)\n",
        "\n",
        "# Select only data for 2002\n",
        "#surveys2002 = surveys_df[surveys_df.year == 2002]\n",
        "\n",
        "# Write the new DataFrame to a new SQLite table\n",
        "#surveys2002.to_sql(\"surveys2002\", con, if_exists=\"replace\")\n",
        "\n",
        "con.close()"
      ],
      "execution_count": 63,
      "outputs": []
    },
    {
      "cell_type": "markdown",
      "metadata": {
        "id": "q841ZQTsaBaJ"
      },
      "source": [
        ""
      ]
    },
    {
      "cell_type": "code",
      "metadata": {
        "id": "UY4ENrqfj1zM",
        "colab": {
          "base_uri": "https://localhost:8080/",
          "height": 205
        },
        "outputId": "5f7e15f9-01fa-4b70-bd3e-b6b4124ade53"
      },
      "source": [
        "surveys_df.head()"
      ],
      "execution_count": 64,
      "outputs": [
        {
          "output_type": "execute_result",
          "data": {
            "text/html": [
              "<div>\n",
              "<style scoped>\n",
              "    .dataframe tbody tr th:only-of-type {\n",
              "        vertical-align: middle;\n",
              "    }\n",
              "\n",
              "    .dataframe tbody tr th {\n",
              "        vertical-align: top;\n",
              "    }\n",
              "\n",
              "    .dataframe thead th {\n",
              "        text-align: right;\n",
              "    }\n",
              "</style>\n",
              "<table border=\"1\" class=\"dataframe\">\n",
              "  <thead>\n",
              "    <tr style=\"text-align: right;\">\n",
              "      <th></th>\n",
              "      <th>team</th>\n",
              "      <th>country</th>\n",
              "      <th>season</th>\n",
              "      <th>total_goals</th>\n",
              "    </tr>\n",
              "  </thead>\n",
              "  <tbody>\n",
              "    <tr>\n",
              "      <th>0</th>\n",
              "      <td>Real Madrid</td>\n",
              "      <td>Spain</td>\n",
              "      <td>2019</td>\n",
              "      <td>53</td>\n",
              "    </tr>\n",
              "    <tr>\n",
              "      <th>1</th>\n",
              "      <td>Barcelona</td>\n",
              "      <td>Spain</td>\n",
              "      <td>2019</td>\n",
              "      <td>47</td>\n",
              "    </tr>\n",
              "    <tr>\n",
              "      <th>2</th>\n",
              "      <td>Arsenal</td>\n",
              "      <td>UK</td>\n",
              "      <td>2019</td>\n",
              "      <td>52</td>\n",
              "    </tr>\n",
              "    <tr>\n",
              "      <th>3</th>\n",
              "      <td>Real Madrid</td>\n",
              "      <td>Spain</td>\n",
              "      <td>2018</td>\n",
              "      <td>49</td>\n",
              "    </tr>\n",
              "    <tr>\n",
              "      <th>4</th>\n",
              "      <td>Barcelona</td>\n",
              "      <td>Spain</td>\n",
              "      <td>2018</td>\n",
              "      <td>45</td>\n",
              "    </tr>\n",
              "  </tbody>\n",
              "</table>\n",
              "</div>"
            ],
            "text/plain": [
              "          team country  season  total_goals\n",
              "0  Real Madrid   Spain    2019           53\n",
              "1    Barcelona   Spain    2019           47\n",
              "2      Arsenal      UK    2019           52\n",
              "3  Real Madrid   Spain    2018           49\n",
              "4    Barcelona   Spain    2018           45"
            ]
          },
          "metadata": {},
          "execution_count": 64
        }
      ]
    },
    {
      "cell_type": "code",
      "metadata": {
        "id": "0wm3KUncj17i"
      },
      "source": [
        ""
      ],
      "execution_count": null,
      "outputs": []
    }
  ]
}