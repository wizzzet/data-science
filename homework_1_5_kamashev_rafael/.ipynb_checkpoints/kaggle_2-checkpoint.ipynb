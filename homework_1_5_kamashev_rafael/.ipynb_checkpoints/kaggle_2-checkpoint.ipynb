{
 "cells": [
  {
   "cell_type": "markdown",
   "id": "6f084e0b",
   "metadata": {},
   "source": [
    "Данный ноутбук был составлен после нескольких десятков попыток достичь высокого результата при работе над обучением модели распознавания базы MNIST \"попиксельно\". Однако, имея мало свободного времени на тренировки, не упел найти хорошие гиперпараметры моделей: самый перспективный на первый взгляд SVC тренировался очень медленно и часто выдавал единственное прогнозируемое значение. \"Случайный лес\" хорошо показал себя на тренировочной выборке, но на тестовой давал результаты хуже на 20-30%. Параметры, уменьшающие переобучение, быстро подобрать не удалось. Лучшая точность была 0.62 на Random Forest (при квантовании изображения в черное и белое и выбраковке неиформативных признаков). Ссылка на предыдущие попытки: \n",
    "\n",
    "В задаче не было условий на предобработку входящих данных. Учитвая то, что выборки MNIST не умеют шума в фоне и приведены в 8 битную ч/б палитру, воспользусь этим и попробую векторизовать рукописный ввод. Векторизация позволит значительно снизить количество признаков, при этом по-максимуму сохранив информацию о символах ввода. Так так скорость предобработки изображений по условиям соревнования не ограничена, попробую найти решение векторизации \"в лоб\"."
   ]
  },
  {
   "cell_type": "code",
   "execution_count": 1,
   "id": "1cff9054",
   "metadata": {},
   "outputs": [
    {
     "name": "stdout",
     "output_type": "stream",
     "text": [
      "Defaulting to user installation because normal site-packages is not writeable\n",
      "Requirement already satisfied: kaggle in /home/wizzzet/.local/lib/python3.8/site-packages (1.5.12)\n",
      "Requirement already satisfied: scikit-learn==1.0 in /home/wizzzet/.local/lib/python3.8/site-packages (1.0)\n",
      "Requirement already satisfied: scikit-image in /home/wizzzet/.local/lib/python3.8/site-packages (0.18.3)\n",
      "Requirement already satisfied: geopandas in /home/wizzzet/.local/lib/python3.8/site-packages (0.10.1)\n",
      "Requirement already satisfied: shapely in /home/wizzzet/.local/lib/python3.8/site-packages (1.7.1)\n",
      "Requirement already satisfied: numpy>=1.14.6 in /home/wizzzet/.local/lib/python3.8/site-packages (from scikit-learn==1.0) (1.21.2)\n",
      "Requirement already satisfied: threadpoolctl>=2.0.0 in /home/wizzzet/.local/lib/python3.8/site-packages (from scikit-learn==1.0) (3.0.0)\n",
      "Requirement already satisfied: scipy>=1.1.0 in /home/wizzzet/.local/lib/python3.8/site-packages (from scikit-learn==1.0) (1.7.1)\n",
      "Requirement already satisfied: joblib>=0.11 in /home/wizzzet/.local/lib/python3.8/site-packages (from scikit-learn==1.0) (1.0.1)\n",
      "Requirement already satisfied: urllib3 in /home/wizzzet/.local/lib/python3.8/site-packages (from kaggle) (1.25.6)\n",
      "Requirement already satisfied: python-dateutil in /usr/lib/python3/dist-packages (from kaggle) (2.7.3)\n",
      "Requirement already satisfied: tqdm in /home/wizzzet/.local/lib/python3.8/site-packages (from kaggle) (4.62.3)\n",
      "Requirement already satisfied: python-slugify in /home/wizzzet/.local/lib/python3.8/site-packages (from kaggle) (5.0.2)\n",
      "Requirement already satisfied: certifi in /home/wizzzet/.local/lib/python3.8/site-packages (from kaggle) (2019.9.11)\n",
      "Requirement already satisfied: six>=1.10 in /home/wizzzet/.local/lib/python3.8/site-packages (from kaggle) (1.13.0)\n",
      "Requirement already satisfied: requests in /home/wizzzet/.local/lib/python3.8/site-packages (from kaggle) (2.22.0)\n",
      "Requirement already satisfied: networkx>=2.0 in /home/wizzzet/.local/lib/python3.8/site-packages (from scikit-image) (2.6.3)\n",
      "Requirement already satisfied: pillow!=7.1.0,!=7.1.1,>=4.3.0 in /home/wizzzet/.local/lib/python3.8/site-packages (from scikit-image) (6.2.1)\n",
      "Requirement already satisfied: tifffile>=2019.7.26 in /home/wizzzet/.local/lib/python3.8/site-packages (from scikit-image) (2021.8.30)\n",
      "Requirement already satisfied: imageio>=2.3.0 in /home/wizzzet/.local/lib/python3.8/site-packages (from scikit-image) (2.9.0)\n",
      "Requirement already satisfied: matplotlib!=3.0.0,>=2.0.0 in /home/wizzzet/.local/lib/python3.8/site-packages (from scikit-image) (3.4.3)\n",
      "Requirement already satisfied: PyWavelets>=1.1.1 in /home/wizzzet/.local/lib/python3.8/site-packages (from scikit-image) (1.1.1)\n",
      "Requirement already satisfied: pyproj>=2.2.0 in /home/wizzzet/.local/lib/python3.8/site-packages (from geopandas) (3.2.1)\n",
      "Requirement already satisfied: fiona>=1.8 in /home/wizzzet/.local/lib/python3.8/site-packages (from geopandas) (1.8.20)\n",
      "Requirement already satisfied: pandas>=0.25.0 in /home/wizzzet/.local/lib/python3.8/site-packages (from geopandas) (1.3.3)\n",
      "Requirement already satisfied: attrs>=17 in /home/wizzzet/.local/lib/python3.8/site-packages (from fiona>=1.8->geopandas) (21.2.0)\n",
      "Requirement already satisfied: click>=4.0 in /home/wizzzet/.local/lib/python3.8/site-packages (from fiona>=1.8->geopandas) (8.0.2)\n",
      "Requirement already satisfied: munch in /home/wizzzet/.local/lib/python3.8/site-packages (from fiona>=1.8->geopandas) (2.5.0)\n",
      "Requirement already satisfied: click-plugins>=1.0 in /home/wizzzet/.local/lib/python3.8/site-packages (from fiona>=1.8->geopandas) (1.1.1)\n",
      "Requirement already satisfied: cligj>=0.5 in /home/wizzzet/.local/lib/python3.8/site-packages (from fiona>=1.8->geopandas) (0.7.2)\n",
      "Requirement already satisfied: setuptools in /home/wizzzet/.local/lib/python3.8/site-packages (from fiona>=1.8->geopandas) (58.1.0)\n",
      "Requirement already satisfied: kiwisolver>=1.0.1 in /home/wizzzet/.local/lib/python3.8/site-packages (from matplotlib!=3.0.0,>=2.0.0->scikit-image) (1.3.2)\n",
      "Requirement already satisfied: pyparsing>=2.2.1 in /home/wizzzet/.local/lib/python3.8/site-packages (from matplotlib!=3.0.0,>=2.0.0->scikit-image) (2.4.7)\n",
      "Requirement already satisfied: cycler>=0.10 in /home/wizzzet/.local/lib/python3.8/site-packages (from matplotlib!=3.0.0,>=2.0.0->scikit-image) (0.10.0)\n",
      "Requirement already satisfied: pytz>=2017.3 in /usr/lib/python3/dist-packages (from pandas>=0.25.0->geopandas) (2019.3)\n",
      "Requirement already satisfied: text-unidecode>=1.3 in /home/wizzzet/.local/lib/python3.8/site-packages (from python-slugify->kaggle) (1.3)\n",
      "Requirement already satisfied: chardet<3.1.0,>=3.0.2 in /usr/lib/python3/dist-packages (from requests->kaggle) (3.0.4)\n",
      "Requirement already satisfied: idna<2.9,>=2.5 in /usr/lib/python3/dist-packages (from requests->kaggle) (2.8)\n"
     ]
    }
   ],
   "source": [
    "!pip install -U kaggle scikit-learn==1.0 scikit-image geopandas shapely"
   ]
  },
  {
   "cell_type": "code",
   "execution_count": null,
   "id": "90bed69d",
   "metadata": {},
   "outputs": [],
   "source": [
    "!touch /content/kaggle.json\n",
    "!chmod 600 /content/kaggle.json"
   ]
  },
  {
   "cell_type": "code",
   "execution_count": null,
   "id": "a1ac8233",
   "metadata": {},
   "outputs": [],
   "source": [
    "os.environ['KAGGLE_CONFIG_DIR'] = '/content/'\n",
    "api_token = {'username': 'rafaelkamashev', 'key': 'e6891d0b2b04d3bd70bcc194f6157081'}\n",
    "\n",
    "with open('/content/kaggle.json', 'w') as file:\n",
    "    json.dump(api_token, file)"
   ]
  },
  {
   "cell_type": "code",
   "execution_count": null,
   "id": "047b5bc2",
   "metadata": {},
   "outputs": [],
   "source": [
    "!kaggle competitions download -c jds3 --force"
   ]
  },
  {
   "cell_type": "code",
   "execution_count": null,
   "id": "6a320957",
   "metadata": {},
   "outputs": [],
   "source": [
    "from google.colab import drive\n",
    "drive.mount('/content/drive')"
   ]
  },
  {
   "cell_type": "code",
   "execution_count": 1,
   "id": "84d3f952",
   "metadata": {},
   "outputs": [
    {
     "data": {
      "text/plain": [
       "'imported'"
      ]
     },
     "execution_count": 1,
     "metadata": {},
     "output_type": "execute_result"
    }
   ],
   "source": [
    "import json\n",
    "import os\n",
    "import string\n",
    "\n",
    "import geopandas as gpd\n",
    "from shapely.geometry import Polygon, LineString\n",
    "from skimage.morphology import skeletonize\n",
    "from skimage.filters import gaussian\n",
    "from skimage.transform import probabilistic_hough_line\n",
    "from sklearn.ensemble import RandomForestClassifier\n",
    "from sklearn.linear_model import LogisticRegression\n",
    "from sklearn.metrics import accuracy_score\n",
    "from sklearn.model_selection import cross_val_score, KFold, train_test_split\n",
    "from sklearn.model_selection._search_successive_halving import HalvingGridSearchCV\n",
    "from sklearn.naive_bayes import BernoulliNB\n",
    "from sklearn.neighbors import KNeighborsClassifier\n",
    "from sklearn.preprocessing import StandardScaler\n",
    "from sklearn.svm import SVC\n",
    "from sklearn.tree import DecisionTreeClassifier\n",
    "import matplotlib.pyplot as plt\n",
    "import numpy as np\n",
    "import pandas as pd\n",
    "\n",
    "import warnings\n",
    "warnings.filterwarnings('ignore')\n",
    "\n",
    "%matplotlib inline\n",
    "'imported'"
   ]
  },
  {
   "cell_type": "code",
   "execution_count": 2,
   "id": "00791034",
   "metadata": {},
   "outputs": [
    {
     "data": {
      "text/plain": [
       "(14800, 784)"
      ]
     },
     "execution_count": 2,
     "metadata": {},
     "output_type": "execute_result"
    }
   ],
   "source": [
    "test_df = pd.read_csv('jds3/emnist-letters-test-sh.csv', header=None).values\n",
    "test_df.shape"
   ]
  },
  {
   "cell_type": "code",
   "execution_count": 3,
   "id": "b861575b",
   "metadata": {},
   "outputs": [
    {
     "data": {
      "text/plain": [
       "(88800, 785)"
      ]
     },
     "execution_count": 3,
     "metadata": {},
     "output_type": "execute_result"
    }
   ],
   "source": [
    "train_df = pd.read_csv('jds3/emnist-letters-train.csv.zip', header=None)\n",
    "train_df.shape"
   ]
  },
  {
   "cell_type": "code",
   "execution_count": 4,
   "id": "19473a8b",
   "metadata": {},
   "outputs": [
    {
     "data": {
      "text/plain": [
       "((88800,), (88800, 784))"
      ]
     },
     "execution_count": 4,
     "metadata": {},
     "output_type": "execute_result"
    }
   ],
   "source": [
    "y, X = train_df[0].values, train_df.drop(0, axis=1)\n",
    "X.rename(columns={col + 1: col for col in (X.columns - 1)}, inplace=True)\n",
    "(y.shape, X.shape)"
   ]
  },
  {
   "cell_type": "code",
   "execution_count": 5,
   "id": "8dcc475f",
   "metadata": {},
   "outputs": [
    {
     "data": {
      "text/plain": [
       "'abcdefghijklmnopqrstuvwxyz'"
      ]
     },
     "execution_count": 5,
     "metadata": {},
     "output_type": "execute_result"
    }
   ],
   "source": [
    "alphabet = list(string.ascii_lowercase)\n",
    "string.ascii_lowercase"
   ]
  },
  {
   "cell_type": "code",
   "execution_count": 102,
   "id": "accfd217",
   "metadata": {
    "scrolled": true
   },
   "outputs": [
    {
     "name": "stdout",
     "output_type": "stream",
     "text": [
      "Y = f, idx = 13892\n",
      "lines: [((3, 16), (11, 15)), ((12, 9), (17, 5)), ((12, 14), (17, 14)), ((12, 17), (15, 14)), ((12, 23), (12, 16)), ((18, 4), (23, 3))] \n",
      "\n",
      "CPU times: user 68.6 ms, sys: 4.03 ms, total: 72.6 ms\n",
      "Wall time: 67 ms\n"
     ]
    },
    {
     "data": {
      "image/png": "[encoded data removed]",
      "text/plain": [
       "<Figure size 1152x360 with 4 Axes>"
      ]
     },
     "metadata": {
      "needs_background": "light"
     },
     "output_type": "display_data"
    }
   ],
   "source": [
    "%%time\n",
    "# эксперимент по векторизации изображения\n",
    "# (промежуточные результаты удалены, описание алгоритма в ячейке ниже):\n",
    "fig, (ax1, ax2, ax3, ax4) = plt.subplots(1, 4, figsize=(16, 5))\n",
    "\n",
    "idx = np.random.randint(0, X.shape[0])\n",
    "print(f'Y = {alphabet[y[idx] - 1]}, idx = {idx}')\n",
    "pixels = np.copy(X.loc[idx].values)\n",
    "ax1.imshow(pixels.reshape(28, 28).T)\n",
    "\n",
    "\n",
    "edge = 128\n",
    "pixels[pixels < edge] = 0\n",
    "pixels[pixels >= edge] = 1\n",
    "\n",
    "img = pixels.reshape(28, 28).T\n",
    "ax2.imshow(img)\n",
    "\n",
    "img = skeletonize(img, method='lee')\n",
    "lines = probabilistic_hough_line(img, threshold=2, line_length=3, line_gap=2)\n",
    "ax3.imshow(img)\n",
    "\n",
    "sigma = .75\n",
    "img = gaussian(\n",
    "    img, sigma=(sigma, sigma), cval=1, preserve_range=True\n",
    ")\n",
    "ax4.imshow(img)\n",
    "\n",
    "# сортируем слева направо, сверху вниз\n",
    "lines.sort(key=lambda x: (x[0][0], x[0][1]))\n",
    "print('lines:', lines, '\\n')\n",
    "\n",
    "for line in lines:\n",
    "    (x1, y1), (x2, y2) = line\n",
    "    ax4.plot((x1, x2), (y1, y2), 'r-', linewidth=3.)"
   ]
  },
  {
   "cell_type": "markdown",
   "id": "d8095c65",
   "metadata": {},
   "source": [
    "Минусом данного алгоритма является довольно медленная обработка и нестабильность алгоритма поиска векторов, то есть он не идемпотентен"
   ]
  },
  {
   "cell_type": "code",
   "execution_count": 6,
   "id": "01121283",
   "metadata": {},
   "outputs": [],
   "source": [
    "# оформлю в виде функции\n",
    "def img_vectors(sample):\n",
    "    \"\"\"Векторизация изображения рукописного ввода. Возвращает набор векторов\"\"\"\n",
    "    pixels = np.copy(sample)\n",
    "\n",
    "    # переводим в черное-белое\n",
    "    pixels[pixels < 128] = 0\n",
    "    pixels[pixels >= 128] = 1\n",
    "    img = pixels.reshape(28, 28).T\n",
    "\n",
    "    # очень медленный, но довольно эффективный метод преобразование линий рукописного ввода \n",
    "    # в однопиксельную линию (чем уже линия, тем меньше помех)\n",
    "    img = skeletonize(img)\n",
    "\n",
    "    # извлечение векторов\n",
    "    vects = probabilistic_hough_line(img, threshold=1, line_length=3, line_gap=2)\n",
    "\n",
    "    # сортируем сверху вниз,слева направо\n",
    "    vects.sort(key=lambda x: (x[0][1], x[0][0]))\n",
    "    return vects"
   ]
  },
  {
   "cell_type": "code",
   "execution_count": 7,
   "id": "95e7e7a9",
   "metadata": {},
   "outputs": [
    {
     "name": "stdout",
     "output_type": "stream",
     "text": [
      "total: 88800 , mean lines count: 5.907691441441441\n",
      "Ex: [((19, 6), (21, 3)), ((18, 8), (20, 5)), ((11, 11), (10, 7)), ((16, 12), (18, 9)), ((9, 21), (17, 10))] \n",
      "\n",
      "CPU times: user 25.5 s, sys: 166 ms, total: 25.7 s\n",
      "Wall time: 25.7 s\n"
     ]
    }
   ],
   "source": [
    "%%time\n",
    "# извлечем все вектора тренировочной выборки\n",
    "x_vectors = [img_vectors(row) for row in X.values]\n",
    "print('total:', len(x_vectors), ', mean lines count:', np.mean([len(x) for x in x_vectors]))\n",
    "print('Ex:', x_vectors[101], '\\n')"
   ]
  },
  {
   "cell_type": "code",
   "execution_count": 8,
   "id": "13ca5847",
   "metadata": {},
   "outputs": [],
   "source": [
    "# однако этого мало, было бы неплохо еще собрать статистику по всем линиям каждого примера\n",
    "def img_stats(*vectors):\n",
    "    \"\"\"Извлечение обобщенных метрик геометрии векторов\"\"\"\n",
    "\n",
    "    vectors = np.array(vectors)\n",
    "    intervals = np.linspace(-1, 1., 8)\n",
    "\n",
    "    stats = []\n",
    "    for vector in vectors:\n",
    "        (x1, y1), (x2, y2) = vector\n",
    "        abs_x, abs_y, dx, dy = np.abs(x1 - x2), np.abs(y1 - y2), x1 - x2, y1 - y2\n",
    "        length = np.sqrt(abs_x**2 + abs_y**2)\n",
    "        stats.append({\n",
    "            'x1': x1, 'y1': y1,\n",
    "            'len': length,\n",
    "            'sin': dy / length,\n",
    "            'ltr': 1. if dx > 0 else -1,\n",
    "            'dx': dx, 'dy': dy, 'abs_x': abs_x, 'abs_y': abs_y\n",
    "        })\n",
    "\n",
    "    # счетчики длин по диапазонам углов наклонов \n",
    "    angle_counts = [\n",
    "        sum(1 for i in stats if gte <= i['sin'] * i['ltr'] < lt)\n",
    "        for gte, lt in zip(intervals, intervals[1:])\n",
    "    ]\n",
    "    return np.array([\n",
    "        len(stats),  # общее количество линий\n",
    "        sum(x['abs_x'] for x in stats),  # сумма проекций по X\n",
    "        sum(y['abs_y'] for y in stats),  # сумма проекций по Y\n",
    "    ] + angle_counts, dtype=np.float32)"
   ]
  },
  {
   "cell_type": "code",
   "execution_count": null,
   "id": "11a3b9b7",
   "metadata": {},
   "outputs": [],
   "source": [
    "%%time\n",
    "X_stats = np.array([img_stats(*vectors) for vectors in x_vectors])\n",
    "print(X_stats[101], '\\n')\n",
    "X_stats.shape"
   ]
  },
  {
   "cell_type": "markdown",
   "id": "52e68fc7",
   "metadata": {},
   "source": [
    "Базовая статистика получена. Но не хватает информации о \"фигуре\" векторизованного изображения. Дабы решить эту задачу, попробую рассчитать отрезки векторов в рамках 4 квадратов, на которые поделю исходную плоскость. Затем попробую рассчитать сумму векторов в рамках каждой области, что даст по 4 координаты в каждой области и дополнительно 16 признаков, отражающих внешний вид изображения в каждой четверти."
   ]
  },
  {
   "cell_type": "code",
   "execution_count": null,
   "id": "a72e40fa",
   "metadata": {},
   "outputs": [],
   "source": [
    "def split_squares(w, N=4):\n",
    "    \"\"\"\n",
    "    Функция вернет координаты N квадратных полигонов,\n",
    "    на которые будет разбит исходный квадрат\n",
    "    \"\"\"\n",
    "\n",
    "    n = int(np.sqrt(N))\n",
    "    d = w / n\n",
    "    r = d / 2\n",
    "    c = [i*d+d/2 for i in range(n)]\n",
    "    centers = np.array([[(x, y) for x in c] for y in c]).reshape(-1, 2)\n",
    "    return np.array([\n",
    "        ((x-r, y-r), (x+r, y-r), (x+r, y+r), (x-r, y+r), (x-r, y-r))\n",
    "    for x, y in centers])"
   ]
  },
  {
   "cell_type": "code",
   "execution_count": null,
   "id": "f0de90de",
   "metadata": {},
   "outputs": [],
   "source": [
    "squares = split_squares(28, 4)\n",
    "square_gdf = [gpd.GeoDataFrame(geometry=[Polygon(p)]) for p in squares]\n",
    "square_gdf"
   ]
  },
  {
   "cell_type": "code",
   "execution_count": null,
   "id": "2f8bece1",
   "metadata": {},
   "outputs": [],
   "source": [
    "# опишу функцию, которая вернет вектор внутри каждого квадрата\n",
    "def get_mean_vectors(vectors, square_gdf):\n",
    "    summaries = []\n",
    "    for sq in square_gdf:\n",
    "        summary = np.zeros(4, dtype=np.float32)\n",
    "        occ = 0\n",
    "        for line in lines:\n",
    "            line_geom = LineString(line)\n",
    "            line_gdf = gpd.GeoDataFrame(geometry=[line_geom])\n",
    "            intersection = line_gdf.intersection(sq)\n",
    "\n",
    "            for intersect in intersection.values.data:\n",
    "                coords = [x for x in intersect.coords]\n",
    "                if len(coords) == 2:\n",
    "                    coords = np.array(coords).reshape(4,)\n",
    "                    summary = np.add(summary, coords)\n",
    "                    occ += 1\n",
    "        if not occ:\n",
    "            occ += 1\n",
    "        summaries.append(summary / occ)\n",
    "    return np.array(summaries).reshape(16,)"
   ]
  },
  {
   "cell_type": "code",
   "execution_count": null,
   "id": "8c41db4a",
   "metadata": {},
   "outputs": [],
   "source": [
    "%%time\n",
    "# попробую вызвать для одного из примеров тренировочной выборки\n",
    "X_mean = np.array([get_mean_vectors(row, square_gdf) for row in x_vectors])\n",
    "print(X_mean[101], '\\n')\n",
    "X_mean.shape"
   ]
  },
  {
   "cell_type": "code",
   "execution_count": null,
   "id": "0d2dedc1",
   "metadata": {},
   "outputs": [],
   "source": [
    "%%time\n",
    "intersections = get_mean_vectors(x_vectors[101], square_gdf).reshape(8, 2)"
   ]
  },
  {
   "cell_type": "code",
   "execution_count": 109,
   "id": "1b85b515",
   "metadata": {},
   "outputs": [
    {
     "name": "stdout",
     "output_type": "stream",
     "text": [
      "Y = y, idx = 101\n",
      "lines: [((18, 8), (21, 3)), ((13, 14), (11, 10)), ((11, 18), (19, 7)), ((7, 23), (13, 16))] \n",
      "\n",
      "CPU times: user 37.2 ms, sys: 535 µs, total: 37.7 ms\n",
      "Wall time: 33.8 ms\n"
     ]
    },
    {
     "data": {
      "image/png": "[encoded data removed]",
      "text/plain": [
       "<Figure size 1152x360 with 1 Axes>"
      ]
     },
     "metadata": {
      "needs_background": "light"
     },
     "output_type": "display_data"
    }
   ],
   "source": [
    "%%time\n",
    "# эксперимент по векторизации изображения\n",
    "# (промежуточные результаты удалены, описание алгоритма в ячейке ниже):\n",
    "fig, ax = plt.subplots(1, figsize=(16, 5))\n",
    "\n",
    "idx = 101\n",
    "print(f'Y = {alphabet[y[idx] - 1]}, idx = {idx}')\n",
    "pixels = np.copy(X.loc[idx].values)\n",
    "edge = 128\n",
    "pixels[pixels < edge] = 0\n",
    "pixels[pixels >= edge] = 1\n",
    "img = pixels.reshape(28, 28).T\n",
    "img = skeletonize(img, method='lee')\n",
    "lines = x_vectors[idx]\n",
    "sigma = .75\n",
    "img = gaussian(\n",
    "    img, sigma=(sigma, sigma), cval=1, preserve_range=True\n",
    ")\n",
    "ax.imshow(img)\n",
    "\n",
    "print('lines:', lines, '\\n')\n",
    "\n",
    "for line in lines:\n",
    "    (x1, y1), (x2, y2) = line\n",
    "    ax.plot((x1, x2), (y1, y2), 'r-', linewidth=3.)\n",
    "\n",
    "ax.hlines(y=14, xmin=-0.5, xmax=27.5, linewidth=1, color='r')\n",
    "ax.vlines(x=14, ymin=-0.5, ymax=27.5, linewidth=1, color='r')\n",
    "\n",
    "for intersection in intersections:\n",
    "    (x1, y1), (x2, y2) = intersection\n",
    "    ax.plot((x1, x2), (y1, y2), 'b-', linewidth=3.)"
   ]
  }
 ],
 "metadata": {
  "kernelspec": {
   "display_name": "Python 3 (ipykernel)",
   "language": "python",
   "name": "python3"
  },
  "language_info": {
   "codemirror_mode": {
    "name": "ipython",
    "version": 3
   },
   "file_extension": ".py",
   "mimetype": "text/x-python",
   "name": "python",
   "nbconvert_exporter": "python",
   "pygments_lexer": "ipython3",
   "version": "3.8.10"
  }
 },
 "nbformat": 4,
 "nbformat_minor": 5
}
