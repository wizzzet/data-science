{
 "cells": [
  {
   "cell_type": "markdown",
   "id": "6f084e0b",
   "metadata": {},
   "source": [
    "Данный ноутбук был составлен после нескольких десятков попыток достичь высокого результата при работе над обучением модели распознавания базы MNIST \"попиксельно\". Однако, имея мало свободного времени на тренировки, не упел найти хорошие гиперпараметры моделей: самый перспективный на первый взгляд SVC тренировался очень медленно и часто выдавал единственное прогнозируемое значение. \"Случайный лес\" хорошо показал себя на тренировочной выборке, но на тестовой давал результаты хуже на 20-30%. Параметры, уменьшающие переобучение, быстро подобрать не удалось. Лучшая точность была 0.62 на Random Forest (при квантовании изображения в черное и белое и выбраковке неиформативных признаков). Ссылка на предыдущие попытки: \n",
    "\n",
    "В задаче не было условий на предобработку входящих данных. Учитвая то, что выборки MNIST не умеют шума в фоне и приведены в 8 битную ч/б палитру, воспользусь этим и попробую векторизовать рукописный ввод. Векторизация позволит значительно снизить количество признаков, при этом по-максимуму сохранив информацию о символах ввода. Так так скорость предобработки изображений по условиям соревнования не ограничена, попробую найти решение векторизации \"в лоб\".\n",
    "\n",
    "\n",
    "\n",
    "### Отчет\n",
    "Лучший результат составил всего 0.67. Похоже, что при векторизации были утеряны важные признаки, которые были важны при предсказании. В ходе обработки данных использовался несовершенный алгоритм скелетонизации, который пропускал важные \"крючки\". Функция векторизации также пропускала отклонения от основных линий. Кроме того, скорее всего были подобраны не все и не лучшие метрики найденных векторов, сигнатура примеров оказалась неполной. В итоге, потеря информации в процессе подготовки данных снизила качество результата.\n",
    "\n",
    "С другой стороны, подход показался интересным, так как тренировка классификаторов происходила при 27 признаках быстрее, чем при классическом подходе, где, без уменьшения размерности, учитывалсь не менее 600 признаков.\n",
    "\n",
    "Возвращаюсь к классической схеме в старый ноутбук. Попробую уменьшить размерность и использовать ансамблевые модели.\n",
    "\n",
    "\n",
    "### Подготовка среды"
   ]
  },
  {
   "cell_type": "code",
   "execution_count": 1,
   "id": "1cff9054",
   "metadata": {
    "scrolled": true
   },
   "outputs": [
    {
     "name": "stdout",
     "output_type": "stream",
     "text": [
      "Defaulting to user installation because normal site-packages is not writeable\n",
      "Requirement already satisfied: kaggle in /home/wizzzet/.local/lib/python3.8/site-packages (1.5.12)\n",
      "Requirement already satisfied: scikit-learn==1.0 in /home/wizzzet/.local/lib/python3.8/site-packages (1.0)\n",
      "Requirement already satisfied: scikit-image in /home/wizzzet/.local/lib/python3.8/site-packages (0.18.3)\n",
      "Requirement already satisfied: geopandas in /home/wizzzet/.local/lib/python3.8/site-packages (0.10.1)\n",
      "Requirement already satisfied: shapely in /home/wizzzet/.local/lib/python3.8/site-packages (1.7.1)\n",
      "Requirement already satisfied: numpy>=1.14.6 in /home/wizzzet/.local/lib/python3.8/site-packages (from scikit-learn==1.0) (1.21.2)\n",
      "Requirement already satisfied: threadpoolctl>=2.0.0 in /home/wizzzet/.local/lib/python3.8/site-packages (from scikit-learn==1.0) (3.0.0)\n",
      "Requirement already satisfied: scipy>=1.1.0 in /home/wizzzet/.local/lib/python3.8/site-packages (from scikit-learn==1.0) (1.7.1)\n",
      "Requirement already satisfied: joblib>=0.11 in /home/wizzzet/.local/lib/python3.8/site-packages (from scikit-learn==1.0) (1.0.1)\n",
      "Requirement already satisfied: urllib3 in /home/wizzzet/.local/lib/python3.8/site-packages (from kaggle) (1.25.6)\n",
      "Requirement already satisfied: python-dateutil in /usr/lib/python3/dist-packages (from kaggle) (2.7.3)\n",
      "Requirement already satisfied: tqdm in /home/wizzzet/.local/lib/python3.8/site-packages (from kaggle) (4.62.3)\n",
      "Requirement already satisfied: python-slugify in /home/wizzzet/.local/lib/python3.8/site-packages (from kaggle) (5.0.2)\n",
      "Requirement already satisfied: certifi in /home/wizzzet/.local/lib/python3.8/site-packages (from kaggle) (2019.9.11)\n",
      "Requirement already satisfied: six>=1.10 in /home/wizzzet/.local/lib/python3.8/site-packages (from kaggle) (1.13.0)\n",
      "Requirement already satisfied: requests in /home/wizzzet/.local/lib/python3.8/site-packages (from kaggle) (2.22.0)\n",
      "Requirement already satisfied: networkx>=2.0 in /home/wizzzet/.local/lib/python3.8/site-packages (from scikit-image) (2.6.3)\n",
      "Requirement already satisfied: pillow!=7.1.0,!=7.1.1,>=4.3.0 in /home/wizzzet/.local/lib/python3.8/site-packages (from scikit-image) (6.2.1)\n",
      "Requirement already satisfied: tifffile>=2019.7.26 in /home/wizzzet/.local/lib/python3.8/site-packages (from scikit-image) (2021.8.30)\n",
      "Requirement already satisfied: imageio>=2.3.0 in /home/wizzzet/.local/lib/python3.8/site-packages (from scikit-image) (2.9.0)\n",
      "Requirement already satisfied: matplotlib!=3.0.0,>=2.0.0 in /home/wizzzet/.local/lib/python3.8/site-packages (from scikit-image) (3.4.3)\n",
      "Requirement already satisfied: PyWavelets>=1.1.1 in /home/wizzzet/.local/lib/python3.8/site-packages (from scikit-image) (1.1.1)\n",
      "Requirement already satisfied: pyproj>=2.2.0 in /home/wizzzet/.local/lib/python3.8/site-packages (from geopandas) (3.2.1)\n",
      "Requirement already satisfied: fiona>=1.8 in /home/wizzzet/.local/lib/python3.8/site-packages (from geopandas) (1.8.20)\n",
      "Requirement already satisfied: pandas>=0.25.0 in /home/wizzzet/.local/lib/python3.8/site-packages (from geopandas) (1.3.3)\n",
      "Requirement already satisfied: attrs>=17 in /home/wizzzet/.local/lib/python3.8/site-packages (from fiona>=1.8->geopandas) (21.2.0)\n",
      "Requirement already satisfied: click>=4.0 in /home/wizzzet/.local/lib/python3.8/site-packages (from fiona>=1.8->geopandas) (8.0.2)\n",
      "Requirement already satisfied: munch in /home/wizzzet/.local/lib/python3.8/site-packages (from fiona>=1.8->geopandas) (2.5.0)\n",
      "Requirement already satisfied: click-plugins>=1.0 in /home/wizzzet/.local/lib/python3.8/site-packages (from fiona>=1.8->geopandas) (1.1.1)\n",
      "Requirement already satisfied: cligj>=0.5 in /home/wizzzet/.local/lib/python3.8/site-packages (from fiona>=1.8->geopandas) (0.7.2)\n",
      "Requirement already satisfied: setuptools in /home/wizzzet/.local/lib/python3.8/site-packages (from fiona>=1.8->geopandas) (58.1.0)\n",
      "Requirement already satisfied: kiwisolver>=1.0.1 in /home/wizzzet/.local/lib/python3.8/site-packages (from matplotlib!=3.0.0,>=2.0.0->scikit-image) (1.3.2)\n",
      "Requirement already satisfied: pyparsing>=2.2.1 in /home/wizzzet/.local/lib/python3.8/site-packages (from matplotlib!=3.0.0,>=2.0.0->scikit-image) (2.4.7)\n",
      "Requirement already satisfied: cycler>=0.10 in /home/wizzzet/.local/lib/python3.8/site-packages (from matplotlib!=3.0.0,>=2.0.0->scikit-image) (0.10.0)\n",
      "Requirement already satisfied: pytz>=2017.3 in /usr/lib/python3/dist-packages (from pandas>=0.25.0->geopandas) (2019.3)\n",
      "Requirement already satisfied: text-unidecode>=1.3 in /home/wizzzet/.local/lib/python3.8/site-packages (from python-slugify->kaggle) (1.3)\n",
      "Requirement already satisfied: chardet<3.1.0,>=3.0.2 in /usr/lib/python3/dist-packages (from requests->kaggle) (3.0.4)\n",
      "Requirement already satisfied: idna<2.9,>=2.5 in /usr/lib/python3/dist-packages (from requests->kaggle) (2.8)\n"
     ]
    }
   ],
   "source": [
    "!pip install -U kaggle scikit-learn==1.0 scikit-image geopandas shapely"
   ]
  },
  {
   "cell_type": "code",
   "execution_count": null,
   "id": "90bed69d",
   "metadata": {},
   "outputs": [],
   "source": [
    "!touch /content/kaggle.json\n",
    "!chmod 600 /content/kaggle.json"
   ]
  },
  {
   "cell_type": "code",
   "execution_count": null,
   "id": "a1ac8233",
   "metadata": {},
   "outputs": [],
   "source": [
    "os.environ['KAGGLE_CONFIG_DIR'] = '/content/'\n",
    "api_token = {'username': 'rafaelkamashev', 'key': 'e6891d0b2b04d3bd70bcc194f6157081'}\n",
    "\n",
    "with open('/content/kaggle.json', 'w') as file:\n",
    "    json.dump(api_token, file)"
   ]
  },
  {
   "cell_type": "code",
   "execution_count": null,
   "id": "047b5bc2",
   "metadata": {},
   "outputs": [],
   "source": [
    "!kaggle competitions download -c jds3 --force"
   ]
  },
  {
   "cell_type": "code",
   "execution_count": null,
   "id": "6a320957",
   "metadata": {},
   "outputs": [],
   "source": [
    "from google.colab import drive\n",
    "drive.mount('/content/drive')"
   ]
  },
  {
   "cell_type": "code",
   "execution_count": 59,
   "id": "84d3f952",
   "metadata": {},
   "outputs": [
    {
     "data": {
      "text/plain": [
       "'imported'"
      ]
     },
     "execution_count": 59,
     "metadata": {},
     "output_type": "execute_result"
    }
   ],
   "source": [
    "from collections import OrderedDict\n",
    "import json\n",
    "import os\n",
    "import string\n",
    "\n",
    "import geopandas as gpd\n",
    "from shapely.geometry import Polygon, LineString\n",
    "from skimage.morphology import skeletonize\n",
    "from skimage.filters import gaussian\n",
    "from skimage.transform import probabilistic_hough_line\n",
    "from sklearn.decomposition import PCA\n",
    "from sklearn.ensemble import RandomForestClassifier\n",
    "from sklearn.linear_model import Lasso, LogisticRegression, Ridge\n",
    "from sklearn.metrics import accuracy_score\n",
    "from sklearn.model_selection import cross_val_score, KFold, train_test_split\n",
    "# странно, почему в приватном модуле?\n",
    "from sklearn.model_selection._search_successive_halving import HalvingGridSearchCV\n",
    "from sklearn.naive_bayes import BernoulliNB\n",
    "from sklearn.neighbors import KNeighborsClassifier\n",
    "from sklearn.preprocessing import StandardScaler\n",
    "from sklearn.svm import SVC\n",
    "from sklearn.tree import DecisionTreeClassifier\n",
    "import matplotlib.pyplot as plt\n",
    "import numpy as np\n",
    "import pandas as pd\n",
    "\n",
    "import warnings\n",
    "warnings.filterwarnings('ignore')\n",
    "\n",
    "%matplotlib inline\n",
    "'imported'"
   ]
  },
  {
   "cell_type": "markdown",
   "id": "666527bc",
   "metadata": {},
   "source": [
    "### Импорт данных"
   ]
  },
  {
   "cell_type": "code",
   "execution_count": 48,
   "id": "00791034",
   "metadata": {},
   "outputs": [
    {
     "data": {
      "text/plain": [
       "(14800, 784)"
      ]
     },
     "execution_count": 48,
     "metadata": {},
     "output_type": "execute_result"
    }
   ],
   "source": [
    "# грузим тестовый набор\n",
    "X_test = pd.read_csv('jds3/emnist-letters-test-sh.csv', header=None).values\n",
    "X_test.shape"
   ]
  },
  {
   "cell_type": "code",
   "execution_count": 3,
   "id": "b861575b",
   "metadata": {},
   "outputs": [
    {
     "data": {
      "text/plain": [
       "(88800, 785)"
      ]
     },
     "execution_count": 3,
     "metadata": {},
     "output_type": "execute_result"
    }
   ],
   "source": [
    "# грузим тренировочный набор\n",
    "train_df = pd.read_csv('jds3/emnist-letters-train.csv.zip', header=None)\n",
    "train_df.shape"
   ]
  },
  {
   "cell_type": "code",
   "execution_count": 4,
   "id": "19473a8b",
   "metadata": {},
   "outputs": [
    {
     "data": {
      "text/plain": [
       "((88800,), (88800, 784))"
      ]
     },
     "execution_count": 4,
     "metadata": {},
     "output_type": "execute_result"
    }
   ],
   "source": [
    "# отделяем \n",
    "y, X = train_df[0].values, train_df.drop(0, axis=1)\n",
    "X.rename(columns={col + 1: col for col in (X.columns - 1)}, inplace=True)\n",
    "(y.shape, X.shape)"
   ]
  },
  {
   "cell_type": "code",
   "execution_count": 5,
   "id": "8dcc475f",
   "metadata": {},
   "outputs": [
    {
     "data": {
      "text/plain": [
       "'abcdefghijklmnopqrstuvwxyz'"
      ]
     },
     "execution_count": 5,
     "metadata": {},
     "output_type": "execute_result"
    }
   ],
   "source": [
    "alphabet = list(string.ascii_lowercase)\n",
    "string.ascii_lowercase"
   ]
  },
  {
   "cell_type": "markdown",
   "id": "5fddc668",
   "metadata": {},
   "source": [
    "### Векторизация"
   ]
  },
  {
   "cell_type": "code",
   "execution_count": 6,
   "id": "accfd217",
   "metadata": {
    "scrolled": true
   },
   "outputs": [
    {
     "name": "stdout",
     "output_type": "stream",
     "text": [
      "Y = r, idx = 85259\n",
      "lines: [((7, 20), (9, 9)), ((11, 7), (16, 7)), ((21, 10), (18, 9))] \n",
      "\n",
      "CPU times: user 70 ms, sys: 1.71 ms, total: 71.7 ms\n",
      "Wall time: 64.7 ms\n"
     ]
    },
    {
     "data": {
      "image/png": "[encoded data removed]",
      "text/plain": [
       "<Figure size 1152x360 with 4 Axes>"
      ]
     },
     "metadata": {
      "needs_background": "light"
     },
     "output_type": "display_data"
    }
   ],
   "source": [
    "%%time\n",
    "# эксперимент по векторизации изображения\n",
    "# (промежуточные результаты удалены, описание алгоритма в ячейке ниже):\n",
    "fig, (ax1, ax2, ax3, ax4) = plt.subplots(1, 4, figsize=(16, 5))\n",
    "\n",
    "idx = np.random.randint(0, X.shape[0])\n",
    "print(f'Y = {alphabet[y[idx] - 1]}, idx = {idx}')\n",
    "pixels = np.copy(X.loc[idx].values)\n",
    "ax1.imshow(pixels.reshape(28, 28).T)\n",
    "\n",
    "\n",
    "edge = 128\n",
    "pixels[pixels < edge] = 0\n",
    "pixels[pixels >= edge] = 1\n",
    "\n",
    "img = pixels.reshape(28, 28).T\n",
    "ax2.imshow(img)\n",
    "\n",
    "img = skeletonize(img, method='lee')\n",
    "lines = probabilistic_hough_line(img, threshold=2, line_length=3, line_gap=2)\n",
    "ax3.imshow(img)\n",
    "\n",
    "sigma = .75\n",
    "# img = gaussian(\n",
    "#     img, sigma=(sigma, sigma), cval=1, preserve_range=True\n",
    "# )\n",
    "ax4.imshow(img)\n",
    "\n",
    "# сортируем слева направо, сверху вниз\n",
    "lines.sort(key=lambda x: (x[0][0], x[0][1]))\n",
    "print('lines:', lines, '\\n')\n",
    "\n",
    "for line in lines:\n",
    "    (x1, y1), (x2, y2) = line\n",
    "    ax4.plot((x1, x2), (y1, y2), 'r-', linewidth=3.)"
   ]
  },
  {
   "cell_type": "markdown",
   "id": "d8095c65",
   "metadata": {},
   "source": [
    "Минусом данного алгоритма является довольно медленная обработка и нестабильность алгоритма поиска векторов (не идемпотентен)"
   ]
  },
  {
   "cell_type": "code",
   "execution_count": 7,
   "id": "01121283",
   "metadata": {},
   "outputs": [],
   "source": [
    "# оформлю в виде функции\n",
    "def img_vectors(sample):\n",
    "    \"\"\"Векторизация изображения рукописного ввода. Возвращает набор векторов\"\"\"\n",
    "    pixels = np.copy(sample)\n",
    "\n",
    "    # переводим в черное-белое\n",
    "    pixels[pixels < 128] = 0\n",
    "    pixels[pixels >= 128] = 1\n",
    "    img = pixels.reshape(28, 28).T\n",
    "\n",
    "    # очень медленный, но довольно эффективный метод преобразование линий рукописного ввода \n",
    "    # в однопиксельную линию (чем уже линия, тем меньше помех)\n",
    "    img = skeletonize(img)\n",
    "\n",
    "    # извлечение векторов\n",
    "    vects = probabilistic_hough_line(img, threshold=1, line_length=3, line_gap=2)\n",
    "\n",
    "    # сортируем сверху вниз,слева направо\n",
    "    vects.sort(key=lambda x: (x[0][1], x[0][0]))\n",
    "    return vects"
   ]
  },
  {
   "cell_type": "code",
   "execution_count": 8,
   "id": "95e7e7a9",
   "metadata": {},
   "outputs": [
    {
     "name": "stdout",
     "output_type": "stream",
     "text": [
      "total: 88800 , mean lines count: 5.898592342342343\n",
      "Ex: [((19, 6), (21, 3)), ((17, 10), (20, 5)), ((11, 11), (10, 7)), ((16, 12), (18, 9)), ((13, 16), (15, 12)), ((7, 23), (12, 17))] \n",
      "\n",
      "CPU times: user 26.4 s, sys: 193 ms, total: 26.6 s\n",
      "Wall time: 26.6 s\n"
     ]
    }
   ],
   "source": [
    "%%time\n",
    "# извлечем все вектора тренировочной выборки\n",
    "x_vectors = [img_vectors(row) for row in X.values]\n",
    "print('total:', len(x_vectors), ', mean lines count:', np.mean([len(x) for x in x_vectors]))\n",
    "print('Ex:', x_vectors[101], '\\n')"
   ]
  },
  {
   "cell_type": "markdown",
   "id": "24357b34",
   "metadata": {},
   "source": [
    "На весь тренировочный набор уходит около 30 секунд. Теперь было бы еще неплохо получить статистику из векторов обучающих примеров\n",
    "\n",
    "### Сбор общей статистики о геометрии ручного ввода"
   ]
  },
  {
   "cell_type": "code",
   "execution_count": 9,
   "id": "13ca5847",
   "metadata": {},
   "outputs": [],
   "source": [
    "def img_stats(*vectors):\n",
    "    \"\"\"Извлечение обобщенных метрик геометрии векторов\"\"\"\n",
    "\n",
    "    vectors = np.array(vectors)\n",
    "    intervals = np.linspace(-1, 1., 9)\n",
    "\n",
    "    stats = []\n",
    "    for vector in vectors:\n",
    "        (x1, y1), (x2, y2) = vector\n",
    "        abs_x, abs_y, dx, dy = np.abs(x1 - x2), np.abs(y1 - y2), x1 - x2, y1 - y2\n",
    "        length = np.sqrt(abs_x**2 + abs_y**2)\n",
    "        stats.append({\n",
    "            'x1': x1, 'y1': y1,\n",
    "            'len': length,\n",
    "            'sin': dy / length,\n",
    "            'ltr': 1. if dx > 0 else -1,\n",
    "            'dx': dx, 'dy': dy, 'abs_x': abs_x, 'abs_y': abs_y\n",
    "        })\n",
    "\n",
    "    # счетчики длин по диапазонам углов наклонов\n",
    "    # (короткие отрезки часто бывают ложные, поэтому штрафуем)\n",
    "    angle_counts = [\n",
    "        sum(i['len'] for i in stats if gte <= i['sin'] * i['ltr'] < lt)\n",
    "        for gte, lt in zip(intervals, intervals[1:])\n",
    "    ]\n",
    "    return np.array([\n",
    "        len(stats),  # общее количество линий\n",
    "        sum(x['abs_x'] for x in stats),  # сумма проекций по X\n",
    "        sum(y['abs_y'] for y in stats),  # сумма проекций по Y\n",
    "    ] + angle_counts, dtype=np.float32)"
   ]
  },
  {
   "cell_type": "code",
   "execution_count": 10,
   "id": "11a3b9b7",
   "metadata": {},
   "outputs": [
    {
     "name": "stdout",
     "output_type": "stream",
     "text": [
      "Ex: [ 6.        15.        25.        25.32444    0.         0.\n",
      "  0.         0.         0.         0.         4.1231055] \n",
      "\n",
      "CPU times: user 9.69 s, sys: 192 ms, total: 9.88 s\n",
      "Wall time: 9.68 s\n"
     ]
    },
    {
     "data": {
      "text/plain": [
       "(88800, 11)"
      ]
     },
     "execution_count": 10,
     "metadata": {},
     "output_type": "execute_result"
    }
   ],
   "source": [
    "%%time\n",
    "X_stats = np.array([img_stats(*vectors) for vectors in x_vectors])\n",
    "print('Ex:', X_stats[101], '\\n')\n",
    "X_stats.shape"
   ]
  },
  {
   "cell_type": "markdown",
   "id": "52e68fc7",
   "metadata": {},
   "source": [
    "Базовая статистика получена. Но не хватает информации о \"фигуре\" векторизованного изображения. Дабы решить эту задачу, попробую рассчитать отрезки векторов в рамках 4 квадратов, на которые поделю исходную плоскость. Затем попробую рассчитать сумму векторов в рамках каждой области, что даст по 4 координаты в каждой области и дополнительно 16 признаков, отражающих внешний вид изображения в каждой четверти.\n",
    "\n",
    "### Сбор статистики о фигуре линий ввода в примерах"
   ]
  },
  {
   "cell_type": "code",
   "execution_count": 11,
   "id": "a72e40fa",
   "metadata": {},
   "outputs": [],
   "source": [
    "def split_squares(w, N=4):\n",
    "    \"\"\"\n",
    "    Функция вернет координаты N квадратных полигонов,\n",
    "    на которые будет разбит исходный квадрат\n",
    "    \"\"\"\n",
    "\n",
    "    n = int(np.sqrt(N))\n",
    "    d = w / n\n",
    "    r = d / 2\n",
    "    c = [i*d+d/2 for i in range(n)]\n",
    "    centers = np.array([[(x, y) for x in c] for y in c]).reshape(-1, 2)\n",
    "\n",
    "    return np.array([\n",
    "        ((x-r, y-r), (x+r, y-r), (x+r, y+r), (x-r, y+r), (x-r, y-r)) \n",
    "        for x, y in centers\n",
    "    ])"
   ]
  },
  {
   "cell_type": "code",
   "execution_count": 12,
   "id": "f0de90de",
   "metadata": {},
   "outputs": [
    {
     "data": {
      "text/plain": [
       "[                                            geometry\n",
       " 0  POLYGON ((0.00000 0.00000, 14.00000 0.00000, 1...,\n",
       "                                             geometry\n",
       " 0  POLYGON ((14.00000 0.00000, 28.00000 0.00000, ...,\n",
       "                                             geometry\n",
       " 0  POLYGON ((0.00000 14.00000, 14.00000 14.00000,...,\n",
       "                                             geometry\n",
       " 0  POLYGON ((14.00000 14.00000, 28.00000 14.00000...]"
      ]
     },
     "execution_count": 12,
     "metadata": {},
     "output_type": "execute_result"
    }
   ],
   "source": [
    "squares = split_squares(28, 4)\n",
    "square_gdf = [gpd.GeoDataFrame(geometry=[Polygon(p)]) for p in squares]\n",
    "square_gdf"
   ]
  },
  {
   "cell_type": "code",
   "execution_count": 13,
   "id": "2f8bece1",
   "metadata": {},
   "outputs": [],
   "source": [
    "# опишу функцию, которая вернет вектор внутри каждого квадрата\n",
    "def get_mean_vectors(vectors, square_gdf):\n",
    "    summaries = []\n",
    "    for sq in square_gdf:\n",
    "        summary = np.zeros(4, dtype=np.float32)\n",
    "        occ = 0\n",
    "        for vector in vectors:\n",
    "            vector_gdf = gpd.GeoDataFrame(geometry=[LineString(vector)])\n",
    "            intersection = vector_gdf.intersection(sq)\n",
    "\n",
    "            for intersect in intersection.values.data:\n",
    "                coords = [x for x in intersect.coords]\n",
    "                if len(coords) == 2:\n",
    "                    coords = np.array(coords).reshape(4,)\n",
    "                    summary = np.add(summary, coords)\n",
    "                    occ += 1\n",
    "\n",
    "        if not occ:\n",
    "            occ += 1\n",
    "        summaries.append(summary / occ)\n",
    "    return np.array(summaries).reshape(16,)"
   ]
  },
  {
   "cell_type": "code",
   "execution_count": 25,
   "id": "8c41db4a",
   "metadata": {},
   "outputs": [
    {
     "name": "stdout",
     "output_type": "stream",
     "text": [
      "[11.   11.   10.    7.   16.5  10.5  18.5   7.25 10.   19.5  13.   15.5\n",
      "  0.    0.    0.    0.  ] \n",
      "\n",
      "CPU times: user 36min 17s, sys: 459 ms, total: 36min 18s\n",
      "Wall time: 36min 17s\n"
     ]
    },
    {
     "data": {
      "text/plain": [
       "(88800, 16)"
      ]
     },
     "execution_count": 25,
     "metadata": {},
     "output_type": "execute_result"
    }
   ],
   "source": [
    "%%time\n",
    "# попробую вызвать для одного из примеров тренировочной выборки\n",
    "X_mean = np.array([get_mean_vectors(row, square_gdf) for row in x_vectors])\n",
    "print(X_mean[101], '\\n')\n",
    "X_mean.shape"
   ]
  },
  {
   "cell_type": "markdown",
   "id": "bd509ac1",
   "metadata": {},
   "source": [
    "### Финальная подготовка, сохранение предобработанных данных\n",
    "\n",
    "Получилось очень медленно (около получаса на локальной машинне), поэтому сохраню полученную матрицу в csv, а потом загружу из него. При последующих прогонах можно будет пропустить данный шаг данных при наличии csv-файла.\n",
    "\n",
    "Теперь у нас есть общая статистика и усредненный вектор для 4 квадратов матрицы изображения. Все признаки можно склеить вместе и приступить к обучению модели. Попробую для предварительной оценки реализовать \"в лоб\" модель на основе \"случайного леса\", так как она не потребует нормализации входных данных. "
   ]
  },
  {
   "cell_type": "code",
   "execution_count": 32,
   "id": "5c08c8d2",
   "metadata": {},
   "outputs": [
    {
     "name": "stdout",
     "output_type": "stream",
     "text": [
      "[ 4.         16.         23.         22.86074638  0.          0.\n",
      "  0.          0.          0.          0.          5.38516474 11.66666667\n",
      " 12.5        10.5         8.5        17.         10.         19.5\n",
      "  6.         11.         18.5        12.16666667 15.5         0.\n",
      "  0.          0.          0.        ]\n"
     ]
    },
    {
     "data": {
      "text/plain": [
       "(88800, 27)"
      ]
     },
     "execution_count": 32,
     "metadata": {},
     "output_type": "execute_result"
    }
   ],
   "source": [
    "X_all = np.concatenate((X_stats, X_mean), axis=1)\n",
    "print(X_all[101])\n",
    "X_all.shape"
   ]
  },
  {
   "cell_type": "code",
   "execution_count": 33,
   "id": "be91846f",
   "metadata": {},
   "outputs": [],
   "source": [
    "pd.DataFrame(X_all).to_csv('mnist_stat_train.csv', header=False, index=False)"
   ]
  },
  {
   "cell_type": "code",
   "execution_count": 26,
   "id": "a48e1d40",
   "metadata": {},
   "outputs": [],
   "source": [
    "pd.DataFrame(X_mean).to_csv('mnist_mean_train.csv', header=False, index=False)"
   ]
  },
  {
   "cell_type": "code",
   "execution_count": null,
   "id": "43665c41",
   "metadata": {},
   "outputs": [],
   "source": [
    "X_mean = pd.read_csv('mnist_mean_train.csv', header=None).values\n",
    "X_mean.shape"
   ]
  },
  {
   "cell_type": "code",
   "execution_count": 14,
   "id": "1b85b515",
   "metadata": {},
   "outputs": [
    {
     "data": {
      "text/plain": [
       "(88800, 27)"
      ]
     },
     "execution_count": 14,
     "metadata": {},
     "output_type": "execute_result"
    }
   ],
   "source": [
    "X_all = pd.read_csv('mnist_stat_train.csv', header=None).values\n",
    "X_all.shape"
   ]
  },
  {
   "cell_type": "code",
   "execution_count": 50,
   "id": "f204e961",
   "metadata": {},
   "outputs": [
    {
     "name": "stdout",
     "output_type": "stream",
     "text": [
      "[ 5.         21.         22.          7.07106781  0.          4.47213602\n",
      "  0.          9.          0.          0.         15.09901905  6.\n",
      " 13.          9.         10.5        15.375      14.         16.\n",
      " 13.5         7.         17.         11.         14.         18.\n",
      " 17.5        16.375      14.        ]\n"
     ]
    },
    {
     "data": {
      "text/plain": [
       "(14800, 27)"
      ]
     },
     "execution_count": 50,
     "metadata": {},
     "output_type": "execute_result"
    }
   ],
   "source": [
    "# То же самое нужно проделать с тестовой выборкой\n",
    "x_vectors_test = [img_vectors(row) for row in X_test]\n",
    "X_stats_test = np.array([img_stats(*vectors) for vectors in x_vectors_test])\n",
    "X_mean_test = np.array([get_mean_vectors(row, square_gdf) for row in x_vectors_test])\n",
    "X_all_test = np.concatenate((X_stats_test, X_mean_test), axis=1)\n",
    "print(X_all_test[20])\n",
    "X_all_test.shape"
   ]
  },
  {
   "cell_type": "code",
   "execution_count": 52,
   "id": "4d9dfc48",
   "metadata": {},
   "outputs": [],
   "source": [
    "pd.DataFrame(X_all_test).to_csv('mnist_stat_test.csv', header=False, index=False)"
   ]
  },
  {
   "cell_type": "code",
   "execution_count": 53,
   "id": "61ffc5ef",
   "metadata": {},
   "outputs": [
    {
     "data": {
      "text/plain": [
       "(14800, 27)"
      ]
     },
     "execution_count": 53,
     "metadata": {},
     "output_type": "execute_result"
    }
   ],
   "source": [
    "X_all_test = pd.read_csv('mnist_stat_test.csv', header=None).values\n",
    "X_all_test.shape"
   ]
  },
  {
   "cell_type": "markdown",
   "id": "415bee5a",
   "metadata": {},
   "source": [
    "### Предварительная оценка через RandomForest"
   ]
  },
  {
   "cell_type": "code",
   "execution_count": 18,
   "id": "4347bb3c",
   "metadata": {},
   "outputs": [
    {
     "name": "stdout",
     "output_type": "stream",
     "text": [
      "RandomForest: (13320,) [ 5 22 26 19  9 18 17 22 17 23] 0.6674174174174174\n"
     ]
    }
   ],
   "source": [
    "X_train, X_val, y_train, y_val = train_test_split(X_all, y, test_size=.15, random_state=2)\n",
    "\n",
    "clf = RandomForestClassifier(max_depth=12, min_samples_split=5, n_estimators=550, n_jobs=-1, verbose=0)\n",
    "clf.fit(X_train, y_train)\n",
    "\n",
    "y_pred = clf.predict(X_val)\n",
    "acc = accuracy_score(y_val, y_pred)\n",
    "print(f'RandomForest:', y_pred.shape, y_pred[:10], acc)\n",
    "\n",
    "submission = pd.DataFrame({'Id': np.arange(1, X_val.shape[0] + 1), 'Category': y_pred})\n",
    "submission.to_csv(f'jds3/kaggle_mnist_vect_rf_val.csv', index=False)"
   ]
  },
  {
   "cell_type": "code",
   "execution_count": 19,
   "id": "0871c3c0",
   "metadata": {},
   "outputs": [
    {
     "name": "stdout",
     "output_type": "stream",
     "text": [
      "[-0.9532519  -0.56521636 -0.03315054  0.76983462 -0.69130786 -0.52229269\n",
      " -0.45724512 -0.93449952 -0.33512118 -0.44002141  0.1835719   0.83517466\n",
      "  0.44883801  0.04069116  0.15617505  0.37209068  0.05834589  0.46269645\n",
      " -0.32375156  0.84538416 -0.12819915  0.71205728 -0.15746468 -1.99417726\n",
      " -2.02021684 -1.9984184  -1.98888425]\n"
     ]
    },
    {
     "data": {
      "text/plain": [
       "(88800, 27)"
      ]
     },
     "execution_count": 19,
     "metadata": {},
     "output_type": "execute_result"
    }
   ],
   "source": [
    "sc = StandardScaler()\n",
    "X_scaled = sc.fit_transform(X_all)\n",
    "print(X_scaled[101])\n",
    "X_scaled.shape"
   ]
  },
  {
   "cell_type": "code",
   "execution_count": 20,
   "id": "90eca975",
   "metadata": {},
   "outputs": [],
   "source": [
    "X_vectors = np.zeros((len(x_vectors), 40), dtype=int)\n",
    "for i, vectors in enumerate(x_vectors):\n",
    "    row = X_vectors[i]\n",
    "    for j, vec in enumerate(vectors[:10]):\n",
    "        s = j * 4\n",
    "        vec = np.array(vec).reshape(4,)\n",
    "        row[s], row[s+1], row[s+2], row[s+3] = vec"
   ]
  },
  {
   "cell_type": "code",
   "execution_count": 21,
   "id": "cf4e71b3",
   "metadata": {},
   "outputs": [
    {
     "name": "stdout",
     "output_type": "stream",
     "text": [
      "[ 1.33273217 -0.73125053  1.04020782 -0.99500153  0.99044941 -0.47923028\n",
      "  1.13409159 -0.80493293 -0.09424757 -0.65739382 -0.59436524 -0.64781367\n",
      "  0.89275976 -0.51636807  0.88990661 -0.40479282  0.57144327  0.19074421\n",
      "  0.61075324  0.11514077  0.01992107  1.14553776  0.52866365  0.9150111\n",
      " -0.65594745 -0.74997393 -0.68240862 -0.72657539 -0.44102175 -0.49236092\n",
      " -0.45597135 -0.48164718 -0.28938056 -0.3181689  -0.2979666  -0.31302177\n",
      " -0.18655599 -0.20408231 -0.19177539 -0.20127946]\n"
     ]
    },
    {
     "data": {
      "text/plain": [
       "(88800, 40)"
      ]
     },
     "execution_count": 21,
     "metadata": {},
     "output_type": "execute_result"
    }
   ],
   "source": [
    "sc = StandardScaler()\n",
    "X_vectors_scaled = sc.fit_transform(X_vectors)\n",
    "print(X_vectors_scaled[101])\n",
    "X_vectors_scaled.shape"
   ]
  },
  {
   "cell_type": "code",
   "execution_count": 22,
   "id": "3b37358f",
   "metadata": {},
   "outputs": [
    {
     "name": "stdout",
     "output_type": "stream",
     "text": [
      "RandomForest: (13320,) [21 23 26 23  9 18 11 15 17 22] 0.5304804804804805\n"
     ]
    }
   ],
   "source": [
    "X_train, X_val, y_train, y_val = train_test_split(X_vectors_scaled, y, test_size=.15, random_state=2)\n",
    "\n",
    "clf = RandomForestClassifier(max_depth=10, min_samples_split=5, n_estimators=350, n_jobs=-1, verbose=0)\n",
    "clf.fit(X_train, y_train)\n",
    "\n",
    "y_pred = clf.predict(X_val)\n",
    "acc = accuracy_score(y_val, y_pred)\n",
    "print(f'RandomForest:', y_pred.shape, y_pred[:10], acc)\n",
    "\n",
    "submission = pd.DataFrame({'Id': np.arange(1, X_val.shape[0] + 1), 'Category': y_pred})\n",
    "submission.to_csv(f'jds3/kaggle_mnist_vect_rf_val.csv', index=False)"
   ]
  },
  {
   "cell_type": "code",
   "execution_count": 23,
   "id": "dfdf66b7",
   "metadata": {},
   "outputs": [
    {
     "name": "stdout",
     "output_type": "stream",
     "text": [
      "[ 0.05094247 -0.67303646  0.18359593  1.0179613  -0.69194543 -0.5242167\n",
      " -0.45880672 -0.9319977  -0.3356435  -0.43945912 -0.01396349]\n"
     ]
    },
    {
     "data": {
      "text/plain": [
       "(88800, 11)"
      ]
     },
     "execution_count": 23,
     "metadata": {},
     "output_type": "execute_result"
    }
   ],
   "source": [
    "sc = StandardScaler()\n",
    "X_stats_scaled = sc.fit_transform(X_stats)\n",
    "print(X_stats_scaled[101])\n",
    "X_stats_scaled.shape"
   ]
  },
  {
   "cell_type": "code",
   "execution_count": 27,
   "id": "4471e3b2",
   "metadata": {},
   "outputs": [
    {
     "name": "stdout",
     "output_type": "stream",
     "text": [
      "[ 0.6205463  -0.01303433 -0.10606485 -0.37351327  0.26874295  0.19367552\n",
      "  0.27700767  0.09028835  0.47652562  0.15023269  1.01549143 -0.15493671\n",
      " -1.99888824 -2.02516588 -2.00308807 -1.99409863]\n"
     ]
    },
    {
     "data": {
      "text/plain": [
       "(88800, 16)"
      ]
     },
     "execution_count": 27,
     "metadata": {},
     "output_type": "execute_result"
    }
   ],
   "source": [
    "sc = StandardScaler()\n",
    "X_mean_scaled = sc.fit_transform(X_mean)\n",
    "print(X_mean_scaled[101])\n",
    "X_mean_scaled.shape"
   ]
  },
  {
   "cell_type": "code",
   "execution_count": 44,
   "id": "174971e8",
   "metadata": {},
   "outputs": [
    {
     "name": "stdout",
     "output_type": "stream",
     "text": [
      "all_scaled: Ridge...\n"
     ]
    },
    {
     "name": "stderr",
     "output_type": "stream",
     "text": [
      "[Parallel(n_jobs=-1)]: Using backend LokyBackend with 8 concurrent workers.\n",
      "[Parallel(n_jobs=-1)]: Done   3 out of  10 | elapsed:    0.1s remaining:    0.3s\n",
      "[Parallel(n_jobs=-1)]: Done   7 out of  10 | elapsed:    0.2s remaining:    0.1s\n",
      "[Parallel(n_jobs=-1)]: Done  10 out of  10 | elapsed:    0.2s finished\n",
      "[Parallel(n_jobs=-1)]: Using backend LokyBackend with 8 concurrent workers.\n"
     ]
    },
    {
     "name": "stdout",
     "output_type": "stream",
     "text": [
      "all_scaled: Ridge: nan\n",
      "all_scaled: Lasso_normalized...\n"
     ]
    },
    {
     "name": "stderr",
     "output_type": "stream",
     "text": [
      "[Parallel(n_jobs=-1)]: Done   3 out of  10 | elapsed:    0.4s remaining:    1.0s\n",
      "[Parallel(n_jobs=-1)]: Done   7 out of  10 | elapsed:    0.5s remaining:    0.2s\n",
      "[Parallel(n_jobs=-1)]: Done  10 out of  10 | elapsed:    0.5s finished\n",
      "[Parallel(n_jobs=-1)]: Using backend LokyBackend with 8 concurrent workers.\n"
     ]
    },
    {
     "name": "stdout",
     "output_type": "stream",
     "text": [
      "all_scaled: Lasso_normalized: nan\n",
      "vectors_scaled: Ridge...\n"
     ]
    },
    {
     "name": "stderr",
     "output_type": "stream",
     "text": [
      "[Parallel(n_jobs=-1)]: Done   3 out of  10 | elapsed:    0.2s remaining:    0.5s\n",
      "/home/wizzzet/ds/data-science/venv/lib/python3.8/site-packages/sklearn/model_selection/_validation.py:771: UserWarning: Scoring failed. The score on this train-test partition for these parameters will be set to nan. Details: \n",
      "Traceback (most recent call last):\n",
      "  File \"/home/wizzzet/ds/data-science/venv/lib/python3.8/site-packages/sklearn/model_selection/_validation.py\", line 762, in _score\n",
      "    scores = scorer(estimator, X_test, y_test)\n",
      "  File \"/home/wizzzet/ds/data-science/venv/lib/python3.8/site-packages/sklearn/metrics/_scorer.py\", line 103, in __call__\n",
      "    score = scorer._score(cached_call, estimator, *args, **kwargs)\n",
      "  File \"/home/wizzzet/ds/data-science/venv/lib/python3.8/site-packages/sklearn/metrics/_scorer.py\", line 264, in _score\n",
      "    return self._sign * self._score_func(y_true, y_pred, **self._kwargs)\n",
      "  File \"/home/wizzzet/ds/data-science/venv/lib/python3.8/site-packages/sklearn/metrics/_classification.py\", line 205, in accuracy_score\n",
      "    y_type, y_true, y_pred = _check_targets(y_true, y_pred)\n",
      "  File \"/home/wizzzet/ds/data-science/venv/lib/python3.8/site-packages/sklearn/metrics/_classification.py\", line 93, in _check_targets\n",
      "    raise ValueError(\n",
      "ValueError: Classification metrics can't handle a mix of multiclass and continuous targets\n",
      "\n",
      "  warnings.warn(\n",
      "/home/wizzzet/ds/data-science/venv/lib/python3.8/site-packages/sklearn/model_selection/_validation.py:771: UserWarning: Scoring failed. The score on this train-test partition for these parameters will be set to nan. Details: \n",
      "Traceback (most recent call last):\n",
      "  File \"/home/wizzzet/ds/data-science/venv/lib/python3.8/site-packages/sklearn/model_selection/_validation.py\", line 762, in _score\n",
      "    scores = scorer(estimator, X_test, y_test)\n",
      "  File \"/home/wizzzet/ds/data-science/venv/lib/python3.8/site-packages/sklearn/metrics/_scorer.py\", line 103, in __call__\n",
      "    score = scorer._score(cached_call, estimator, *args, **kwargs)\n",
      "  File \"/home/wizzzet/ds/data-science/venv/lib/python3.8/site-packages/sklearn/metrics/_scorer.py\", line 264, in _score\n",
      "    return self._sign * self._score_func(y_true, y_pred, **self._kwargs)\n",
      "  File \"/home/wizzzet/ds/data-science/venv/lib/python3.8/site-packages/sklearn/metrics/_classification.py\", line 205, in accuracy_score\n",
      "    y_type, y_true, y_pred = _check_targets(y_true, y_pred)\n",
      "  File \"/home/wizzzet/ds/data-science/venv/lib/python3.8/site-packages/sklearn/metrics/_classification.py\", line 93, in _check_targets\n",
      "    raise ValueError(\n",
      "ValueError: Classification metrics can't handle a mix of multiclass and continuous targets\n",
      "\n",
      "  warnings.warn(\n",
      "/home/wizzzet/ds/data-science/venv/lib/python3.8/site-packages/sklearn/model_selection/_validation.py:771: UserWarning: Scoring failed. The score on this train-test partition for these parameters will be set to nan. Details: \n",
      "Traceback (most recent call last):\n",
      "  File \"/home/wizzzet/ds/data-science/venv/lib/python3.8/site-packages/sklearn/model_selection/_validation.py\", line 762, in _score\n",
      "    scores = scorer(estimator, X_test, y_test)\n",
      "  File \"/home/wizzzet/ds/data-science/venv/lib/python3.8/site-packages/sklearn/metrics/_scorer.py\", line 103, in __call__\n",
      "    score = scorer._score(cached_call, estimator, *args, **kwargs)\n",
      "  File \"/home/wizzzet/ds/data-science/venv/lib/python3.8/site-packages/sklearn/metrics/_scorer.py\", line 264, in _score\n",
      "    return self._sign * self._score_func(y_true, y_pred, **self._kwargs)\n",
      "  File \"/home/wizzzet/ds/data-science/venv/lib/python3.8/site-packages/sklearn/metrics/_classification.py\", line 205, in accuracy_score\n",
      "    y_type, y_true, y_pred = _check_targets(y_true, y_pred)\n",
      "  File \"/home/wizzzet/ds/data-science/venv/lib/python3.8/site-packages/sklearn/metrics/_classification.py\", line 93, in _check_targets\n",
      "    raise ValueError(\n",
      "ValueError: Classification metrics can't handle a mix of multiclass and continuous targets\n",
      "\n",
      "  warnings.warn(\n",
      "/home/wizzzet/ds/data-science/venv/lib/python3.8/site-packages/sklearn/model_selection/_validation.py:771: UserWarning: Scoring failed. The score on this train-test partition for these parameters will be set to nan. Details: \n",
      "Traceback (most recent call last):\n",
      "  File \"/home/wizzzet/ds/data-science/venv/lib/python3.8/site-packages/sklearn/model_selection/_validation.py\", line 762, in _score\n",
      "    scores = scorer(estimator, X_test, y_test)\n",
      "  File \"/home/wizzzet/ds/data-science/venv/lib/python3.8/site-packages/sklearn/metrics/_scorer.py\", line 103, in __call__\n",
      "    score = scorer._score(cached_call, estimator, *args, **kwargs)\n",
      "  File \"/home/wizzzet/ds/data-science/venv/lib/python3.8/site-packages/sklearn/metrics/_scorer.py\", line 264, in _score\n",
      "    return self._sign * self._score_func(y_true, y_pred, **self._kwargs)\n",
      "  File \"/home/wizzzet/ds/data-science/venv/lib/python3.8/site-packages/sklearn/metrics/_classification.py\", line 205, in accuracy_score\n",
      "    y_type, y_true, y_pred = _check_targets(y_true, y_pred)\n",
      "  File \"/home/wizzzet/ds/data-science/venv/lib/python3.8/site-packages/sklearn/metrics/_classification.py\", line 93, in _check_targets\n",
      "    raise ValueError(\n",
      "ValueError: Classification metrics can't handle a mix of multiclass and continuous targets\n",
      "\n",
      "  warnings.warn(\n",
      "/home/wizzzet/ds/data-science/venv/lib/python3.8/site-packages/sklearn/model_selection/_validation.py:771: UserWarning: Scoring failed. The score on this train-test partition for these parameters will be set to nan. Details: \n",
      "Traceback (most recent call last):\n",
      "  File \"/home/wizzzet/ds/data-science/venv/lib/python3.8/site-packages/sklearn/model_selection/_validation.py\", line 762, in _score\n",
      "    scores = scorer(estimator, X_test, y_test)\n",
      "  File \"/home/wizzzet/ds/data-science/venv/lib/python3.8/site-packages/sklearn/metrics/_scorer.py\", line 103, in __call__\n",
      "    score = scorer._score(cached_call, estimator, *args, **kwargs)\n",
      "  File \"/home/wizzzet/ds/data-science/venv/lib/python3.8/site-packages/sklearn/metrics/_scorer.py\", line 264, in _score\n",
      "    return self._sign * self._score_func(y_true, y_pred, **self._kwargs)\n",
      "  File \"/home/wizzzet/ds/data-science/venv/lib/python3.8/site-packages/sklearn/metrics/_classification.py\", line 205, in accuracy_score\n",
      "    y_type, y_true, y_pred = _check_targets(y_true, y_pred)\n",
      "  File \"/home/wizzzet/ds/data-science/venv/lib/python3.8/site-packages/sklearn/metrics/_classification.py\", line 93, in _check_targets\n",
      "    raise ValueError(\n",
      "ValueError: Classification metrics can't handle a mix of multiclass and continuous targets\n",
      "\n",
      "  warnings.warn(\n",
      "/home/wizzzet/ds/data-science/venv/lib/python3.8/site-packages/sklearn/model_selection/_validation.py:771: UserWarning: Scoring failed. The score on this train-test partition for these parameters will be set to nan. Details: \n",
      "Traceback (most recent call last):\n",
      "  File \"/home/wizzzet/ds/data-science/venv/lib/python3.8/site-packages/sklearn/model_selection/_validation.py\", line 762, in _score\n",
      "    scores = scorer(estimator, X_test, y_test)\n",
      "  File \"/home/wizzzet/ds/data-science/venv/lib/python3.8/site-packages/sklearn/metrics/_scorer.py\", line 103, in __call__\n",
      "    score = scorer._score(cached_call, estimator, *args, **kwargs)\n",
      "  File \"/home/wizzzet/ds/data-science/venv/lib/python3.8/site-packages/sklearn/metrics/_scorer.py\", line 264, in _score\n",
      "    return self._sign * self._score_func(y_true, y_pred, **self._kwargs)\n",
      "  File \"/home/wizzzet/ds/data-science/venv/lib/python3.8/site-packages/sklearn/metrics/_classification.py\", line 205, in accuracy_score\n",
      "    y_type, y_true, y_pred = _check_targets(y_true, y_pred)\n",
      "  File \"/home/wizzzet/ds/data-science/venv/lib/python3.8/site-packages/sklearn/metrics/_classification.py\", line 93, in _check_targets\n",
      "    raise ValueError(\n",
      "ValueError: Classification metrics can't handle a mix of multiclass and continuous targets\n",
      "\n",
      "  warnings.warn(\n",
      "[Parallel(n_jobs=-1)]: Done   7 out of  10 | elapsed:    0.3s remaining:    0.1s\n",
      "[Parallel(n_jobs=-1)]: Done  10 out of  10 | elapsed:    0.4s finished\n"
     ]
    },
    {
     "name": "stdout",
     "output_type": "stream",
     "text": [
      "vectors_scaled: Ridge: nan\n",
      "vectors_scaled: Lasso_normalized...\n"
     ]
    },
    {
     "name": "stderr",
     "output_type": "stream",
     "text": [
      "[Parallel(n_jobs=-1)]: Using backend LokyBackend with 8 concurrent workers.\n",
      "/home/wizzzet/ds/data-science/venv/lib/python3.8/site-packages/sklearn/model_selection/_validation.py:771: UserWarning: Scoring failed. The score on this train-test partition for these parameters will be set to nan. Details: \n",
      "Traceback (most recent call last):\n",
      "  File \"/home/wizzzet/ds/data-science/venv/lib/python3.8/site-packages/sklearn/model_selection/_validation.py\", line 762, in _score\n",
      "    scores = scorer(estimator, X_test, y_test)\n",
      "  File \"/home/wizzzet/ds/data-science/venv/lib/python3.8/site-packages/sklearn/metrics/_scorer.py\", line 103, in __call__\n",
      "    score = scorer._score(cached_call, estimator, *args, **kwargs)\n",
      "  File \"/home/wizzzet/ds/data-science/venv/lib/python3.8/site-packages/sklearn/metrics/_scorer.py\", line 264, in _score\n",
      "    return self._sign * self._score_func(y_true, y_pred, **self._kwargs)\n",
      "  File \"/home/wizzzet/ds/data-science/venv/lib/python3.8/site-packages/sklearn/metrics/_classification.py\", line 205, in accuracy_score\n",
      "    y_type, y_true, y_pred = _check_targets(y_true, y_pred)\n",
      "  File \"/home/wizzzet/ds/data-science/venv/lib/python3.8/site-packages/sklearn/metrics/_classification.py\", line 93, in _check_targets\n",
      "    raise ValueError(\n",
      "ValueError: Classification metrics can't handle a mix of multiclass and continuous targets\n",
      "\n",
      "  warnings.warn(\n",
      "/home/wizzzet/ds/data-science/venv/lib/python3.8/site-packages/sklearn/model_selection/_validation.py:771: UserWarning: Scoring failed. The score on this train-test partition for these parameters will be set to nan. Details: \n",
      "Traceback (most recent call last):\n",
      "  File \"/home/wizzzet/ds/data-science/venv/lib/python3.8/site-packages/sklearn/model_selection/_validation.py\", line 762, in _score\n",
      "    scores = scorer(estimator, X_test, y_test)\n",
      "  File \"/home/wizzzet/ds/data-science/venv/lib/python3.8/site-packages/sklearn/metrics/_scorer.py\", line 103, in __call__\n",
      "    score = scorer._score(cached_call, estimator, *args, **kwargs)\n",
      "  File \"/home/wizzzet/ds/data-science/venv/lib/python3.8/site-packages/sklearn/metrics/_scorer.py\", line 264, in _score\n",
      "    return self._sign * self._score_func(y_true, y_pred, **self._kwargs)\n",
      "  File \"/home/wizzzet/ds/data-science/venv/lib/python3.8/site-packages/sklearn/metrics/_classification.py\", line 205, in accuracy_score\n",
      "    y_type, y_true, y_pred = _check_targets(y_true, y_pred)\n",
      "  File \"/home/wizzzet/ds/data-science/venv/lib/python3.8/site-packages/sklearn/metrics/_classification.py\", line 93, in _check_targets\n",
      "    raise ValueError(\n",
      "ValueError: Classification metrics can't handle a mix of multiclass and continuous targets\n",
      "\n",
      "  warnings.warn(\n",
      "/home/wizzzet/ds/data-science/venv/lib/python3.8/site-packages/sklearn/model_selection/_validation.py:771: UserWarning: Scoring failed. The score on this train-test partition for these parameters will be set to nan. Details: \n",
      "Traceback (most recent call last):\n",
      "  File \"/home/wizzzet/ds/data-science/venv/lib/python3.8/site-packages/sklearn/model_selection/_validation.py\", line 762, in _score\n",
      "    scores = scorer(estimator, X_test, y_test)\n",
      "  File \"/home/wizzzet/ds/data-science/venv/lib/python3.8/site-packages/sklearn/metrics/_scorer.py\", line 103, in __call__\n",
      "    score = scorer._score(cached_call, estimator, *args, **kwargs)\n",
      "  File \"/home/wizzzet/ds/data-science/venv/lib/python3.8/site-packages/sklearn/metrics/_scorer.py\", line 264, in _score\n",
      "    return self._sign * self._score_func(y_true, y_pred, **self._kwargs)\n",
      "  File \"/home/wizzzet/ds/data-science/venv/lib/python3.8/site-packages/sklearn/metrics/_classification.py\", line 205, in accuracy_score\n",
      "    y_type, y_true, y_pred = _check_targets(y_true, y_pred)\n",
      "  File \"/home/wizzzet/ds/data-science/venv/lib/python3.8/site-packages/sklearn/metrics/_classification.py\", line 93, in _check_targets\n",
      "    raise ValueError(\n",
      "ValueError: Classification metrics can't handle a mix of multiclass and continuous targets\n",
      "\n",
      "  warnings.warn(\n",
      "/home/wizzzet/ds/data-science/venv/lib/python3.8/site-packages/sklearn/model_selection/_validation.py:771: UserWarning: Scoring failed. The score on this train-test partition for these parameters will be set to nan. Details: \n",
      "Traceback (most recent call last):\n",
      "  File \"/home/wizzzet/ds/data-science/venv/lib/python3.8/site-packages/sklearn/model_selection/_validation.py\", line 762, in _score\n",
      "    scores = scorer(estimator, X_test, y_test)\n",
      "  File \"/home/wizzzet/ds/data-science/venv/lib/python3.8/site-packages/sklearn/metrics/_scorer.py\", line 103, in __call__\n",
      "    score = scorer._score(cached_call, estimator, *args, **kwargs)\n",
      "  File \"/home/wizzzet/ds/data-science/venv/lib/python3.8/site-packages/sklearn/metrics/_scorer.py\", line 264, in _score\n",
      "    return self._sign * self._score_func(y_true, y_pred, **self._kwargs)\n",
      "  File \"/home/wizzzet/ds/data-science/venv/lib/python3.8/site-packages/sklearn/metrics/_classification.py\", line 205, in accuracy_score\n",
      "    y_type, y_true, y_pred = _check_targets(y_true, y_pred)\n",
      "  File \"/home/wizzzet/ds/data-science/venv/lib/python3.8/site-packages/sklearn/metrics/_classification.py\", line 93, in _check_targets\n",
      "    raise ValueError(\n",
      "ValueError: Classification metrics can't handle a mix of multiclass and continuous targets\n",
      "\n",
      "  warnings.warn(\n",
      "/home/wizzzet/ds/data-science/venv/lib/python3.8/site-packages/sklearn/model_selection/_validation.py:771: UserWarning: Scoring failed. The score on this train-test partition for these parameters will be set to nan. Details: \n",
      "Traceback (most recent call last):\n",
      "  File \"/home/wizzzet/ds/data-science/venv/lib/python3.8/site-packages/sklearn/model_selection/_validation.py\", line 762, in _score\n",
      "    scores = scorer(estimator, X_test, y_test)\n",
      "  File \"/home/wizzzet/ds/data-science/venv/lib/python3.8/site-packages/sklearn/metrics/_scorer.py\", line 103, in __call__\n",
      "    score = scorer._score(cached_call, estimator, *args, **kwargs)\n",
      "  File \"/home/wizzzet/ds/data-science/venv/lib/python3.8/site-packages/sklearn/metrics/_scorer.py\", line 264, in _score\n",
      "    return self._sign * self._score_func(y_true, y_pred, **self._kwargs)\n",
      "  File \"/home/wizzzet/ds/data-science/venv/lib/python3.8/site-packages/sklearn/metrics/_classification.py\", line 205, in accuracy_score\n",
      "    y_type, y_true, y_pred = _check_targets(y_true, y_pred)\n",
      "  File \"/home/wizzzet/ds/data-science/venv/lib/python3.8/site-packages/sklearn/metrics/_classification.py\", line 93, in _check_targets\n",
      "    raise ValueError(\n",
      "ValueError: Classification metrics can't handle a mix of multiclass and continuous targets\n",
      "\n",
      "  warnings.warn(\n",
      "/home/wizzzet/ds/data-science/venv/lib/python3.8/site-packages/sklearn/model_selection/_validation.py:771: UserWarning: Scoring failed. The score on this train-test partition for these parameters will be set to nan. Details: \n",
      "Traceback (most recent call last):\n",
      "  File \"/home/wizzzet/ds/data-science/venv/lib/python3.8/site-packages/sklearn/model_selection/_validation.py\", line 762, in _score\n",
      "    scores = scorer(estimator, X_test, y_test)\n",
      "  File \"/home/wizzzet/ds/data-science/venv/lib/python3.8/site-packages/sklearn/metrics/_scorer.py\", line 103, in __call__\n",
      "    score = scorer._score(cached_call, estimator, *args, **kwargs)\n",
      "  File \"/home/wizzzet/ds/data-science/venv/lib/python3.8/site-packages/sklearn/metrics/_scorer.py\", line 264, in _score\n",
      "    return self._sign * self._score_func(y_true, y_pred, **self._kwargs)\n",
      "  File \"/home/wizzzet/ds/data-science/venv/lib/python3.8/site-packages/sklearn/metrics/_classification.py\", line 205, in accuracy_score\n",
      "    y_type, y_true, y_pred = _check_targets(y_true, y_pred)\n",
      "  File \"/home/wizzzet/ds/data-science/venv/lib/python3.8/site-packages/sklearn/metrics/_classification.py\", line 93, in _check_targets\n",
      "    raise ValueError(\n",
      "ValueError: Classification metrics can't handle a mix of multiclass and continuous targets\n",
      "\n",
      "  warnings.warn(\n",
      "/home/wizzzet/ds/data-science/venv/lib/python3.8/site-packages/sklearn/model_selection/_validation.py:771: UserWarning: Scoring failed. The score on this train-test partition for these parameters will be set to nan. Details: \n",
      "Traceback (most recent call last):\n",
      "  File \"/home/wizzzet/ds/data-science/venv/lib/python3.8/site-packages/sklearn/model_selection/_validation.py\", line 762, in _score\n",
      "    scores = scorer(estimator, X_test, y_test)\n",
      "  File \"/home/wizzzet/ds/data-science/venv/lib/python3.8/site-packages/sklearn/metrics/_scorer.py\", line 103, in __call__\n",
      "    score = scorer._score(cached_call, estimator, *args, **kwargs)\n",
      "  File \"/home/wizzzet/ds/data-science/venv/lib/python3.8/site-packages/sklearn/metrics/_scorer.py\", line 264, in _score\n",
      "    return self._sign * self._score_func(y_true, y_pred, **self._kwargs)\n",
      "  File \"/home/wizzzet/ds/data-science/venv/lib/python3.8/site-packages/sklearn/metrics/_classification.py\", line 205, in accuracy_score\n",
      "    y_type, y_true, y_pred = _check_targets(y_true, y_pred)\n",
      "  File \"/home/wizzzet/ds/data-science/venv/lib/python3.8/site-packages/sklearn/metrics/_classification.py\", line 93, in _check_targets\n",
      "    raise ValueError(\n",
      "ValueError: Classification metrics can't handle a mix of multiclass and continuous targets\n",
      "\n",
      "  warnings.warn(\n",
      "/home/wizzzet/ds/data-science/venv/lib/python3.8/site-packages/sklearn/model_selection/_validation.py:771: UserWarning: Scoring failed. The score on this train-test partition for these parameters will be set to nan. Details: \n",
      "Traceback (most recent call last):\n",
      "  File \"/home/wizzzet/ds/data-science/venv/lib/python3.8/site-packages/sklearn/model_selection/_validation.py\", line 762, in _score\n",
      "    scores = scorer(estimator, X_test, y_test)\n",
      "  File \"/home/wizzzet/ds/data-science/venv/lib/python3.8/site-packages/sklearn/metrics/_scorer.py\", line 103, in __call__\n",
      "    score = scorer._score(cached_call, estimator, *args, **kwargs)\n",
      "  File \"/home/wizzzet/ds/data-science/venv/lib/python3.8/site-packages/sklearn/metrics/_scorer.py\", line 264, in _score\n",
      "    return self._sign * self._score_func(y_true, y_pred, **self._kwargs)\n",
      "  File \"/home/wizzzet/ds/data-science/venv/lib/python3.8/site-packages/sklearn/metrics/_classification.py\", line 205, in accuracy_score\n",
      "    y_type, y_true, y_pred = _check_targets(y_true, y_pred)\n",
      "  File \"/home/wizzzet/ds/data-science/venv/lib/python3.8/site-packages/sklearn/metrics/_classification.py\", line 93, in _check_targets\n",
      "    raise ValueError(\n",
      "ValueError: Classification metrics can't handle a mix of multiclass and continuous targets\n",
      "\n",
      "  warnings.warn(\n",
      "/home/wizzzet/ds/data-science/venv/lib/python3.8/site-packages/sklearn/model_selection/_validation.py:771: UserWarning: Scoring failed. The score on this train-test partition for these parameters will be set to nan. Details: \n",
      "Traceback (most recent call last):\n",
      "  File \"/home/wizzzet/ds/data-science/venv/lib/python3.8/site-packages/sklearn/model_selection/_validation.py\", line 762, in _score\n",
      "    scores = scorer(estimator, X_test, y_test)\n",
      "  File \"/home/wizzzet/ds/data-science/venv/lib/python3.8/site-packages/sklearn/metrics/_scorer.py\", line 103, in __call__\n",
      "    score = scorer._score(cached_call, estimator, *args, **kwargs)\n",
      "  File \"/home/wizzzet/ds/data-science/venv/lib/python3.8/site-packages/sklearn/metrics/_scorer.py\", line 264, in _score\n",
      "    return self._sign * self._score_func(y_true, y_pred, **self._kwargs)\n",
      "  File \"/home/wizzzet/ds/data-science/venv/lib/python3.8/site-packages/sklearn/metrics/_classification.py\", line 205, in accuracy_score\n",
      "    y_type, y_true, y_pred = _check_targets(y_true, y_pred)\n",
      "  File \"/home/wizzzet/ds/data-science/venv/lib/python3.8/site-packages/sklearn/metrics/_classification.py\", line 93, in _check_targets\n",
      "    raise ValueError(\n",
      "ValueError: Classification metrics can't handle a mix of multiclass and continuous targets\n",
      "\n",
      "  warnings.warn(\n",
      "/home/wizzzet/ds/data-science/venv/lib/python3.8/site-packages/sklearn/model_selection/_validation.py:771: UserWarning: Scoring failed. The score on this train-test partition for these parameters will be set to nan. Details: \n",
      "Traceback (most recent call last):\n",
      "  File \"/home/wizzzet/ds/data-science/venv/lib/python3.8/site-packages/sklearn/model_selection/_validation.py\", line 762, in _score\n",
      "    scores = scorer(estimator, X_test, y_test)\n",
      "  File \"/home/wizzzet/ds/data-science/venv/lib/python3.8/site-packages/sklearn/metrics/_scorer.py\", line 103, in __call__\n",
      "    score = scorer._score(cached_call, estimator, *args, **kwargs)\n",
      "  File \"/home/wizzzet/ds/data-science/venv/lib/python3.8/site-packages/sklearn/metrics/_scorer.py\", line 264, in _score\n",
      "    return self._sign * self._score_func(y_true, y_pred, **self._kwargs)\n",
      "  File \"/home/wizzzet/ds/data-science/venv/lib/python3.8/site-packages/sklearn/metrics/_classification.py\", line 205, in accuracy_score\n",
      "    y_type, y_true, y_pred = _check_targets(y_true, y_pred)\n",
      "  File \"/home/wizzzet/ds/data-science/venv/lib/python3.8/site-packages/sklearn/metrics/_classification.py\", line 93, in _check_targets\n",
      "    raise ValueError(\n",
      "ValueError: Classification metrics can't handle a mix of multiclass and continuous targets\n",
      "\n",
      "  warnings.warn(\n",
      "/home/wizzzet/ds/data-science/venv/lib/python3.8/site-packages/sklearn/model_selection/_validation.py:771: UserWarning: Scoring failed. The score on this train-test partition for these parameters will be set to nan. Details: \n",
      "Traceback (most recent call last):\n",
      "  File \"/home/wizzzet/ds/data-science/venv/lib/python3.8/site-packages/sklearn/model_selection/_validation.py\", line 762, in _score\n",
      "    scores = scorer(estimator, X_test, y_test)\n",
      "  File \"/home/wizzzet/ds/data-science/venv/lib/python3.8/site-packages/sklearn/metrics/_scorer.py\", line 103, in __call__\n",
      "    score = scorer._score(cached_call, estimator, *args, **kwargs)\n",
      "  File \"/home/wizzzet/ds/data-science/venv/lib/python3.8/site-packages/sklearn/metrics/_scorer.py\", line 264, in _score\n",
      "    return self._sign * self._score_func(y_true, y_pred, **self._kwargs)\n",
      "  File \"/home/wizzzet/ds/data-science/venv/lib/python3.8/site-packages/sklearn/metrics/_classification.py\", line 205, in accuracy_score\n",
      "    y_type, y_true, y_pred = _check_targets(y_true, y_pred)\n",
      "  File \"/home/wizzzet/ds/data-science/venv/lib/python3.8/site-packages/sklearn/metrics/_classification.py\", line 93, in _check_targets\n",
      "    raise ValueError(\n",
      "ValueError: Classification metrics can't handle a mix of multiclass and continuous targets\n",
      "\n",
      "  warnings.warn(\n",
      "/home/wizzzet/ds/data-science/venv/lib/python3.8/site-packages/sklearn/model_selection/_validation.py:771: UserWarning: Scoring failed. The score on this train-test partition for these parameters will be set to nan. Details: \n",
      "Traceback (most recent call last):\n",
      "  File \"/home/wizzzet/ds/data-science/venv/lib/python3.8/site-packages/sklearn/model_selection/_validation.py\", line 762, in _score\n",
      "    scores = scorer(estimator, X_test, y_test)\n",
      "  File \"/home/wizzzet/ds/data-science/venv/lib/python3.8/site-packages/sklearn/metrics/_scorer.py\", line 103, in __call__\n",
      "    score = scorer._score(cached_call, estimator, *args, **kwargs)\n",
      "  File \"/home/wizzzet/ds/data-science/venv/lib/python3.8/site-packages/sklearn/metrics/_scorer.py\", line 264, in _score\n",
      "    return self._sign * self._score_func(y_true, y_pred, **self._kwargs)\n",
      "  File \"/home/wizzzet/ds/data-science/venv/lib/python3.8/site-packages/sklearn/metrics/_classification.py\", line 205, in accuracy_score\n",
      "    y_type, y_true, y_pred = _check_targets(y_true, y_pred)\n",
      "  File \"/home/wizzzet/ds/data-science/venv/lib/python3.8/site-packages/sklearn/metrics/_classification.py\", line 93, in _check_targets\n",
      "    raise ValueError(\n",
      "ValueError: Classification metrics can't handle a mix of multiclass and continuous targets\n",
      "\n",
      "  warnings.warn(\n",
      "[Parallel(n_jobs=-1)]: Done   3 out of  10 | elapsed:    0.5s remaining:    1.1s\n",
      "/home/wizzzet/ds/data-science/venv/lib/python3.8/site-packages/sklearn/model_selection/_validation.py:771: UserWarning: Scoring failed. The score on this train-test partition for these parameters will be set to nan. Details: \n",
      "Traceback (most recent call last):\n",
      "  File \"/home/wizzzet/ds/data-science/venv/lib/python3.8/site-packages/sklearn/model_selection/_validation.py\", line 762, in _score\n",
      "    scores = scorer(estimator, X_test, y_test)\n",
      "  File \"/home/wizzzet/ds/data-science/venv/lib/python3.8/site-packages/sklearn/metrics/_scorer.py\", line 103, in __call__\n",
      "    score = scorer._score(cached_call, estimator, *args, **kwargs)\n",
      "  File \"/home/wizzzet/ds/data-science/venv/lib/python3.8/site-packages/sklearn/metrics/_scorer.py\", line 264, in _score\n",
      "    return self._sign * self._score_func(y_true, y_pred, **self._kwargs)\n",
      "  File \"/home/wizzzet/ds/data-science/venv/lib/python3.8/site-packages/sklearn/metrics/_classification.py\", line 205, in accuracy_score\n",
      "    y_type, y_true, y_pred = _check_targets(y_true, y_pred)\n",
      "  File \"/home/wizzzet/ds/data-science/venv/lib/python3.8/site-packages/sklearn/metrics/_classification.py\", line 93, in _check_targets\n",
      "    raise ValueError(\n",
      "ValueError: Classification metrics can't handle a mix of multiclass and continuous targets\n",
      "\n",
      "  warnings.warn(\n",
      "/home/wizzzet/ds/data-science/venv/lib/python3.8/site-packages/sklearn/model_selection/_validation.py:771: UserWarning: Scoring failed. The score on this train-test partition for these parameters will be set to nan. Details: \n",
      "Traceback (most recent call last):\n",
      "  File \"/home/wizzzet/ds/data-science/venv/lib/python3.8/site-packages/sklearn/model_selection/_validation.py\", line 762, in _score\n",
      "    scores = scorer(estimator, X_test, y_test)\n",
      "  File \"/home/wizzzet/ds/data-science/venv/lib/python3.8/site-packages/sklearn/metrics/_scorer.py\", line 103, in __call__\n",
      "    score = scorer._score(cached_call, estimator, *args, **kwargs)\n",
      "  File \"/home/wizzzet/ds/data-science/venv/lib/python3.8/site-packages/sklearn/metrics/_scorer.py\", line 264, in _score\n",
      "    return self._sign * self._score_func(y_true, y_pred, **self._kwargs)\n",
      "  File \"/home/wizzzet/ds/data-science/venv/lib/python3.8/site-packages/sklearn/metrics/_classification.py\", line 205, in accuracy_score\n",
      "    y_type, y_true, y_pred = _check_targets(y_true, y_pred)\n",
      "  File \"/home/wizzzet/ds/data-science/venv/lib/python3.8/site-packages/sklearn/metrics/_classification.py\", line 93, in _check_targets\n",
      "    raise ValueError(\n",
      "ValueError: Classification metrics can't handle a mix of multiclass and continuous targets\n",
      "\n",
      "  warnings.warn(\n",
      "/home/wizzzet/ds/data-science/venv/lib/python3.8/site-packages/sklearn/model_selection/_validation.py:771: UserWarning: Scoring failed. The score on this train-test partition for these parameters will be set to nan. Details: \n",
      "Traceback (most recent call last):\n",
      "  File \"/home/wizzzet/ds/data-science/venv/lib/python3.8/site-packages/sklearn/model_selection/_validation.py\", line 762, in _score\n",
      "    scores = scorer(estimator, X_test, y_test)\n",
      "  File \"/home/wizzzet/ds/data-science/venv/lib/python3.8/site-packages/sklearn/metrics/_scorer.py\", line 103, in __call__\n",
      "    score = scorer._score(cached_call, estimator, *args, **kwargs)\n",
      "  File \"/home/wizzzet/ds/data-science/venv/lib/python3.8/site-packages/sklearn/metrics/_scorer.py\", line 264, in _score\n",
      "    return self._sign * self._score_func(y_true, y_pred, **self._kwargs)\n",
      "  File \"/home/wizzzet/ds/data-science/venv/lib/python3.8/site-packages/sklearn/metrics/_classification.py\", line 205, in accuracy_score\n",
      "    y_type, y_true, y_pred = _check_targets(y_true, y_pred)\n",
      "  File \"/home/wizzzet/ds/data-science/venv/lib/python3.8/site-packages/sklearn/metrics/_classification.py\", line 93, in _check_targets\n",
      "    raise ValueError(\n",
      "ValueError: Classification metrics can't handle a mix of multiclass and continuous targets\n",
      "\n",
      "  warnings.warn(\n",
      "/home/wizzzet/ds/data-science/venv/lib/python3.8/site-packages/sklearn/model_selection/_validation.py:771: UserWarning: Scoring failed. The score on this train-test partition for these parameters will be set to nan. Details: \n",
      "Traceback (most recent call last):\n",
      "  File \"/home/wizzzet/ds/data-science/venv/lib/python3.8/site-packages/sklearn/model_selection/_validation.py\", line 762, in _score\n",
      "    scores = scorer(estimator, X_test, y_test)\n",
      "  File \"/home/wizzzet/ds/data-science/venv/lib/python3.8/site-packages/sklearn/metrics/_scorer.py\", line 103, in __call__\n",
      "    score = scorer._score(cached_call, estimator, *args, **kwargs)\n",
      "  File \"/home/wizzzet/ds/data-science/venv/lib/python3.8/site-packages/sklearn/metrics/_scorer.py\", line 264, in _score\n",
      "    return self._sign * self._score_func(y_true, y_pred, **self._kwargs)\n",
      "  File \"/home/wizzzet/ds/data-science/venv/lib/python3.8/site-packages/sklearn/metrics/_classification.py\", line 205, in accuracy_score\n",
      "    y_type, y_true, y_pred = _check_targets(y_true, y_pred)\n",
      "  File \"/home/wizzzet/ds/data-science/venv/lib/python3.8/site-packages/sklearn/metrics/_classification.py\", line 93, in _check_targets\n",
      "    raise ValueError(\n",
      "ValueError: Classification metrics can't handle a mix of multiclass and continuous targets\n",
      "\n",
      "  warnings.warn(\n",
      "/home/wizzzet/ds/data-science/venv/lib/python3.8/site-packages/sklearn/model_selection/_validation.py:771: UserWarning: Scoring failed. The score on this train-test partition for these parameters will be set to nan. Details: \n",
      "Traceback (most recent call last):\n",
      "  File \"/home/wizzzet/ds/data-science/venv/lib/python3.8/site-packages/sklearn/model_selection/_validation.py\", line 762, in _score\n",
      "    scores = scorer(estimator, X_test, y_test)\n",
      "  File \"/home/wizzzet/ds/data-science/venv/lib/python3.8/site-packages/sklearn/metrics/_scorer.py\", line 103, in __call__\n",
      "    score = scorer._score(cached_call, estimator, *args, **kwargs)\n",
      "  File \"/home/wizzzet/ds/data-science/venv/lib/python3.8/site-packages/sklearn/metrics/_scorer.py\", line 264, in _score\n",
      "    return self._sign * self._score_func(y_true, y_pred, **self._kwargs)\n",
      "  File \"/home/wizzzet/ds/data-science/venv/lib/python3.8/site-packages/sklearn/metrics/_classification.py\", line 205, in accuracy_score\n",
      "    y_type, y_true, y_pred = _check_targets(y_true, y_pred)\n",
      "  File \"/home/wizzzet/ds/data-science/venv/lib/python3.8/site-packages/sklearn/metrics/_classification.py\", line 93, in _check_targets\n",
      "    raise ValueError(\n",
      "ValueError: Classification metrics can't handle a mix of multiclass and continuous targets\n",
      "\n",
      "  warnings.warn(\n",
      "/home/wizzzet/ds/data-science/venv/lib/python3.8/site-packages/sklearn/model_selection/_validation.py:771: UserWarning: Scoring failed. The score on this train-test partition for these parameters will be set to nan. Details: \n",
      "Traceback (most recent call last):\n",
      "  File \"/home/wizzzet/ds/data-science/venv/lib/python3.8/site-packages/sklearn/model_selection/_validation.py\", line 762, in _score\n",
      "    scores = scorer(estimator, X_test, y_test)\n",
      "  File \"/home/wizzzet/ds/data-science/venv/lib/python3.8/site-packages/sklearn/metrics/_scorer.py\", line 103, in __call__\n",
      "    score = scorer._score(cached_call, estimator, *args, **kwargs)\n",
      "  File \"/home/wizzzet/ds/data-science/venv/lib/python3.8/site-packages/sklearn/metrics/_scorer.py\", line 264, in _score\n",
      "    return self._sign * self._score_func(y_true, y_pred, **self._kwargs)\n",
      "  File \"/home/wizzzet/ds/data-science/venv/lib/python3.8/site-packages/sklearn/metrics/_classification.py\", line 205, in accuracy_score\n",
      "    y_type, y_true, y_pred = _check_targets(y_true, y_pred)\n",
      "  File \"/home/wizzzet/ds/data-science/venv/lib/python3.8/site-packages/sklearn/metrics/_classification.py\", line 93, in _check_targets\n",
      "    raise ValueError(\n",
      "ValueError: Classification metrics can't handle a mix of multiclass and continuous targets\n",
      "\n",
      "  warnings.warn(\n",
      "[Parallel(n_jobs=-1)]: Done   7 out of  10 | elapsed:    0.5s remaining:    0.2s\n",
      "/home/wizzzet/ds/data-science/venv/lib/python3.8/site-packages/sklearn/model_selection/_validation.py:771: UserWarning: Scoring failed. The score on this train-test partition for these parameters will be set to nan. Details: \n",
      "Traceback (most recent call last):\n",
      "  File \"/home/wizzzet/ds/data-science/venv/lib/python3.8/site-packages/sklearn/model_selection/_validation.py\", line 762, in _score\n",
      "    scores = scorer(estimator, X_test, y_test)\n",
      "  File \"/home/wizzzet/ds/data-science/venv/lib/python3.8/site-packages/sklearn/metrics/_scorer.py\", line 103, in __call__\n",
      "    score = scorer._score(cached_call, estimator, *args, **kwargs)\n",
      "  File \"/home/wizzzet/ds/data-science/venv/lib/python3.8/site-packages/sklearn/metrics/_scorer.py\", line 264, in _score\n",
      "    return self._sign * self._score_func(y_true, y_pred, **self._kwargs)\n",
      "  File \"/home/wizzzet/ds/data-science/venv/lib/python3.8/site-packages/sklearn/metrics/_classification.py\", line 205, in accuracy_score\n",
      "    y_type, y_true, y_pred = _check_targets(y_true, y_pred)\n",
      "  File \"/home/wizzzet/ds/data-science/venv/lib/python3.8/site-packages/sklearn/metrics/_classification.py\", line 93, in _check_targets\n",
      "    raise ValueError(\n",
      "ValueError: Classification metrics can't handle a mix of multiclass and continuous targets\n",
      "\n",
      "  warnings.warn(\n",
      "/home/wizzzet/ds/data-science/venv/lib/python3.8/site-packages/sklearn/model_selection/_validation.py:771: UserWarning: Scoring failed. The score on this train-test partition for these parameters will be set to nan. Details: \n",
      "Traceback (most recent call last):\n",
      "  File \"/home/wizzzet/ds/data-science/venv/lib/python3.8/site-packages/sklearn/model_selection/_validation.py\", line 762, in _score\n",
      "    scores = scorer(estimator, X_test, y_test)\n",
      "  File \"/home/wizzzet/ds/data-science/venv/lib/python3.8/site-packages/sklearn/metrics/_scorer.py\", line 103, in __call__\n",
      "    score = scorer._score(cached_call, estimator, *args, **kwargs)\n",
      "  File \"/home/wizzzet/ds/data-science/venv/lib/python3.8/site-packages/sklearn/metrics/_scorer.py\", line 264, in _score\n",
      "    return self._sign * self._score_func(y_true, y_pred, **self._kwargs)\n",
      "  File \"/home/wizzzet/ds/data-science/venv/lib/python3.8/site-packages/sklearn/metrics/_classification.py\", line 205, in accuracy_score\n",
      "    y_type, y_true, y_pred = _check_targets(y_true, y_pred)\n",
      "  File \"/home/wizzzet/ds/data-science/venv/lib/python3.8/site-packages/sklearn/metrics/_classification.py\", line 93, in _check_targets\n",
      "    raise ValueError(\n",
      "ValueError: Classification metrics can't handle a mix of multiclass and continuous targets\n",
      "\n",
      "  warnings.warn(\n",
      "/home/wizzzet/ds/data-science/venv/lib/python3.8/site-packages/sklearn/model_selection/_validation.py:771: UserWarning: Scoring failed. The score on this train-test partition for these parameters will be set to nan. Details: \n",
      "Traceback (most recent call last):\n",
      "  File \"/home/wizzzet/ds/data-science/venv/lib/python3.8/site-packages/sklearn/model_selection/_validation.py\", line 762, in _score\n",
      "    scores = scorer(estimator, X_test, y_test)\n",
      "  File \"/home/wizzzet/ds/data-science/venv/lib/python3.8/site-packages/sklearn/metrics/_scorer.py\", line 103, in __call__\n",
      "    score = scorer._score(cached_call, estimator, *args, **kwargs)\n",
      "  File \"/home/wizzzet/ds/data-science/venv/lib/python3.8/site-packages/sklearn/metrics/_scorer.py\", line 264, in _score\n",
      "    return self._sign * self._score_func(y_true, y_pred, **self._kwargs)\n",
      "  File \"/home/wizzzet/ds/data-science/venv/lib/python3.8/site-packages/sklearn/metrics/_classification.py\", line 205, in accuracy_score\n",
      "    y_type, y_true, y_pred = _check_targets(y_true, y_pred)\n",
      "  File \"/home/wizzzet/ds/data-science/venv/lib/python3.8/site-packages/sklearn/metrics/_classification.py\", line 93, in _check_targets\n",
      "    raise ValueError(\n",
      "ValueError: Classification metrics can't handle a mix of multiclass and continuous targets\n",
      "\n",
      "  warnings.warn(\n",
      "/home/wizzzet/ds/data-science/venv/lib/python3.8/site-packages/sklearn/model_selection/_validation.py:771: UserWarning: Scoring failed. The score on this train-test partition for these parameters will be set to nan. Details: \n",
      "Traceback (most recent call last):\n",
      "  File \"/home/wizzzet/ds/data-science/venv/lib/python3.8/site-packages/sklearn/model_selection/_validation.py\", line 762, in _score\n",
      "    scores = scorer(estimator, X_test, y_test)\n",
      "  File \"/home/wizzzet/ds/data-science/venv/lib/python3.8/site-packages/sklearn/metrics/_scorer.py\", line 103, in __call__\n",
      "    score = scorer._score(cached_call, estimator, *args, **kwargs)\n",
      "  File \"/home/wizzzet/ds/data-science/venv/lib/python3.8/site-packages/sklearn/metrics/_scorer.py\", line 264, in _score\n",
      "    return self._sign * self._score_func(y_true, y_pred, **self._kwargs)\n",
      "  File \"/home/wizzzet/ds/data-science/venv/lib/python3.8/site-packages/sklearn/metrics/_classification.py\", line 205, in accuracy_score\n",
      "    y_type, y_true, y_pred = _check_targets(y_true, y_pred)\n",
      "  File \"/home/wizzzet/ds/data-science/venv/lib/python3.8/site-packages/sklearn/metrics/_classification.py\", line 93, in _check_targets\n",
      "    raise ValueError(\n",
      "ValueError: Classification metrics can't handle a mix of multiclass and continuous targets\n",
      "\n",
      "  warnings.warn(\n",
      "/home/wizzzet/ds/data-science/venv/lib/python3.8/site-packages/sklearn/model_selection/_validation.py:771: UserWarning: Scoring failed. The score on this train-test partition for these parameters will be set to nan. Details: \n",
      "Traceback (most recent call last):\n",
      "  File \"/home/wizzzet/ds/data-science/venv/lib/python3.8/site-packages/sklearn/model_selection/_validation.py\", line 762, in _score\n",
      "    scores = scorer(estimator, X_test, y_test)\n",
      "  File \"/home/wizzzet/ds/data-science/venv/lib/python3.8/site-packages/sklearn/metrics/_scorer.py\", line 103, in __call__\n",
      "    score = scorer._score(cached_call, estimator, *args, **kwargs)\n",
      "  File \"/home/wizzzet/ds/data-science/venv/lib/python3.8/site-packages/sklearn/metrics/_scorer.py\", line 264, in _score\n",
      "    return self._sign * self._score_func(y_true, y_pred, **self._kwargs)\n",
      "  File \"/home/wizzzet/ds/data-science/venv/lib/python3.8/site-packages/sklearn/metrics/_classification.py\", line 205, in accuracy_score\n",
      "    y_type, y_true, y_pred = _check_targets(y_true, y_pred)\n",
      "  File \"/home/wizzzet/ds/data-science/venv/lib/python3.8/site-packages/sklearn/metrics/_classification.py\", line 93, in _check_targets\n",
      "    raise ValueError(\n",
      "ValueError: Classification metrics can't handle a mix of multiclass and continuous targets\n",
      "\n",
      "  warnings.warn(\n",
      "/home/wizzzet/ds/data-science/venv/lib/python3.8/site-packages/sklearn/model_selection/_validation.py:771: UserWarning: Scoring failed. The score on this train-test partition for these parameters will be set to nan. Details: \n",
      "Traceback (most recent call last):\n",
      "  File \"/home/wizzzet/ds/data-science/venv/lib/python3.8/site-packages/sklearn/model_selection/_validation.py\", line 762, in _score\n",
      "    scores = scorer(estimator, X_test, y_test)\n",
      "  File \"/home/wizzzet/ds/data-science/venv/lib/python3.8/site-packages/sklearn/metrics/_scorer.py\", line 103, in __call__\n",
      "    score = scorer._score(cached_call, estimator, *args, **kwargs)\n",
      "  File \"/home/wizzzet/ds/data-science/venv/lib/python3.8/site-packages/sklearn/metrics/_scorer.py\", line 264, in _score\n",
      "    return self._sign * self._score_func(y_true, y_pred, **self._kwargs)\n",
      "  File \"/home/wizzzet/ds/data-science/venv/lib/python3.8/site-packages/sklearn/metrics/_classification.py\", line 205, in accuracy_score\n",
      "    y_type, y_true, y_pred = _check_targets(y_true, y_pred)\n",
      "  File \"/home/wizzzet/ds/data-science/venv/lib/python3.8/site-packages/sklearn/metrics/_classification.py\", line 93, in _check_targets\n",
      "    raise ValueError(\n",
      "ValueError: Classification metrics can't handle a mix of multiclass and continuous targets\n",
      "\n",
      "  warnings.warn(\n",
      "[Parallel(n_jobs=-1)]: Done  10 out of  10 | elapsed:    0.6s finished\n"
     ]
    },
    {
     "name": "stdout",
     "output_type": "stream",
     "text": [
      "vectors_scaled: Lasso_normalized: nan\n",
      "stats_scaled: Ridge...\n",
      "stats_scaled: Ridge: nan\n",
      "stats_scaled: Lasso_normalized...\n"
     ]
    },
    {
     "name": "stderr",
     "output_type": "stream",
     "text": [
      "[Parallel(n_jobs=-1)]: Using backend LokyBackend with 8 concurrent workers.\n",
      "/home/wizzzet/ds/data-science/venv/lib/python3.8/site-packages/sklearn/model_selection/_validation.py:771: UserWarning: Scoring failed. The score on this train-test partition for these parameters will be set to nan. Details: \n",
      "Traceback (most recent call last):\n",
      "  File \"/home/wizzzet/ds/data-science/venv/lib/python3.8/site-packages/sklearn/model_selection/_validation.py\", line 762, in _score\n",
      "    scores = scorer(estimator, X_test, y_test)\n",
      "  File \"/home/wizzzet/ds/data-science/venv/lib/python3.8/site-packages/sklearn/metrics/_scorer.py\", line 103, in __call__\n",
      "    score = scorer._score(cached_call, estimator, *args, **kwargs)\n",
      "  File \"/home/wizzzet/ds/data-science/venv/lib/python3.8/site-packages/sklearn/metrics/_scorer.py\", line 264, in _score\n",
      "    return self._sign * self._score_func(y_true, y_pred, **self._kwargs)\n",
      "  File \"/home/wizzzet/ds/data-science/venv/lib/python3.8/site-packages/sklearn/metrics/_classification.py\", line 205, in accuracy_score\n",
      "    y_type, y_true, y_pred = _check_targets(y_true, y_pred)\n",
      "  File \"/home/wizzzet/ds/data-science/venv/lib/python3.8/site-packages/sklearn/metrics/_classification.py\", line 93, in _check_targets\n",
      "    raise ValueError(\n",
      "ValueError: Classification metrics can't handle a mix of multiclass and continuous targets\n",
      "\n",
      "  warnings.warn(\n",
      "/home/wizzzet/ds/data-science/venv/lib/python3.8/site-packages/sklearn/model_selection/_validation.py:771: UserWarning: Scoring failed. The score on this train-test partition for these parameters will be set to nan. Details: \n",
      "Traceback (most recent call last):\n",
      "  File \"/home/wizzzet/ds/data-science/venv/lib/python3.8/site-packages/sklearn/model_selection/_validation.py\", line 762, in _score\n",
      "    scores = scorer(estimator, X_test, y_test)\n",
      "  File \"/home/wizzzet/ds/data-science/venv/lib/python3.8/site-packages/sklearn/metrics/_scorer.py\", line 103, in __call__\n",
      "    score = scorer._score(cached_call, estimator, *args, **kwargs)\n",
      "  File \"/home/wizzzet/ds/data-science/venv/lib/python3.8/site-packages/sklearn/metrics/_scorer.py\", line 264, in _score\n",
      "    return self._sign * self._score_func(y_true, y_pred, **self._kwargs)\n",
      "  File \"/home/wizzzet/ds/data-science/venv/lib/python3.8/site-packages/sklearn/metrics/_classification.py\", line 205, in accuracy_score\n",
      "    y_type, y_true, y_pred = _check_targets(y_true, y_pred)\n",
      "  File \"/home/wizzzet/ds/data-science/venv/lib/python3.8/site-packages/sklearn/metrics/_classification.py\", line 93, in _check_targets\n",
      "    raise ValueError(\n",
      "ValueError: Classification metrics can't handle a mix of multiclass and continuous targets\n",
      "\n",
      "  warnings.warn(\n",
      "/home/wizzzet/ds/data-science/venv/lib/python3.8/site-packages/sklearn/model_selection/_validation.py:771: UserWarning: Scoring failed. The score on this train-test partition for these parameters will be set to nan. Details: \n",
      "Traceback (most recent call last):\n",
      "  File \"/home/wizzzet/ds/data-science/venv/lib/python3.8/site-packages/sklearn/model_selection/_validation.py\", line 762, in _score\n",
      "    scores = scorer(estimator, X_test, y_test)\n",
      "  File \"/home/wizzzet/ds/data-science/venv/lib/python3.8/site-packages/sklearn/metrics/_scorer.py\", line 103, in __call__\n",
      "    score = scorer._score(cached_call, estimator, *args, **kwargs)\n",
      "  File \"/home/wizzzet/ds/data-science/venv/lib/python3.8/site-packages/sklearn/metrics/_scorer.py\", line 264, in _score\n",
      "    return self._sign * self._score_func(y_true, y_pred, **self._kwargs)\n",
      "  File \"/home/wizzzet/ds/data-science/venv/lib/python3.8/site-packages/sklearn/metrics/_classification.py\", line 205, in accuracy_score\n",
      "    y_type, y_true, y_pred = _check_targets(y_true, y_pred)\n",
      "  File \"/home/wizzzet/ds/data-science/venv/lib/python3.8/site-packages/sklearn/metrics/_classification.py\", line 93, in _check_targets\n",
      "    raise ValueError(\n",
      "ValueError: Classification metrics can't handle a mix of multiclass and continuous targets\n",
      "\n",
      "  warnings.warn(\n",
      "/home/wizzzet/ds/data-science/venv/lib/python3.8/site-packages/sklearn/model_selection/_validation.py:771: UserWarning: Scoring failed. The score on this train-test partition for these parameters will be set to nan. Details: \n",
      "Traceback (most recent call last):\n",
      "  File \"/home/wizzzet/ds/data-science/venv/lib/python3.8/site-packages/sklearn/model_selection/_validation.py\", line 762, in _score\n",
      "    scores = scorer(estimator, X_test, y_test)\n",
      "  File \"/home/wizzzet/ds/data-science/venv/lib/python3.8/site-packages/sklearn/metrics/_scorer.py\", line 103, in __call__\n",
      "    score = scorer._score(cached_call, estimator, *args, **kwargs)\n",
      "  File \"/home/wizzzet/ds/data-science/venv/lib/python3.8/site-packages/sklearn/metrics/_scorer.py\", line 264, in _score\n",
      "    return self._sign * self._score_func(y_true, y_pred, **self._kwargs)\n",
      "  File \"/home/wizzzet/ds/data-science/venv/lib/python3.8/site-packages/sklearn/metrics/_classification.py\", line 205, in accuracy_score\n",
      "    y_type, y_true, y_pred = _check_targets(y_true, y_pred)\n",
      "  File \"/home/wizzzet/ds/data-science/venv/lib/python3.8/site-packages/sklearn/metrics/_classification.py\", line 93, in _check_targets\n",
      "    raise ValueError(\n",
      "ValueError: Classification metrics can't handle a mix of multiclass and continuous targets\n",
      "\n",
      "  warnings.warn(\n",
      "/home/wizzzet/ds/data-science/venv/lib/python3.8/site-packages/sklearn/model_selection/_validation.py:771: UserWarning: Scoring failed. The score on this train-test partition for these parameters will be set to nan. Details: \n",
      "Traceback (most recent call last):\n",
      "  File \"/home/wizzzet/ds/data-science/venv/lib/python3.8/site-packages/sklearn/model_selection/_validation.py\", line 762, in _score\n",
      "    scores = scorer(estimator, X_test, y_test)\n",
      "  File \"/home/wizzzet/ds/data-science/venv/lib/python3.8/site-packages/sklearn/metrics/_scorer.py\", line 103, in __call__\n",
      "    score = scorer._score(cached_call, estimator, *args, **kwargs)\n",
      "  File \"/home/wizzzet/ds/data-science/venv/lib/python3.8/site-packages/sklearn/metrics/_scorer.py\", line 264, in _score\n",
      "    return self._sign * self._score_func(y_true, y_pred, **self._kwargs)\n",
      "  File \"/home/wizzzet/ds/data-science/venv/lib/python3.8/site-packages/sklearn/metrics/_classification.py\", line 205, in accuracy_score\n",
      "    y_type, y_true, y_pred = _check_targets(y_true, y_pred)\n",
      "  File \"/home/wizzzet/ds/data-science/venv/lib/python3.8/site-packages/sklearn/metrics/_classification.py\", line 93, in _check_targets\n",
      "    raise ValueError(\n",
      "ValueError: Classification metrics can't handle a mix of multiclass and continuous targets\n",
      "\n",
      "  warnings.warn(\n",
      "/home/wizzzet/ds/data-science/venv/lib/python3.8/site-packages/sklearn/model_selection/_validation.py:771: UserWarning: Scoring failed. The score on this train-test partition for these parameters will be set to nan. Details: \n",
      "Traceback (most recent call last):\n",
      "  File \"/home/wizzzet/ds/data-science/venv/lib/python3.8/site-packages/sklearn/model_selection/_validation.py\", line 762, in _score\n",
      "    scores = scorer(estimator, X_test, y_test)\n",
      "  File \"/home/wizzzet/ds/data-science/venv/lib/python3.8/site-packages/sklearn/metrics/_scorer.py\", line 103, in __call__\n",
      "    score = scorer._score(cached_call, estimator, *args, **kwargs)\n",
      "  File \"/home/wizzzet/ds/data-science/venv/lib/python3.8/site-packages/sklearn/metrics/_scorer.py\", line 264, in _score\n",
      "    return self._sign * self._score_func(y_true, y_pred, **self._kwargs)\n",
      "  File \"/home/wizzzet/ds/data-science/venv/lib/python3.8/site-packages/sklearn/metrics/_classification.py\", line 205, in accuracy_score\n",
      "    y_type, y_true, y_pred = _check_targets(y_true, y_pred)\n",
      "  File \"/home/wizzzet/ds/data-science/venv/lib/python3.8/site-packages/sklearn/metrics/_classification.py\", line 93, in _check_targets\n",
      "    raise ValueError(\n",
      "ValueError: Classification metrics can't handle a mix of multiclass and continuous targets\n",
      "\n",
      "  warnings.warn(\n",
      "/home/wizzzet/ds/data-science/venv/lib/python3.8/site-packages/sklearn/model_selection/_validation.py:771: UserWarning: Scoring failed. The score on this train-test partition for these parameters will be set to nan. Details: \n",
      "Traceback (most recent call last):\n",
      "  File \"/home/wizzzet/ds/data-science/venv/lib/python3.8/site-packages/sklearn/model_selection/_validation.py\", line 762, in _score\n",
      "    scores = scorer(estimator, X_test, y_test)\n",
      "  File \"/home/wizzzet/ds/data-science/venv/lib/python3.8/site-packages/sklearn/metrics/_scorer.py\", line 103, in __call__\n",
      "    score = scorer._score(cached_call, estimator, *args, **kwargs)\n",
      "  File \"/home/wizzzet/ds/data-science/venv/lib/python3.8/site-packages/sklearn/metrics/_scorer.py\", line 264, in _score\n",
      "    return self._sign * self._score_func(y_true, y_pred, **self._kwargs)\n",
      "  File \"/home/wizzzet/ds/data-science/venv/lib/python3.8/site-packages/sklearn/metrics/_classification.py\", line 205, in accuracy_score\n",
      "    y_type, y_true, y_pred = _check_targets(y_true, y_pred)\n",
      "  File \"/home/wizzzet/ds/data-science/venv/lib/python3.8/site-packages/sklearn/metrics/_classification.py\", line 93, in _check_targets\n",
      "    raise ValueError(\n",
      "ValueError: Classification metrics can't handle a mix of multiclass and continuous targets\n",
      "\n",
      "  warnings.warn(\n",
      "/home/wizzzet/ds/data-science/venv/lib/python3.8/site-packages/sklearn/model_selection/_validation.py:771: UserWarning: Scoring failed. The score on this train-test partition for these parameters will be set to nan. Details: \n",
      "Traceback (most recent call last):\n",
      "  File \"/home/wizzzet/ds/data-science/venv/lib/python3.8/site-packages/sklearn/model_selection/_validation.py\", line 762, in _score\n",
      "    scores = scorer(estimator, X_test, y_test)\n",
      "  File \"/home/wizzzet/ds/data-science/venv/lib/python3.8/site-packages/sklearn/metrics/_scorer.py\", line 103, in __call__\n",
      "    score = scorer._score(cached_call, estimator, *args, **kwargs)\n",
      "  File \"/home/wizzzet/ds/data-science/venv/lib/python3.8/site-packages/sklearn/metrics/_scorer.py\", line 264, in _score\n",
      "    return self._sign * self._score_func(y_true, y_pred, **self._kwargs)\n",
      "  File \"/home/wizzzet/ds/data-science/venv/lib/python3.8/site-packages/sklearn/metrics/_classification.py\", line 205, in accuracy_score\n",
      "    y_type, y_true, y_pred = _check_targets(y_true, y_pred)\n",
      "  File \"/home/wizzzet/ds/data-science/venv/lib/python3.8/site-packages/sklearn/metrics/_classification.py\", line 93, in _check_targets\n",
      "    raise ValueError(\n",
      "ValueError: Classification metrics can't handle a mix of multiclass and continuous targets\n",
      "\n",
      "  warnings.warn(\n",
      "/home/wizzzet/ds/data-science/venv/lib/python3.8/site-packages/sklearn/model_selection/_validation.py:771: UserWarning: Scoring failed. The score on this train-test partition for these parameters will be set to nan. Details: \n",
      "Traceback (most recent call last):\n",
      "  File \"/home/wizzzet/ds/data-science/venv/lib/python3.8/site-packages/sklearn/model_selection/_validation.py\", line 762, in _score\n",
      "    scores = scorer(estimator, X_test, y_test)\n",
      "  File \"/home/wizzzet/ds/data-science/venv/lib/python3.8/site-packages/sklearn/metrics/_scorer.py\", line 103, in __call__\n",
      "    score = scorer._score(cached_call, estimator, *args, **kwargs)\n",
      "  File \"/home/wizzzet/ds/data-science/venv/lib/python3.8/site-packages/sklearn/metrics/_scorer.py\", line 264, in _score\n",
      "    return self._sign * self._score_func(y_true, y_pred, **self._kwargs)\n",
      "  File \"/home/wizzzet/ds/data-science/venv/lib/python3.8/site-packages/sklearn/metrics/_classification.py\", line 205, in accuracy_score\n",
      "    y_type, y_true, y_pred = _check_targets(y_true, y_pred)\n",
      "  File \"/home/wizzzet/ds/data-science/venv/lib/python3.8/site-packages/sklearn/metrics/_classification.py\", line 93, in _check_targets\n",
      "    raise ValueError(\n",
      "ValueError: Classification metrics can't handle a mix of multiclass and continuous targets\n",
      "\n",
      "  warnings.warn(\n",
      "/home/wizzzet/ds/data-science/venv/lib/python3.8/site-packages/sklearn/model_selection/_validation.py:771: UserWarning: Scoring failed. The score on this train-test partition for these parameters will be set to nan. Details: \n",
      "Traceback (most recent call last):\n",
      "  File \"/home/wizzzet/ds/data-science/venv/lib/python3.8/site-packages/sklearn/model_selection/_validation.py\", line 762, in _score\n",
      "    scores = scorer(estimator, X_test, y_test)\n",
      "  File \"/home/wizzzet/ds/data-science/venv/lib/python3.8/site-packages/sklearn/metrics/_scorer.py\", line 103, in __call__\n",
      "    score = scorer._score(cached_call, estimator, *args, **kwargs)\n",
      "  File \"/home/wizzzet/ds/data-science/venv/lib/python3.8/site-packages/sklearn/metrics/_scorer.py\", line 264, in _score\n",
      "    return self._sign * self._score_func(y_true, y_pred, **self._kwargs)\n",
      "  File \"/home/wizzzet/ds/data-science/venv/lib/python3.8/site-packages/sklearn/metrics/_classification.py\", line 205, in accuracy_score\n",
      "    y_type, y_true, y_pred = _check_targets(y_true, y_pred)\n",
      "  File \"/home/wizzzet/ds/data-science/venv/lib/python3.8/site-packages/sklearn/metrics/_classification.py\", line 93, in _check_targets\n",
      "    raise ValueError(\n",
      "ValueError: Classification metrics can't handle a mix of multiclass and continuous targets\n",
      "\n",
      "  warnings.warn(\n",
      "/home/wizzzet/ds/data-science/venv/lib/python3.8/site-packages/sklearn/model_selection/_validation.py:771: UserWarning: Scoring failed. The score on this train-test partition for these parameters will be set to nan. Details: \n",
      "Traceback (most recent call last):\n",
      "  File \"/home/wizzzet/ds/data-science/venv/lib/python3.8/site-packages/sklearn/model_selection/_validation.py\", line 762, in _score\n",
      "    scores = scorer(estimator, X_test, y_test)\n",
      "  File \"/home/wizzzet/ds/data-science/venv/lib/python3.8/site-packages/sklearn/metrics/_scorer.py\", line 103, in __call__\n",
      "    score = scorer._score(cached_call, estimator, *args, **kwargs)\n",
      "  File \"/home/wizzzet/ds/data-science/venv/lib/python3.8/site-packages/sklearn/metrics/_scorer.py\", line 264, in _score\n",
      "    return self._sign * self._score_func(y_true, y_pred, **self._kwargs)\n",
      "  File \"/home/wizzzet/ds/data-science/venv/lib/python3.8/site-packages/sklearn/metrics/_classification.py\", line 205, in accuracy_score\n",
      "    y_type, y_true, y_pred = _check_targets(y_true, y_pred)\n",
      "  File \"/home/wizzzet/ds/data-science/venv/lib/python3.8/site-packages/sklearn/metrics/_classification.py\", line 93, in _check_targets\n",
      "    raise ValueError(\n",
      "ValueError: Classification metrics can't handle a mix of multiclass and continuous targets\n",
      "\n",
      "  warnings.warn(\n",
      "/home/wizzzet/ds/data-science/venv/lib/python3.8/site-packages/sklearn/model_selection/_validation.py:771: UserWarning: Scoring failed. The score on this train-test partition for these parameters will be set to nan. Details: \n",
      "Traceback (most recent call last):\n",
      "  File \"/home/wizzzet/ds/data-science/venv/lib/python3.8/site-packages/sklearn/model_selection/_validation.py\", line 762, in _score\n",
      "    scores = scorer(estimator, X_test, y_test)\n",
      "  File \"/home/wizzzet/ds/data-science/venv/lib/python3.8/site-packages/sklearn/metrics/_scorer.py\", line 103, in __call__\n",
      "    score = scorer._score(cached_call, estimator, *args, **kwargs)\n",
      "  File \"/home/wizzzet/ds/data-science/venv/lib/python3.8/site-packages/sklearn/metrics/_scorer.py\", line 264, in _score\n",
      "    return self._sign * self._score_func(y_true, y_pred, **self._kwargs)\n",
      "  File \"/home/wizzzet/ds/data-science/venv/lib/python3.8/site-packages/sklearn/metrics/_classification.py\", line 205, in accuracy_score\n",
      "    y_type, y_true, y_pred = _check_targets(y_true, y_pred)\n",
      "  File \"/home/wizzzet/ds/data-science/venv/lib/python3.8/site-packages/sklearn/metrics/_classification.py\", line 93, in _check_targets\n",
      "    raise ValueError(\n",
      "ValueError: Classification metrics can't handle a mix of multiclass and continuous targets\n",
      "\n",
      "  warnings.warn(\n",
      "[Parallel(n_jobs=-1)]: Done   3 out of  10 | elapsed:    0.0s remaining:    0.1s\n",
      "/home/wizzzet/ds/data-science/venv/lib/python3.8/site-packages/sklearn/model_selection/_validation.py:771: UserWarning: Scoring failed. The score on this train-test partition for these parameters will be set to nan. Details: \n",
      "Traceback (most recent call last):\n",
      "  File \"/home/wizzzet/ds/data-science/venv/lib/python3.8/site-packages/sklearn/model_selection/_validation.py\", line 762, in _score\n",
      "    scores = scorer(estimator, X_test, y_test)\n",
      "  File \"/home/wizzzet/ds/data-science/venv/lib/python3.8/site-packages/sklearn/metrics/_scorer.py\", line 103, in __call__\n",
      "    score = scorer._score(cached_call, estimator, *args, **kwargs)\n",
      "  File \"/home/wizzzet/ds/data-science/venv/lib/python3.8/site-packages/sklearn/metrics/_scorer.py\", line 264, in _score\n",
      "    return self._sign * self._score_func(y_true, y_pred, **self._kwargs)\n",
      "  File \"/home/wizzzet/ds/data-science/venv/lib/python3.8/site-packages/sklearn/metrics/_classification.py\", line 205, in accuracy_score\n",
      "    y_type, y_true, y_pred = _check_targets(y_true, y_pred)\n",
      "  File \"/home/wizzzet/ds/data-science/venv/lib/python3.8/site-packages/sklearn/metrics/_classification.py\", line 93, in _check_targets\n",
      "    raise ValueError(\n",
      "ValueError: Classification metrics can't handle a mix of multiclass and continuous targets\n",
      "\n",
      "  warnings.warn(\n",
      "/home/wizzzet/ds/data-science/venv/lib/python3.8/site-packages/sklearn/model_selection/_validation.py:771: UserWarning: Scoring failed. The score on this train-test partition for these parameters will be set to nan. Details: \n",
      "Traceback (most recent call last):\n",
      "  File \"/home/wizzzet/ds/data-science/venv/lib/python3.8/site-packages/sklearn/model_selection/_validation.py\", line 762, in _score\n",
      "    scores = scorer(estimator, X_test, y_test)\n",
      "  File \"/home/wizzzet/ds/data-science/venv/lib/python3.8/site-packages/sklearn/metrics/_scorer.py\", line 103, in __call__\n",
      "    score = scorer._score(cached_call, estimator, *args, **kwargs)\n",
      "  File \"/home/wizzzet/ds/data-science/venv/lib/python3.8/site-packages/sklearn/metrics/_scorer.py\", line 264, in _score\n",
      "    return self._sign * self._score_func(y_true, y_pred, **self._kwargs)\n",
      "  File \"/home/wizzzet/ds/data-science/venv/lib/python3.8/site-packages/sklearn/metrics/_classification.py\", line 205, in accuracy_score\n",
      "    y_type, y_true, y_pred = _check_targets(y_true, y_pred)\n",
      "  File \"/home/wizzzet/ds/data-science/venv/lib/python3.8/site-packages/sklearn/metrics/_classification.py\", line 93, in _check_targets\n",
      "    raise ValueError(\n",
      "ValueError: Classification metrics can't handle a mix of multiclass and continuous targets\n",
      "\n",
      "  warnings.warn(\n",
      "/home/wizzzet/ds/data-science/venv/lib/python3.8/site-packages/sklearn/model_selection/_validation.py:771: UserWarning: Scoring failed. The score on this train-test partition for these parameters will be set to nan. Details: \n",
      "Traceback (most recent call last):\n",
      "  File \"/home/wizzzet/ds/data-science/venv/lib/python3.8/site-packages/sklearn/model_selection/_validation.py\", line 762, in _score\n",
      "    scores = scorer(estimator, X_test, y_test)\n",
      "  File \"/home/wizzzet/ds/data-science/venv/lib/python3.8/site-packages/sklearn/metrics/_scorer.py\", line 103, in __call__\n",
      "    score = scorer._score(cached_call, estimator, *args, **kwargs)\n",
      "  File \"/home/wizzzet/ds/data-science/venv/lib/python3.8/site-packages/sklearn/metrics/_scorer.py\", line 264, in _score\n",
      "    return self._sign * self._score_func(y_true, y_pred, **self._kwargs)\n",
      "  File \"/home/wizzzet/ds/data-science/venv/lib/python3.8/site-packages/sklearn/metrics/_classification.py\", line 205, in accuracy_score\n",
      "    y_type, y_true, y_pred = _check_targets(y_true, y_pred)\n",
      "  File \"/home/wizzzet/ds/data-science/venv/lib/python3.8/site-packages/sklearn/metrics/_classification.py\", line 93, in _check_targets\n",
      "    raise ValueError(\n",
      "ValueError: Classification metrics can't handle a mix of multiclass and continuous targets\n",
      "\n",
      "  warnings.warn(\n",
      "/home/wizzzet/ds/data-science/venv/lib/python3.8/site-packages/sklearn/model_selection/_validation.py:771: UserWarning: Scoring failed. The score on this train-test partition for these parameters will be set to nan. Details: \n",
      "Traceback (most recent call last):\n",
      "  File \"/home/wizzzet/ds/data-science/venv/lib/python3.8/site-packages/sklearn/model_selection/_validation.py\", line 762, in _score\n",
      "    scores = scorer(estimator, X_test, y_test)\n",
      "  File \"/home/wizzzet/ds/data-science/venv/lib/python3.8/site-packages/sklearn/metrics/_scorer.py\", line 103, in __call__\n",
      "    score = scorer._score(cached_call, estimator, *args, **kwargs)\n",
      "  File \"/home/wizzzet/ds/data-science/venv/lib/python3.8/site-packages/sklearn/metrics/_scorer.py\", line 264, in _score\n",
      "    return self._sign * self._score_func(y_true, y_pred, **self._kwargs)\n",
      "  File \"/home/wizzzet/ds/data-science/venv/lib/python3.8/site-packages/sklearn/metrics/_classification.py\", line 205, in accuracy_score\n",
      "    y_type, y_true, y_pred = _check_targets(y_true, y_pred)\n",
      "  File \"/home/wizzzet/ds/data-science/venv/lib/python3.8/site-packages/sklearn/metrics/_classification.py\", line 93, in _check_targets\n",
      "    raise ValueError(\n",
      "ValueError: Classification metrics can't handle a mix of multiclass and continuous targets\n",
      "\n",
      "  warnings.warn(\n",
      "/home/wizzzet/ds/data-science/venv/lib/python3.8/site-packages/sklearn/model_selection/_validation.py:771: UserWarning: Scoring failed. The score on this train-test partition for these parameters will be set to nan. Details: \n",
      "Traceback (most recent call last):\n",
      "  File \"/home/wizzzet/ds/data-science/venv/lib/python3.8/site-packages/sklearn/model_selection/_validation.py\", line 762, in _score\n",
      "    scores = scorer(estimator, X_test, y_test)\n",
      "  File \"/home/wizzzet/ds/data-science/venv/lib/python3.8/site-packages/sklearn/metrics/_scorer.py\", line 103, in __call__\n",
      "    score = scorer._score(cached_call, estimator, *args, **kwargs)\n",
      "  File \"/home/wizzzet/ds/data-science/venv/lib/python3.8/site-packages/sklearn/metrics/_scorer.py\", line 264, in _score\n",
      "    return self._sign * self._score_func(y_true, y_pred, **self._kwargs)\n",
      "  File \"/home/wizzzet/ds/data-science/venv/lib/python3.8/site-packages/sklearn/metrics/_classification.py\", line 205, in accuracy_score\n",
      "    y_type, y_true, y_pred = _check_targets(y_true, y_pred)\n",
      "  File \"/home/wizzzet/ds/data-science/venv/lib/python3.8/site-packages/sklearn/metrics/_classification.py\", line 93, in _check_targets\n",
      "    raise ValueError(\n",
      "ValueError: Classification metrics can't handle a mix of multiclass and continuous targets\n",
      "\n",
      "  warnings.warn(\n",
      "/home/wizzzet/ds/data-science/venv/lib/python3.8/site-packages/sklearn/model_selection/_validation.py:771: UserWarning: Scoring failed. The score on this train-test partition for these parameters will be set to nan. Details: \n",
      "Traceback (most recent call last):\n",
      "  File \"/home/wizzzet/ds/data-science/venv/lib/python3.8/site-packages/sklearn/model_selection/_validation.py\", line 762, in _score\n",
      "    scores = scorer(estimator, X_test, y_test)\n",
      "  File \"/home/wizzzet/ds/data-science/venv/lib/python3.8/site-packages/sklearn/metrics/_scorer.py\", line 103, in __call__\n",
      "    score = scorer._score(cached_call, estimator, *args, **kwargs)\n",
      "  File \"/home/wizzzet/ds/data-science/venv/lib/python3.8/site-packages/sklearn/metrics/_scorer.py\", line 264, in _score\n",
      "    return self._sign * self._score_func(y_true, y_pred, **self._kwargs)\n",
      "  File \"/home/wizzzet/ds/data-science/venv/lib/python3.8/site-packages/sklearn/metrics/_classification.py\", line 205, in accuracy_score\n",
      "    y_type, y_true, y_pred = _check_targets(y_true, y_pred)\n",
      "  File \"/home/wizzzet/ds/data-science/venv/lib/python3.8/site-packages/sklearn/metrics/_classification.py\", line 93, in _check_targets\n",
      "    raise ValueError(\n",
      "ValueError: Classification metrics can't handle a mix of multiclass and continuous targets\n",
      "\n",
      "  warnings.warn(\n",
      "[Parallel(n_jobs=-1)]: Done   7 out of  10 | elapsed:    0.1s remaining:    0.0s\n",
      "[Parallel(n_jobs=-1)]: Done  10 out of  10 | elapsed:    0.1s finished\n",
      "[Parallel(n_jobs=-1)]: Using backend LokyBackend with 8 concurrent workers.\n"
     ]
    },
    {
     "name": "stderr",
     "output_type": "stream",
     "text": [
      "[Parallel(n_jobs=-1)]: Done   3 out of  10 | elapsed:    0.1s remaining:    0.1s\n",
      "[Parallel(n_jobs=-1)]: Done   7 out of  10 | elapsed:    0.1s remaining:    0.0s\n",
      "[Parallel(n_jobs=-1)]: Done  10 out of  10 | elapsed:    0.1s finished\n",
      "[Parallel(n_jobs=-1)]: Using backend LokyBackend with 8 concurrent workers.\n"
     ]
    },
    {
     "name": "stdout",
     "output_type": "stream",
     "text": [
      "stats_scaled: Lasso_normalized: nan\n",
      "mean_scaled: Ridge...\n"
     ]
    },
    {
     "name": "stderr",
     "output_type": "stream",
     "text": [
      "[Parallel(n_jobs=-1)]: Done   3 out of  10 | elapsed:    0.1s remaining:    0.2s\n",
      "[Parallel(n_jobs=-1)]: Done   7 out of  10 | elapsed:    0.1s remaining:    0.0s\n",
      "[Parallel(n_jobs=-1)]: Done  10 out of  10 | elapsed:    0.1s finished\n",
      "[Parallel(n_jobs=-1)]: Using backend LokyBackend with 8 concurrent workers.\n"
     ]
    },
    {
     "name": "stdout",
     "output_type": "stream",
     "text": [
      "mean_scaled: Ridge: nan\n",
      "mean_scaled: Lasso_normalized...\n",
      "mean_scaled: Lasso_normalized: nan\n"
     ]
    },
    {
     "name": "stderr",
     "output_type": "stream",
     "text": [
      "/home/wizzzet/ds/data-science/venv/lib/python3.8/site-packages/sklearn/model_selection/_validation.py:771: UserWarning: Scoring failed. The score on this train-test partition for these parameters will be set to nan. Details: \n",
      "Traceback (most recent call last):\n",
      "  File \"/home/wizzzet/ds/data-science/venv/lib/python3.8/site-packages/sklearn/model_selection/_validation.py\", line 762, in _score\n",
      "    scores = scorer(estimator, X_test, y_test)\n",
      "  File \"/home/wizzzet/ds/data-science/venv/lib/python3.8/site-packages/sklearn/metrics/_scorer.py\", line 103, in __call__\n",
      "    score = scorer._score(cached_call, estimator, *args, **kwargs)\n",
      "  File \"/home/wizzzet/ds/data-science/venv/lib/python3.8/site-packages/sklearn/metrics/_scorer.py\", line 264, in _score\n",
      "    return self._sign * self._score_func(y_true, y_pred, **self._kwargs)\n",
      "  File \"/home/wizzzet/ds/data-science/venv/lib/python3.8/site-packages/sklearn/metrics/_classification.py\", line 205, in accuracy_score\n",
      "    y_type, y_true, y_pred = _check_targets(y_true, y_pred)\n",
      "  File \"/home/wizzzet/ds/data-science/venv/lib/python3.8/site-packages/sklearn/metrics/_classification.py\", line 93, in _check_targets\n",
      "    raise ValueError(\n",
      "ValueError: Classification metrics can't handle a mix of multiclass and continuous targets\n",
      "\n",
      "  warnings.warn(\n",
      "/home/wizzzet/ds/data-science/venv/lib/python3.8/site-packages/sklearn/model_selection/_validation.py:771: UserWarning: Scoring failed. The score on this train-test partition for these parameters will be set to nan. Details: \n",
      "Traceback (most recent call last):\n",
      "  File \"/home/wizzzet/ds/data-science/venv/lib/python3.8/site-packages/sklearn/model_selection/_validation.py\", line 762, in _score\n",
      "    scores = scorer(estimator, X_test, y_test)\n",
      "  File \"/home/wizzzet/ds/data-science/venv/lib/python3.8/site-packages/sklearn/metrics/_scorer.py\", line 103, in __call__\n",
      "    score = scorer._score(cached_call, estimator, *args, **kwargs)\n",
      "  File \"/home/wizzzet/ds/data-science/venv/lib/python3.8/site-packages/sklearn/metrics/_scorer.py\", line 264, in _score\n",
      "    return self._sign * self._score_func(y_true, y_pred, **self._kwargs)\n",
      "  File \"/home/wizzzet/ds/data-science/venv/lib/python3.8/site-packages/sklearn/metrics/_classification.py\", line 205, in accuracy_score\n",
      "    y_type, y_true, y_pred = _check_targets(y_true, y_pred)\n",
      "  File \"/home/wizzzet/ds/data-science/venv/lib/python3.8/site-packages/sklearn/metrics/_classification.py\", line 93, in _check_targets\n",
      "    raise ValueError(\n",
      "ValueError: Classification metrics can't handle a mix of multiclass and continuous targets\n",
      "\n",
      "  warnings.warn(\n",
      "/home/wizzzet/ds/data-science/venv/lib/python3.8/site-packages/sklearn/model_selection/_validation.py:771: UserWarning: Scoring failed. The score on this train-test partition for these parameters will be set to nan. Details: \n",
      "Traceback (most recent call last):\n",
      "  File \"/home/wizzzet/ds/data-science/venv/lib/python3.8/site-packages/sklearn/model_selection/_validation.py\", line 762, in _score\n",
      "    scores = scorer(estimator, X_test, y_test)\n",
      "  File \"/home/wizzzet/ds/data-science/venv/lib/python3.8/site-packages/sklearn/metrics/_scorer.py\", line 103, in __call__\n",
      "    score = scorer._score(cached_call, estimator, *args, **kwargs)\n",
      "  File \"/home/wizzzet/ds/data-science/venv/lib/python3.8/site-packages/sklearn/metrics/_scorer.py\", line 264, in _score\n",
      "    return self._sign * self._score_func(y_true, y_pred, **self._kwargs)\n",
      "  File \"/home/wizzzet/ds/data-science/venv/lib/python3.8/site-packages/sklearn/metrics/_classification.py\", line 205, in accuracy_score\n",
      "    y_type, y_true, y_pred = _check_targets(y_true, y_pred)\n",
      "  File \"/home/wizzzet/ds/data-science/venv/lib/python3.8/site-packages/sklearn/metrics/_classification.py\", line 93, in _check_targets\n",
      "    raise ValueError(\n",
      "ValueError: Classification metrics can't handle a mix of multiclass and continuous targets\n",
      "\n",
      "  warnings.warn(\n",
      "/home/wizzzet/ds/data-science/venv/lib/python3.8/site-packages/sklearn/model_selection/_validation.py:771: UserWarning: Scoring failed. The score on this train-test partition for these parameters will be set to nan. Details: \n",
      "Traceback (most recent call last):\n",
      "  File \"/home/wizzzet/ds/data-science/venv/lib/python3.8/site-packages/sklearn/model_selection/_validation.py\", line 762, in _score\n",
      "    scores = scorer(estimator, X_test, y_test)\n",
      "  File \"/home/wizzzet/ds/data-science/venv/lib/python3.8/site-packages/sklearn/metrics/_scorer.py\", line 103, in __call__\n",
      "    score = scorer._score(cached_call, estimator, *args, **kwargs)\n",
      "  File \"/home/wizzzet/ds/data-science/venv/lib/python3.8/site-packages/sklearn/metrics/_scorer.py\", line 264, in _score\n",
      "    return self._sign * self._score_func(y_true, y_pred, **self._kwargs)\n",
      "  File \"/home/wizzzet/ds/data-science/venv/lib/python3.8/site-packages/sklearn/metrics/_classification.py\", line 205, in accuracy_score\n",
      "    y_type, y_true, y_pred = _check_targets(y_true, y_pred)\n",
      "  File \"/home/wizzzet/ds/data-science/venv/lib/python3.8/site-packages/sklearn/metrics/_classification.py\", line 93, in _check_targets\n",
      "    raise ValueError(\n",
      "ValueError: Classification metrics can't handle a mix of multiclass and continuous targets\n",
      "\n",
      "  warnings.warn(\n",
      "/home/wizzzet/ds/data-science/venv/lib/python3.8/site-packages/sklearn/model_selection/_validation.py:771: UserWarning: Scoring failed. The score on this train-test partition for these parameters will be set to nan. Details: \n",
      "Traceback (most recent call last):\n",
      "  File \"/home/wizzzet/ds/data-science/venv/lib/python3.8/site-packages/sklearn/model_selection/_validation.py\", line 762, in _score\n",
      "    scores = scorer(estimator, X_test, y_test)\n",
      "  File \"/home/wizzzet/ds/data-science/venv/lib/python3.8/site-packages/sklearn/metrics/_scorer.py\", line 103, in __call__\n",
      "    score = scorer._score(cached_call, estimator, *args, **kwargs)\n",
      "  File \"/home/wizzzet/ds/data-science/venv/lib/python3.8/site-packages/sklearn/metrics/_scorer.py\", line 264, in _score\n",
      "    return self._sign * self._score_func(y_true, y_pred, **self._kwargs)\n",
      "  File \"/home/wizzzet/ds/data-science/venv/lib/python3.8/site-packages/sklearn/metrics/_classification.py\", line 205, in accuracy_score\n",
      "    y_type, y_true, y_pred = _check_targets(y_true, y_pred)\n",
      "  File \"/home/wizzzet/ds/data-science/venv/lib/python3.8/site-packages/sklearn/metrics/_classification.py\", line 93, in _check_targets\n",
      "    raise ValueError(\n",
      "ValueError: Classification metrics can't handle a mix of multiclass and continuous targets\n",
      "\n",
      "  warnings.warn(\n",
      "/home/wizzzet/ds/data-science/venv/lib/python3.8/site-packages/sklearn/model_selection/_validation.py:771: UserWarning: Scoring failed. The score on this train-test partition for these parameters will be set to nan. Details: \n",
      "Traceback (most recent call last):\n",
      "  File \"/home/wizzzet/ds/data-science/venv/lib/python3.8/site-packages/sklearn/model_selection/_validation.py\", line 762, in _score\n",
      "    scores = scorer(estimator, X_test, y_test)\n",
      "  File \"/home/wizzzet/ds/data-science/venv/lib/python3.8/site-packages/sklearn/metrics/_scorer.py\", line 103, in __call__\n",
      "    score = scorer._score(cached_call, estimator, *args, **kwargs)\n",
      "  File \"/home/wizzzet/ds/data-science/venv/lib/python3.8/site-packages/sklearn/metrics/_scorer.py\", line 264, in _score\n",
      "    return self._sign * self._score_func(y_true, y_pred, **self._kwargs)\n",
      "  File \"/home/wizzzet/ds/data-science/venv/lib/python3.8/site-packages/sklearn/metrics/_classification.py\", line 205, in accuracy_score\n",
      "    y_type, y_true, y_pred = _check_targets(y_true, y_pred)\n",
      "  File \"/home/wizzzet/ds/data-science/venv/lib/python3.8/site-packages/sklearn/metrics/_classification.py\", line 93, in _check_targets\n",
      "    raise ValueError(\n",
      "ValueError: Classification metrics can't handle a mix of multiclass and continuous targets\n",
      "\n",
      "  warnings.warn(\n",
      "[Parallel(n_jobs=-1)]: Done   3 out of  10 | elapsed:    0.2s remaining:    0.6s\n",
      "[Parallel(n_jobs=-1)]: Done   7 out of  10 | elapsed:    0.3s remaining:    0.1s\n",
      "/home/wizzzet/ds/data-science/venv/lib/python3.8/site-packages/sklearn/model_selection/_validation.py:771: UserWarning: Scoring failed. The score on this train-test partition for these parameters will be set to nan. Details: \n",
      "Traceback (most recent call last):\n",
      "  File \"/home/wizzzet/ds/data-science/venv/lib/python3.8/site-packages/sklearn/model_selection/_validation.py\", line 762, in _score\n",
      "    scores = scorer(estimator, X_test, y_test)\n",
      "  File \"/home/wizzzet/ds/data-science/venv/lib/python3.8/site-packages/sklearn/metrics/_scorer.py\", line 103, in __call__\n",
      "    score = scorer._score(cached_call, estimator, *args, **kwargs)\n",
      "  File \"/home/wizzzet/ds/data-science/venv/lib/python3.8/site-packages/sklearn/metrics/_scorer.py\", line 264, in _score\n",
      "    return self._sign * self._score_func(y_true, y_pred, **self._kwargs)\n",
      "  File \"/home/wizzzet/ds/data-science/venv/lib/python3.8/site-packages/sklearn/metrics/_classification.py\", line 205, in accuracy_score\n",
      "    y_type, y_true, y_pred = _check_targets(y_true, y_pred)\n",
      "  File \"/home/wizzzet/ds/data-science/venv/lib/python3.8/site-packages/sklearn/metrics/_classification.py\", line 93, in _check_targets\n",
      "    raise ValueError(\n",
      "ValueError: Classification metrics can't handle a mix of multiclass and continuous targets\n",
      "\n",
      "  warnings.warn(\n",
      "/home/wizzzet/ds/data-science/venv/lib/python3.8/site-packages/sklearn/model_selection/_validation.py:771: UserWarning: Scoring failed. The score on this train-test partition for these parameters will be set to nan. Details: \n",
      "Traceback (most recent call last):\n",
      "  File \"/home/wizzzet/ds/data-science/venv/lib/python3.8/site-packages/sklearn/model_selection/_validation.py\", line 762, in _score\n",
      "    scores = scorer(estimator, X_test, y_test)\n",
      "  File \"/home/wizzzet/ds/data-science/venv/lib/python3.8/site-packages/sklearn/metrics/_scorer.py\", line 103, in __call__\n",
      "    score = scorer._score(cached_call, estimator, *args, **kwargs)\n",
      "  File \"/home/wizzzet/ds/data-science/venv/lib/python3.8/site-packages/sklearn/metrics/_scorer.py\", line 264, in _score\n",
      "    return self._sign * self._score_func(y_true, y_pred, **self._kwargs)\n",
      "  File \"/home/wizzzet/ds/data-science/venv/lib/python3.8/site-packages/sklearn/metrics/_classification.py\", line 205, in accuracy_score\n",
      "    y_type, y_true, y_pred = _check_targets(y_true, y_pred)\n",
      "  File \"/home/wizzzet/ds/data-science/venv/lib/python3.8/site-packages/sklearn/metrics/_classification.py\", line 93, in _check_targets\n",
      "    raise ValueError(\n",
      "ValueError: Classification metrics can't handle a mix of multiclass and continuous targets\n",
      "\n",
      "  warnings.warn(\n",
      "/home/wizzzet/ds/data-science/venv/lib/python3.8/site-packages/sklearn/model_selection/_validation.py:771: UserWarning: Scoring failed. The score on this train-test partition for these parameters will be set to nan. Details: \n",
      "Traceback (most recent call last):\n",
      "  File \"/home/wizzzet/ds/data-science/venv/lib/python3.8/site-packages/sklearn/model_selection/_validation.py\", line 762, in _score\n",
      "    scores = scorer(estimator, X_test, y_test)\n",
      "  File \"/home/wizzzet/ds/data-science/venv/lib/python3.8/site-packages/sklearn/metrics/_scorer.py\", line 103, in __call__\n",
      "    score = scorer._score(cached_call, estimator, *args, **kwargs)\n",
      "  File \"/home/wizzzet/ds/data-science/venv/lib/python3.8/site-packages/sklearn/metrics/_scorer.py\", line 264, in _score\n",
      "    return self._sign * self._score_func(y_true, y_pred, **self._kwargs)\n",
      "  File \"/home/wizzzet/ds/data-science/venv/lib/python3.8/site-packages/sklearn/metrics/_classification.py\", line 205, in accuracy_score\n",
      "    y_type, y_true, y_pred = _check_targets(y_true, y_pred)\n",
      "  File \"/home/wizzzet/ds/data-science/venv/lib/python3.8/site-packages/sklearn/metrics/_classification.py\", line 93, in _check_targets\n",
      "    raise ValueError(\n",
      "ValueError: Classification metrics can't handle a mix of multiclass and continuous targets\n",
      "\n",
      "  warnings.warn(\n",
      "/home/wizzzet/ds/data-science/venv/lib/python3.8/site-packages/sklearn/model_selection/_validation.py:771: UserWarning: Scoring failed. The score on[Parallel(n_jobs=-1)]: Done  10 out of  10 | elapsed:    0.4s finished\n",
      " this train-test partition for these parameters will be set to nan. Details: \n",
      "Traceback (most recent call last):\n",
      "  File \"/home/wizzzet/ds/data-science/venv/lib/python3.8/site-packages/sklearn/model_selection/_validation.py\", line 762, in _score\n",
      "    scores = scorer(estimator, X_test, y_test)\n",
      "  File \"/home/wizzzet/ds/data-science/venv/lib/python3.8/site-packages/sklearn/metrics/_scorer.py\", line 103, in __call__\n",
      "    score = scorer._score(cached_call, estimator, *args, **kwargs)\n",
      "  File \"/home/wizzzet/ds/data-science/venv/lib/python3.8/site-packages/sklearn/metrics/_scorer.py\", line 264, in _score\n",
      "    return self._sign * self._score_func(y_true, y_pred, **self._kwargs)\n",
      "  File \"/home/wizzzet/ds/data-science/venv/lib/python3.8/site-packages/sklearn/metrics/_classification.py\", line 205, in accuracy_score\n",
      "    y_type, y_true, y_pred = _check_targets(y_true, y_pred)\n",
      "  File \"/home/wizzzet/ds/data-science/venv/lib/python3.8/site-packages/sklearn/metrics/_classification.py\", line 93, in _check_targets\n",
      "    raise ValueError(\n",
      "ValueError: Classification metrics can't handle a mix of multiclass and continuous targets\n",
      "\n",
      "  warnings.warn(\n",
      "/home/wizzzet/ds/data-science/venv/lib/python3.8/site-packages/sklearn/model_selection/_validation.py:771: UserWarning: Scoring failed. The score on this train-test partition for these parameters will be set to nan. Details: \n",
      "Traceback (most recent call last):\n",
      "  File \"/home/wizzzet/ds/data-science/venv/lib/python3.8/site-packages/sklearn/model_selection/_validation.py\", line 762, in _score\n",
      "    scores = scorer(estimator, X_test, y_test)\n",
      "  File \"/home/wizzzet/ds/data-science/venv/lib/python3.8/site-packages/sklearn/metrics/_scorer.py\", line 103, in __call__\n",
      "    score = scorer._score(cached_call, estimator, *args, **kwargs)\n",
      "  File \"/home/wizzzet/ds/data-science/venv/lib/python3.8/site-packages/sklearn/metrics/_scorer.py\", line 264, in _score\n",
      "    return self._sign * self._score_func(y_true, y_pred, **self._kwargs)\n",
      "  File \"/home/wizzzet/ds/data-science/venv/lib/python3.8/site-packages/sklearn/metrics/_classification.py\", line 205, in accuracy_score\n",
      "    y_type, y_true, y_pred = _check_targets(y_true, y_pred)\n",
      "  File \"/home/wizzzet/ds/data-science/venv/lib/python3.8/site-packages/sklearn/metrics/_classification.py\", line 93, in _check_targets\n",
      "    raise ValueError(\n",
      "ValueError: Classification metrics can't handle a mix of multiclass and continuous targets\n",
      "\n",
      "  warnings.warn(\n",
      "/home/wizzzet/ds/data-science/venv/lib/python3.8/site-packages/sklearn/model_selection/_validation.py:771: UserWarning: Scoring failed. The score on this train-test partition for these parameters will be set to nan. Details: \n",
      "Traceback (most recent call last):\n",
      "  File \"/home/wizzzet/ds/data-science/venv/lib/python3.8/site-packages/sklearn/model_selection/_validation.py\", line 762, in _score\n",
      "    scores = scorer(estimator, X_test, y_test)\n",
      "  File \"/home/wizzzet/ds/data-science/venv/lib/python3.8/site-packages/sklearn/metrics/_scorer.py\", line 103, in __call__\n",
      "    score = scorer._score(cached_call, estimator, *args, **kwargs)\n",
      "  File \"/home/wizzzet/ds/data-science/venv/lib/python3.8/site-packages/sklearn/metrics/_scorer.py\", line 264, in _score\n",
      "    return self._sign * self._score_func(y_true, y_pred, **self._kwargs)\n",
      "  File \"/home/wizzzet/ds/data-science/venv/lib/python3.8/site-packages/sklearn/metrics/_classification.py\", line 205, in accuracy_score\n",
      "    y_type, y_true, y_pred = _check_targets(y_true, y_pred)\n",
      "  File \"/home/wizzzet/ds/data-science/venv/lib/python3.8/site-packages/sklearn/metrics/_classification.py\", line 93, in _check_targets\n",
      "    raise ValueError(\n",
      "ValueError: Classification metrics can't handle a mix of multiclass and continuous targets\n",
      "\n",
      "  warnings.warn(\n"
     ]
    }
   ],
   "source": [
    "results = {}\n",
    "for sample_name, sample in {\n",
    "    'all_scaled': X_scaled,  # 'all': X_all,\n",
    "    'vectors_scaled': X_vectors_scaled,  # 'vectors': X_vectors,\n",
    "    'stats_scaled': X_stats_scaled,  # 'stats': X_stats,\n",
    "    'mean_scaled': X_mean_scaled  'mean': X_mean\n",
    "}.items():\n",
    "    folds = 10\n",
    "    verbose = 3  # 0\n",
    "    models = {}\n",
    "    ## models['DecisionTreeClassifier'] = DecisionTreeClassifier(max_depth=8)\n",
    "    ## models['LogisticRegression'] = LogisticRegression(multi_class='multinomial')\n",
    "    ## models['BernoulliNB'] = BernoulliNB()\n",
    "    models['KNeighborsClassifier'] = KNeighborsClassifier(n_neighbors=9)\n",
    "    models['RandomForestClassifier'] = RandomForestClassifier(max_depth=10, min_samples_split=5, n_estimators=300)\n",
    "    models['RandomForestClassifier'] = RandomForestClassifier(max_depth=10, min_samples_split=5, n_estimators=300)\n",
    "    AdaBoostClassifier\n",
    "    models['SVC'] = SVC(cache_size=1500, verbose=3, kernel='rbf', gamma=.7, C=2.)\n",
    "    \n",
    "    for name, model in models.items():\n",
    "        if name == 'BernoulliNB' and sample_name.endswith('scaled'):\n",
    "            continue\n",
    "\n",
    "        print(f'{sample_name}: {name}...')\n",
    "        k_fold = KFold(n_splits=folds)\n",
    "        res = cross_val_score(model, sample, y, cv=k_fold, scoring='accuracy', n_jobs=-1, verbose=verbose)\n",
    "        print(f'{sample_name}: {name}: {res.mean()}')\n",
    "        results[f'{sample_name} - {name}'] = res.mean()"
   ]
  },
  {
   "cell_type": "code",
   "execution_count": 40,
   "id": "666faa7e",
   "metadata": {},
   "outputs": [
    {
     "data": {
      "text/plain": [
       "[('all_scaled - SVC', 0.7352027027027027),\n",
       " ('all - SVC', 0.7058896396396397),\n",
       " ('vectors_scaled - SVC', 0.6782432432432433),\n",
       " ('mean_scaled - SVC', 0.6709121621621621),\n",
       " ('mean - SVC', 0.64740990990991),\n",
       " ('mean - KNeighborsClassifier', 0.6471283783783784),\n",
       " ('all_scaled - KNeighborsClassifier', 0.6413963963963965),\n",
       " ('all - RandomForestClassifier', 0.6370608108108108),\n",
       " ('all_scaled - RandomForestClassifier', 0.6370045045045044),\n",
       " ('vectors - SVC', 0.6327815315315315),\n",
       " ('mean_scaled - KNeighborsClassifier', 0.6303378378378379),\n",
       " ('vectors - KNeighborsClassifier', 0.6262837837837838),\n",
       " ('vectors_scaled - KNeighborsClassifier', 0.6211711711711712),\n",
       " ('all - KNeighborsClassifier', 0.6117680180180181),\n",
       " ('all_scaled - LogisticRegression', 0.605045045045045),\n",
       " ('mean - RandomForestClassifier', 0.5834572072072072),\n",
       " ('mean_scaled - RandomForestClassifier', 0.5829617117117117),\n",
       " ('all - LogisticRegression', 0.5777027027027026),\n",
       " ('vectors_scaled - RandomForestClassifier', 0.5314977477477478),\n",
       " ('vectors - RandomForestClassifier', 0.53115990990991),\n",
       " ('mean_scaled - LogisticRegression', 0.5135022522522522),\n",
       " ('mean - LogisticRegression', 0.48957207207207204),\n",
       " ('all_scaled - DecisionTreeClassifier', 0.4630405405405405),\n",
       " ('all - DecisionTreeClassifier', 0.46300675675675673),\n",
       " ('mean_scaled - DecisionTreeClassifier', 0.43733108108108115),\n",
       " ('mean - DecisionTreeClassifier', 0.4372972972972973),\n",
       " ('vectors_scaled - LogisticRegression', 0.40462837837837834),\n",
       " ('vectors - LogisticRegression', 0.37352477477477475),\n",
       " ('stats_scaled - SVC', 0.33869369369369373),\n",
       " ('stats - SVC', 0.3326801801801802),\n",
       " ('stats_scaled - RandomForestClassifier', 0.3174436936936937),\n",
       " ('stats - RandomForestClassifier', 0.31722972972972974),\n",
       " ('vectors - DecisionTreeClassifier', 0.3045945945945946),\n",
       " ('vectors_scaled - DecisionTreeClassifier', 0.3045833333333333),\n",
       " ('stats_scaled - LogisticRegression', 0.286768018018018),\n",
       " ('stats - KNeighborsClassifier', 0.28560810810810816),\n",
       " ('stats_scaled - KNeighborsClassifier', 0.2827815315315315),\n",
       " ('stats - LogisticRegression', 0.25445945945945947),\n",
       " ('stats_scaled - DecisionTreeClassifier', 0.25292792792792795),\n",
       " ('stats - DecisionTreeClassifier', 0.2529166666666667),\n",
       " ('all - BernoulliNB', 0.21275900900900901),\n",
       " ('stats - BernoulliNB', 0.18010135135135136),\n",
       " ('vectors - BernoulliNB', 0.09990990990990992),\n",
       " ('mean - BernoulliNB', 0.09951576576576576)]"
      ]
     },
     "execution_count": 40,
     "metadata": {},
     "output_type": "execute_result"
    }
   ],
   "source": [
    "results1 = []\n",
    "for sample_name, res in results.items():\n",
    "    results1.extend((f'{sample_name} - {model}', score) for model, score in res.items())\n",
    "sorted(results1, key=lambda x: x[1], reverse=True)"
   ]
  },
  {
   "cell_type": "code",
   "execution_count": null,
   "id": "fcc6a609",
   "metadata": {},
   "outputs": [],
   "source": [
    "results"
   ]
  },
  {
   "cell_type": "code",
   "execution_count": null,
   "id": "54ac4a77",
   "metadata": {},
   "outputs": [],
   "source": [
    "results"
   ]
  },
  {
   "cell_type": "code",
   "execution_count": 57,
   "id": "7ad70377",
   "metadata": {},
   "outputs": [],
   "source": [
    "def do_pca(n_components, data):\n",
    "  pca = PCA(n_components)\n",
    "  X_pca = pca.fit_transform(data)\n",
    "\n",
    "  return pca, X_pca"
   ]
  },
  {
   "cell_type": "code",
   "execution_count": 55,
   "id": "9bef26a7",
   "metadata": {},
   "outputs": [
    {
     "name": "stdout",
     "output_type": "stream",
     "text": [
      "RandomForest: (14800,) [12 14 10 15 12  1  1 18 18 17]\n"
     ]
    }
   ],
   "source": [
    "clf = RandomForestClassifier(max_depth=12, min_samples_split=5, n_estimators=550, n_jobs=-1, verbose=0)\n",
    "clf.fit(X_all, y)\n",
    "\n",
    "y_pred = clf.predict(X_all_test)\n",
    "print(f'RandomForest:', y_pred.shape, y_pred[:10])\n",
    "\n",
    "submission = pd.DataFrame({'Id': np.arange(1, X_all_test.shape[0] + 1), 'Category': y_pred})\n",
    "submission.to_csv(f'jds3/kaggle_mnist_vect_rf_test.csv', index=False)"
   ]
  },
  {
   "cell_type": "code",
   "execution_count": null,
   "id": "9fcf6546",
   "metadata": {},
   "outputs": [],
   "source": [
    "clf = SVC(cache_size=1500, verbose=1, kernel='rbf', gamma=.8, C=1.5)\n",
    "k_fold = KFold(n_splits=10)\n",
    "res = cross_val_score(clf, X_scaled, y, cv=k_fold, scoring='accuracy', n_jobs=-1, verbose=1)\n",
    "print(res)"
   ]
  },
  {
   "cell_type": "code",
   "execution_count": null,
   "id": "5e91fc64",
   "metadata": {},
   "outputs": [],
   "source": [
    "clf = SVC(gamma=0.5, kernel='poly')\n",
    "clf.fit(X_all, y)\n",
    "y_pred = clf.predict(X_all_test)\n",
    "print(f'SVC:', y_pred.shape, y_pred[:10])\n",
    "\n",
    "submission = pd.DataFrame({'Id': np.arange(1, X_all_test.shape[0] + 1), 'Category': y_pred})\n",
    "submission.to_csv(f'jds3/kaggle_mnist_vect_svc_test2.csv', index=False)"
   ]
  },
  {
   "cell_type": "code",
   "execution_count": 72,
   "id": "2c767285",
   "metadata": {},
   "outputs": [
    {
     "name": "stdout",
     "output_type": "stream",
     "text": [
      "\n",
      "<class 'sklearn.svm._classes.SVC'>\n",
      "n_iterations: 7\n",
      "n_required_iterations: 7\n",
      "n_possible_iterations: 12\n",
      "min_resources_: 35\n",
      "max_resources_: 75480\n",
      "aggressive_elimination: False\n",
      "factor: 2\n",
      "----------\n",
      "iter: 0\n",
      "n_candidates: 75\n",
      "n_resources: 35\n",
      "Fitting 5 folds for each of 75 candidates, totalling 375 fits\n",
      "----------\n",
      "iter: 1\n",
      "n_candidates: 38\n",
      "n_resources: 70\n",
      "Fitting 5 folds for each of 38 candidates, totalling 190 fits\n",
      "----------\n",
      "iter: 2\n",
      "n_candidates: 19\n",
      "n_resources: 140\n",
      "Fitting 5 folds for each of 19 candidates, totalling 95 fits\n",
      "----------\n",
      "iter: 3\n",
      "n_candidates: 10\n",
      "n_resources: 280\n",
      "Fitting 5 folds for each of 10 candidates, totalling 50 fits\n",
      "----------\n",
      "iter: 4\n",
      "n_candidates: 5\n",
      "n_resources: 560\n",
      "Fitting 5 folds for each of 5 candidates, totalling 25 fits\n",
      "----------\n",
      "iter: 5\n",
      "n_candidates: 3\n",
      "n_resources: 1120\n",
      "Fitting 5 folds for each of 3 candidates, totalling 15 fits\n",
      "----------\n",
      "iter: 6\n",
      "n_candidates: 2\n",
      "n_resources: 2240\n",
      "Fitting 5 folds for each of 2 candidates, totalling 10 fits\n",
      "best_params_ {'C': 1.0, 'gamma': 0.5, 'kernel': 'poly'}\n",
      "best_score_ 0.5147321428571429\n",
      "best_estimator_ SVC(gamma=0.5, kernel='poly')\n"
     ]
    }
   ],
   "source": [
    "# выберем лучшие гиперпараметры\n",
    "X_train, X_val, y_train, y_val = train_test_split(X_scaled, y, test_size=.15, random_state=40)\n",
    "\n",
    "params_svc = {\n",
    "    'C': (0.005, 0.01, 0.1, 1.0, 4.),\n",
    "    'kernel': ('sigmoid', 'rbf', 'poly'),\n",
    "    'gamma': (.1, .5, .7, 1., 1.5)\n",
    "}\n",
    "verbose = 1\n",
    "\n",
    "grids = {}\n",
    "for classifier, params in ((SVC, params_svc),):\n",
    "    print(f'\\n{classifier}')\n",
    "    search = HalvingGridSearchCV(\n",
    "    classifier(), params, cv=5, factor=2, min_resources=35,\n",
    "        n_jobs=-1, verbose=verbose\n",
    "    ).fit(X_train, y_train)\n",
    "\n",
    "    grids[classifier] = search\n",
    "    print('best_params_', search.best_params_)\n",
    "    print('best_score_', search.best_score_)\n",
    "    print('best_estimator_', search.best_estimator_)"
   ]
  }
 ],
 "metadata": {
  "kernelspec": {
   "display_name": "Python 3 (ipykernel)",
   "language": "python",
   "name": "python3"
  },
  "language_info": {
   "codemirror_mode": {
    "name": "ipython",
    "version": 3
   },
   "file_extension": ".py",
   "mimetype": "text/x-python",
   "name": "python",
   "nbconvert_exporter": "python",
   "pygments_lexer": "ipython3",
   "version": "3.8.10"
  }
 },
 "nbformat": 4,
 "nbformat_minor": 5
}
